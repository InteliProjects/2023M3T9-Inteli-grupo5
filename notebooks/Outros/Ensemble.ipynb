{
 "cells": [
  {
   "cell_type": "code",
   "execution_count": 49,
   "metadata": {},
   "outputs": [],
   "source": [
    "%store -r df_final"
   ]
  },
  {
   "cell_type": "code",
   "execution_count": 50,
   "metadata": {},
   "outputs": [
    {
     "name": "stdout",
     "output_type": "stream",
     "text": [
      "Requirement already satisfied: xgboost in d:\\programas\\anaconda\\lib\\site-packages (2.0.0)\n",
      "Requirement already satisfied: numpy in d:\\programas\\anaconda\\lib\\site-packages (from xgboost) (1.24.3)\n",
      "Requirement already satisfied: scipy in d:\\programas\\anaconda\\lib\\site-packages (from xgboost) (1.11.1)\n"
     ]
    }
   ],
   "source": [
    "!pip install xgboost\n",
    "from sklearn.ensemble import RandomForestRegressor, GradientBoostingRegressor\n",
    "from sklearn.model_selection import train_test_split, GridSearchCV\n",
    "from sklearn.metrics import *\n",
    "from sklearn.feature_selection import RFECV, SelectFromModel\n",
    "from sklearn.pipeline import Pipeline\n",
    "from sklearn.model_selection import cross_val_score\n",
    "from xgboost import XGBRegressor\n",
    "from sklearn.preprocessing import StandardScaler, RobustScaler\n",
    "import numpy as np"
   ]
  },
  {
   "cell_type": "code",
   "execution_count": 51,
   "metadata": {},
   "outputs": [],
   "source": [
    "from sklearn.model_selection import StratifiedShuffleSplit\n",
    "\n",
    "X = df_final\n",
    "y = df_final['sku_encoded']\n",
    "\n",
    "# Criar um objeto StratifiedShuffleSplit\n",
    "sss = StratifiedShuffleSplit(n_splits=1, test_size=0.5, random_state=0)\n",
    "\n",
    "# Obter os índices para a divisão\n",
    "for indice_a, indice_b in sss.split(X, y):\n",
    "    dados_a = df_final.iloc[indice_a]\n",
    "    dados_b = df_final.iloc[indice_b]\n"
   ]
  },
  {
   "cell_type": "code",
   "execution_count": 52,
   "metadata": {},
   "outputs": [],
   "source": [
    "featuresModels = ['ano', 'semana_do_ano', 'unit_price',\n",
    "       'sku_height', 'sku_width', 'sku_length', 'sku_weight',\n",
    "       'avg_website_visits_last_week', 'supplier_delivery_time',\n",
    "       'shipment_type_crossdocking', 'shipment_type_próprio',\n",
    "       'product_department_Cama e Banho', 'product_department_Decoração',\n",
    "       'product_department_Gamer', 'product_department_Infantil',\n",
    "       'product_department_Keva', 'product_department_Móveis',\n",
    "       'origin_country_Importado', 'origin_country_Nacional',\n",
    "       'process_costing_no', 'process_costing_yes',\n",
    "       'flag_bundle_SKU vendido em conjunto ou sozinho',\n",
    "       'flag_bundle_SKU vendido somente sozinho', 'has_stock_não',\n",
    "       'has_stock_tem', 'color_encoded', 'sku_encoded',\n",
    "       'anchor_category_encoded', 'product_category_encoded',\n",
    "       'dollar_quotation']"
   ]
  },
  {
   "cell_type": "code",
   "execution_count": 53,
   "metadata": {},
   "outputs": [],
   "source": [
    "dados_a.reset_index(inplace=True, drop=True)"
   ]
  },
  {
   "cell_type": "code",
   "execution_count": 54,
   "metadata": {},
   "outputs": [],
   "source": [
    "#Criando um dataframe a partir do df_final, agora readaptado para as features selecionadas\n",
    "df_parameters = dados_a.drop(columns=df_final.columns.difference(featuresModels))\n",
    "\n",
    "# Separando as variáveis independentes e dependentes (X e Y)\n",
    "X_a = df_parameters\n",
    "y_a = dados_a['items_sold']\n",
    "\n",
    "# Dividindo o conjunto de dados em conjuntos de treinamento e teste\n",
    "X_a_train, X_a_test, y_a_train, y_a_test = train_test_split(X_a, y_a, test_size=0.2, random_state=95)\n"
   ]
  },
  {
   "cell_type": "code",
   "execution_count": 55,
   "metadata": {},
   "outputs": [
    {
     "data": {
      "text/html": [
       "<style>#sk-container-id-10 {color: black;}#sk-container-id-10 pre{padding: 0;}#sk-container-id-10 div.sk-toggleable {background-color: white;}#sk-container-id-10 label.sk-toggleable__label {cursor: pointer;display: block;width: 100%;margin-bottom: 0;padding: 0.3em;box-sizing: border-box;text-align: center;}#sk-container-id-10 label.sk-toggleable__label-arrow:before {content: \"▸\";float: left;margin-right: 0.25em;color: #696969;}#sk-container-id-10 label.sk-toggleable__label-arrow:hover:before {color: black;}#sk-container-id-10 div.sk-estimator:hover label.sk-toggleable__label-arrow:before {color: black;}#sk-container-id-10 div.sk-toggleable__content {max-height: 0;max-width: 0;overflow: hidden;text-align: left;background-color: #f0f8ff;}#sk-container-id-10 div.sk-toggleable__content pre {margin: 0.2em;color: black;border-radius: 0.25em;background-color: #f0f8ff;}#sk-container-id-10 input.sk-toggleable__control:checked~div.sk-toggleable__content {max-height: 200px;max-width: 100%;overflow: auto;}#sk-container-id-10 input.sk-toggleable__control:checked~label.sk-toggleable__label-arrow:before {content: \"▾\";}#sk-container-id-10 div.sk-estimator input.sk-toggleable__control:checked~label.sk-toggleable__label {background-color: #d4ebff;}#sk-container-id-10 div.sk-label input.sk-toggleable__control:checked~label.sk-toggleable__label {background-color: #d4ebff;}#sk-container-id-10 input.sk-hidden--visually {border: 0;clip: rect(1px 1px 1px 1px);clip: rect(1px, 1px, 1px, 1px);height: 1px;margin: -1px;overflow: hidden;padding: 0;position: absolute;width: 1px;}#sk-container-id-10 div.sk-estimator {font-family: monospace;background-color: #f0f8ff;border: 1px dotted black;border-radius: 0.25em;box-sizing: border-box;margin-bottom: 0.5em;}#sk-container-id-10 div.sk-estimator:hover {background-color: #d4ebff;}#sk-container-id-10 div.sk-parallel-item::after {content: \"\";width: 100%;border-bottom: 1px solid gray;flex-grow: 1;}#sk-container-id-10 div.sk-label:hover label.sk-toggleable__label {background-color: #d4ebff;}#sk-container-id-10 div.sk-serial::before {content: \"\";position: absolute;border-left: 1px solid gray;box-sizing: border-box;top: 0;bottom: 0;left: 50%;z-index: 0;}#sk-container-id-10 div.sk-serial {display: flex;flex-direction: column;align-items: center;background-color: white;padding-right: 0.2em;padding-left: 0.2em;position: relative;}#sk-container-id-10 div.sk-item {position: relative;z-index: 1;}#sk-container-id-10 div.sk-parallel {display: flex;align-items: stretch;justify-content: center;background-color: white;position: relative;}#sk-container-id-10 div.sk-item::before, #sk-container-id-10 div.sk-parallel-item::before {content: \"\";position: absolute;border-left: 1px solid gray;box-sizing: border-box;top: 0;bottom: 0;left: 50%;z-index: -1;}#sk-container-id-10 div.sk-parallel-item {display: flex;flex-direction: column;z-index: 1;position: relative;background-color: white;}#sk-container-id-10 div.sk-parallel-item:first-child::after {align-self: flex-end;width: 50%;}#sk-container-id-10 div.sk-parallel-item:last-child::after {align-self: flex-start;width: 50%;}#sk-container-id-10 div.sk-parallel-item:only-child::after {width: 0;}#sk-container-id-10 div.sk-dashed-wrapped {border: 1px dashed gray;margin: 0 0.4em 0.5em 0.4em;box-sizing: border-box;padding-bottom: 0.4em;background-color: white;}#sk-container-id-10 div.sk-label label {font-family: monospace;font-weight: bold;display: inline-block;line-height: 1.2em;}#sk-container-id-10 div.sk-label-container {text-align: center;}#sk-container-id-10 div.sk-container {/* jupyter's `normalize.less` sets `[hidden] { display: none; }` but bootstrap.min.css set `[hidden] { display: none !important; }` so we also need the `!important` here to be able to override the default hidden behavior on the sphinx rendered scikit-learn.org. See: https://github.com/scikit-learn/scikit-learn/issues/21755 */display: inline-block !important;position: relative;}#sk-container-id-10 div.sk-text-repr-fallback {display: none;}</style><div id=\"sk-container-id-10\" class=\"sk-top-container\"><div class=\"sk-text-repr-fallback\"><pre>GradientBoostingRegressor(random_state=42)</pre><b>In a Jupyter environment, please rerun this cell to show the HTML representation or trust the notebook. <br />On GitHub, the HTML representation is unable to render, please try loading this page with nbviewer.org.</b></div><div class=\"sk-container\" hidden><div class=\"sk-item\"><div class=\"sk-estimator sk-toggleable\"><input class=\"sk-toggleable__control sk-hidden--visually\" id=\"sk-estimator-id-10\" type=\"checkbox\" checked><label for=\"sk-estimator-id-10\" class=\"sk-toggleable__label sk-toggleable__label-arrow\">GradientBoostingRegressor</label><div class=\"sk-toggleable__content\"><pre>GradientBoostingRegressor(random_state=42)</pre></div></div></div></div></div>"
      ],
      "text/plain": [
       "GradientBoostingRegressor(random_state=42)"
      ]
     },
     "execution_count": 55,
     "metadata": {},
     "output_type": "execute_result"
    }
   ],
   "source": [
    "# Instanciando o modelo com os hiperparâmetros definidos\n",
    "xgb_reg = XGBRegressor(random_state=42)\n",
    "xgb_reg.fit(X_a_train, y_a_train)\n",
    "\n",
    "rf = RandomForestRegressor(random_state=42)\n",
    "rf.fit(X_a_train, y_a_train)\n",
    "\n",
    "gbr = GradientBoostingRegressor(random_state=42)\n",
    "gbr.fit(X_a_train, y_a_train)\n"
   ]
  },
  {
   "cell_type": "code",
   "execution_count": 56,
   "metadata": {},
   "outputs": [],
   "source": [
    "xgb_pred = xgb_reg.predict(X_a_test)\n",
    "rf_pred = rf.predict(X_a_test)\n",
    "gbr_pred = gbr.predict(X_a_test)"
   ]
  },
  {
   "cell_type": "code",
   "execution_count": 57,
   "metadata": {},
   "outputs": [
    {
     "data": {
      "text/html": [
       "<style>#sk-container-id-11 {color: black;}#sk-container-id-11 pre{padding: 0;}#sk-container-id-11 div.sk-toggleable {background-color: white;}#sk-container-id-11 label.sk-toggleable__label {cursor: pointer;display: block;width: 100%;margin-bottom: 0;padding: 0.3em;box-sizing: border-box;text-align: center;}#sk-container-id-11 label.sk-toggleable__label-arrow:before {content: \"▸\";float: left;margin-right: 0.25em;color: #696969;}#sk-container-id-11 label.sk-toggleable__label-arrow:hover:before {color: black;}#sk-container-id-11 div.sk-estimator:hover label.sk-toggleable__label-arrow:before {color: black;}#sk-container-id-11 div.sk-toggleable__content {max-height: 0;max-width: 0;overflow: hidden;text-align: left;background-color: #f0f8ff;}#sk-container-id-11 div.sk-toggleable__content pre {margin: 0.2em;color: black;border-radius: 0.25em;background-color: #f0f8ff;}#sk-container-id-11 input.sk-toggleable__control:checked~div.sk-toggleable__content {max-height: 200px;max-width: 100%;overflow: auto;}#sk-container-id-11 input.sk-toggleable__control:checked~label.sk-toggleable__label-arrow:before {content: \"▾\";}#sk-container-id-11 div.sk-estimator input.sk-toggleable__control:checked~label.sk-toggleable__label {background-color: #d4ebff;}#sk-container-id-11 div.sk-label input.sk-toggleable__control:checked~label.sk-toggleable__label {background-color: #d4ebff;}#sk-container-id-11 input.sk-hidden--visually {border: 0;clip: rect(1px 1px 1px 1px);clip: rect(1px, 1px, 1px, 1px);height: 1px;margin: -1px;overflow: hidden;padding: 0;position: absolute;width: 1px;}#sk-container-id-11 div.sk-estimator {font-family: monospace;background-color: #f0f8ff;border: 1px dotted black;border-radius: 0.25em;box-sizing: border-box;margin-bottom: 0.5em;}#sk-container-id-11 div.sk-estimator:hover {background-color: #d4ebff;}#sk-container-id-11 div.sk-parallel-item::after {content: \"\";width: 100%;border-bottom: 1px solid gray;flex-grow: 1;}#sk-container-id-11 div.sk-label:hover label.sk-toggleable__label {background-color: #d4ebff;}#sk-container-id-11 div.sk-serial::before {content: \"\";position: absolute;border-left: 1px solid gray;box-sizing: border-box;top: 0;bottom: 0;left: 50%;z-index: 0;}#sk-container-id-11 div.sk-serial {display: flex;flex-direction: column;align-items: center;background-color: white;padding-right: 0.2em;padding-left: 0.2em;position: relative;}#sk-container-id-11 div.sk-item {position: relative;z-index: 1;}#sk-container-id-11 div.sk-parallel {display: flex;align-items: stretch;justify-content: center;background-color: white;position: relative;}#sk-container-id-11 div.sk-item::before, #sk-container-id-11 div.sk-parallel-item::before {content: \"\";position: absolute;border-left: 1px solid gray;box-sizing: border-box;top: 0;bottom: 0;left: 50%;z-index: -1;}#sk-container-id-11 div.sk-parallel-item {display: flex;flex-direction: column;z-index: 1;position: relative;background-color: white;}#sk-container-id-11 div.sk-parallel-item:first-child::after {align-self: flex-end;width: 50%;}#sk-container-id-11 div.sk-parallel-item:last-child::after {align-self: flex-start;width: 50%;}#sk-container-id-11 div.sk-parallel-item:only-child::after {width: 0;}#sk-container-id-11 div.sk-dashed-wrapped {border: 1px dashed gray;margin: 0 0.4em 0.5em 0.4em;box-sizing: border-box;padding-bottom: 0.4em;background-color: white;}#sk-container-id-11 div.sk-label label {font-family: monospace;font-weight: bold;display: inline-block;line-height: 1.2em;}#sk-container-id-11 div.sk-label-container {text-align: center;}#sk-container-id-11 div.sk-container {/* jupyter's `normalize.less` sets `[hidden] { display: none; }` but bootstrap.min.css set `[hidden] { display: none !important; }` so we also need the `!important` here to be able to override the default hidden behavior on the sphinx rendered scikit-learn.org. See: https://github.com/scikit-learn/scikit-learn/issues/21755 */display: inline-block !important;position: relative;}#sk-container-id-11 div.sk-text-repr-fallback {display: none;}</style><div id=\"sk-container-id-11\" class=\"sk-top-container\"><div class=\"sk-text-repr-fallback\"><pre>RandomForestRegressor()</pre><b>In a Jupyter environment, please rerun this cell to show the HTML representation or trust the notebook. <br />On GitHub, the HTML representation is unable to render, please try loading this page with nbviewer.org.</b></div><div class=\"sk-container\" hidden><div class=\"sk-item\"><div class=\"sk-estimator sk-toggleable\"><input class=\"sk-toggleable__control sk-hidden--visually\" id=\"sk-estimator-id-11\" type=\"checkbox\" checked><label for=\"sk-estimator-id-11\" class=\"sk-toggleable__label sk-toggleable__label-arrow\">RandomForestRegressor</label><div class=\"sk-toggleable__content\"><pre>RandomForestRegressor()</pre></div></div></div></div></div>"
      ],
      "text/plain": [
       "RandomForestRegressor()"
      ]
     },
     "execution_count": 57,
     "metadata": {},
     "output_type": "execute_result"
    }
   ],
   "source": [
    "# Combinando as predições\n",
    "X_test_meta = np.column_stack((xgb_pred, rf_pred, gbr_pred))\n",
    "\n",
    "# Treinando o modelo meta\n",
    "meta_model = RandomForestRegressor()\n",
    "meta_model.fit(X_test_meta, y_a_test)"
   ]
  },
  {
   "cell_type": "code",
   "execution_count": 58,
   "metadata": {},
   "outputs": [
    {
     "name": "stdout",
     "output_type": "stream",
     "text": [
      "Feature ranking:  [1 1 1]\n"
     ]
    }
   ],
   "source": [
    "scorer = make_scorer(mean_squared_error, greater_is_better=False)\n",
    "rfe = RFECV(meta_model, step=1, cv=5, scoring=scorer, n_jobs=-1)\n",
    "rfe = rfe.fit(X_test_meta, y_a_test)\n",
    "print(\"Feature ranking: \", rfe.ranking_)"
   ]
  },
  {
   "cell_type": "code",
   "execution_count": 59,
   "metadata": {},
   "outputs": [
    {
     "name": "stdout",
     "output_type": "stream",
     "text": [
      "All features:  32\n",
      "['ano', 'semana_do_ano', 'unit_price', 'sku_height', 'sku_width', 'sku_length', 'sku_weight', 'avg_website_visits_last_week', 'supplier_delivery_time', 'shipment_type_crossdocking', 'shipment_type_próprio', 'product_department_Cama e Banho', 'product_department_Decoração', 'product_department_Gamer', 'product_department_Infantil', 'product_department_Keva', 'product_department_Móveis', 'origin_country_Importado', 'origin_country_Nacional', 'process_costing_no', 'process_costing_yes', 'flag_bundle_SKU vendido em conjunto ou sozinho', 'flag_bundle_SKU vendido somente sozinho', 'has_stock_não', 'has_stock_tem', 'color_encoded', 'sku_encoded', 'anchor_category_encoded', 'product_category_encoded', 'dollar_quotation']\n",
      "Selected best:  3\n",
      "['ano', 'semana_do_ano', 'unit_price']\n"
     ]
    }
   ],
   "source": [
    "mask = rfe.get_support()\n",
    "\n",
    "# Convertendo a mascara para um array de numpy para indexação\n",
    "mask = np.array(mask)\n",
    "\n",
    "# Usando indexação booleana para pegar as features selecionadas\n",
    "best_features = [feature for i, feature in enumerate(featuresModels) if i < len(mask) and mask[i]]\n",
    "\n",
    "print(\"All features: \", X.shape[1])\n",
    "print(featuresModels)\n",
    "\n",
    "print(\"Selected best: \", len(best_features))\n",
    "print(best_features)"
   ]
  },
  {
   "cell_type": "code",
   "execution_count": 60,
   "metadata": {},
   "outputs": [],
   "source": [
    "featuresModels = best_features"
   ]
  },
  {
   "cell_type": "code",
   "execution_count": 61,
   "metadata": {},
   "outputs": [],
   "source": [
    "# Criando a grid de parâmetros a serem testados\n",
    "param_grid = {\n",
    "    'n_estimators': [100,150,200],\n",
    "    'max_depth': [7,10,15],\n",
    "}\n",
    "\n",
    "# Definindo o \"score\" para avaliarmos qual será a melhor combinação de hiperparâmetros para o modelo\n",
    "scorer = make_scorer(mean_squared_error, greater_is_better=False)"
   ]
  },
  {
   "cell_type": "code",
   "execution_count": 62,
   "metadata": {},
   "outputs": [
    {
     "name": "stdout",
     "output_type": "stream",
     "text": [
      "Melhores Hiperparâmetros:  {'max_depth': 7, 'n_estimators': 200}\n",
      "Best Model RandomForestRegressor(max_depth=7, n_estimators=200)\n"
     ]
    }
   ],
   "source": [
    "# Realizando o grid search (remover n_jobs = -1 caso não queira usar todos os cores do computador)\n",
    "grid_search = GridSearchCV(estimator=meta_model, param_grid=param_grid, cv=5,scoring=scorer, n_jobs=-1, refit=True)\n",
    "\n",
    "grid_search.fit(X_test_meta, y_a_test)\n",
    "\n",
    "print(\"Melhores Hiperparâmetros: \", grid_search.best_params_)\n",
    "\n",
    "# Conseguindo os melhores estimadores\n",
    "best_meta_model = grid_search.best_estimator_\n",
    "\n",
    "print('Best Model', best_meta_model)"
   ]
  },
  {
   "cell_type": "code",
   "execution_count": 70,
   "metadata": {},
   "outputs": [
    {
     "data": {
      "text/html": [
       "<style>#sk-container-id-13 {color: black;}#sk-container-id-13 pre{padding: 0;}#sk-container-id-13 div.sk-toggleable {background-color: white;}#sk-container-id-13 label.sk-toggleable__label {cursor: pointer;display: block;width: 100%;margin-bottom: 0;padding: 0.3em;box-sizing: border-box;text-align: center;}#sk-container-id-13 label.sk-toggleable__label-arrow:before {content: \"▸\";float: left;margin-right: 0.25em;color: #696969;}#sk-container-id-13 label.sk-toggleable__label-arrow:hover:before {color: black;}#sk-container-id-13 div.sk-estimator:hover label.sk-toggleable__label-arrow:before {color: black;}#sk-container-id-13 div.sk-toggleable__content {max-height: 0;max-width: 0;overflow: hidden;text-align: left;background-color: #f0f8ff;}#sk-container-id-13 div.sk-toggleable__content pre {margin: 0.2em;color: black;border-radius: 0.25em;background-color: #f0f8ff;}#sk-container-id-13 input.sk-toggleable__control:checked~div.sk-toggleable__content {max-height: 200px;max-width: 100%;overflow: auto;}#sk-container-id-13 input.sk-toggleable__control:checked~label.sk-toggleable__label-arrow:before {content: \"▾\";}#sk-container-id-13 div.sk-estimator input.sk-toggleable__control:checked~label.sk-toggleable__label {background-color: #d4ebff;}#sk-container-id-13 div.sk-label input.sk-toggleable__control:checked~label.sk-toggleable__label {background-color: #d4ebff;}#sk-container-id-13 input.sk-hidden--visually {border: 0;clip: rect(1px 1px 1px 1px);clip: rect(1px, 1px, 1px, 1px);height: 1px;margin: -1px;overflow: hidden;padding: 0;position: absolute;width: 1px;}#sk-container-id-13 div.sk-estimator {font-family: monospace;background-color: #f0f8ff;border: 1px dotted black;border-radius: 0.25em;box-sizing: border-box;margin-bottom: 0.5em;}#sk-container-id-13 div.sk-estimator:hover {background-color: #d4ebff;}#sk-container-id-13 div.sk-parallel-item::after {content: \"\";width: 100%;border-bottom: 1px solid gray;flex-grow: 1;}#sk-container-id-13 div.sk-label:hover label.sk-toggleable__label {background-color: #d4ebff;}#sk-container-id-13 div.sk-serial::before {content: \"\";position: absolute;border-left: 1px solid gray;box-sizing: border-box;top: 0;bottom: 0;left: 50%;z-index: 0;}#sk-container-id-13 div.sk-serial {display: flex;flex-direction: column;align-items: center;background-color: white;padding-right: 0.2em;padding-left: 0.2em;position: relative;}#sk-container-id-13 div.sk-item {position: relative;z-index: 1;}#sk-container-id-13 div.sk-parallel {display: flex;align-items: stretch;justify-content: center;background-color: white;position: relative;}#sk-container-id-13 div.sk-item::before, #sk-container-id-13 div.sk-parallel-item::before {content: \"\";position: absolute;border-left: 1px solid gray;box-sizing: border-box;top: 0;bottom: 0;left: 50%;z-index: -1;}#sk-container-id-13 div.sk-parallel-item {display: flex;flex-direction: column;z-index: 1;position: relative;background-color: white;}#sk-container-id-13 div.sk-parallel-item:first-child::after {align-self: flex-end;width: 50%;}#sk-container-id-13 div.sk-parallel-item:last-child::after {align-self: flex-start;width: 50%;}#sk-container-id-13 div.sk-parallel-item:only-child::after {width: 0;}#sk-container-id-13 div.sk-dashed-wrapped {border: 1px dashed gray;margin: 0 0.4em 0.5em 0.4em;box-sizing: border-box;padding-bottom: 0.4em;background-color: white;}#sk-container-id-13 div.sk-label label {font-family: monospace;font-weight: bold;display: inline-block;line-height: 1.2em;}#sk-container-id-13 div.sk-label-container {text-align: center;}#sk-container-id-13 div.sk-container {/* jupyter's `normalize.less` sets `[hidden] { display: none; }` but bootstrap.min.css set `[hidden] { display: none !important; }` so we also need the `!important` here to be able to override the default hidden behavior on the sphinx rendered scikit-learn.org. See: https://github.com/scikit-learn/scikit-learn/issues/21755 */display: inline-block !important;position: relative;}#sk-container-id-13 div.sk-text-repr-fallback {display: none;}</style><div id=\"sk-container-id-13\" class=\"sk-top-container\"><div class=\"sk-text-repr-fallback\"><pre>RandomForestRegressor(max_depth=7, n_estimators=200)</pre><b>In a Jupyter environment, please rerun this cell to show the HTML representation or trust the notebook. <br />On GitHub, the HTML representation is unable to render, please try loading this page with nbviewer.org.</b></div><div class=\"sk-container\" hidden><div class=\"sk-item\"><div class=\"sk-estimator sk-toggleable\"><input class=\"sk-toggleable__control sk-hidden--visually\" id=\"sk-estimator-id-13\" type=\"checkbox\" checked><label for=\"sk-estimator-id-13\" class=\"sk-toggleable__label sk-toggleable__label-arrow\">RandomForestRegressor</label><div class=\"sk-toggleable__content\"><pre>RandomForestRegressor(max_depth=7, n_estimators=200)</pre></div></div></div></div></div>"
      ],
      "text/plain": [
       "RandomForestRegressor(max_depth=7, n_estimators=200)"
      ]
     },
     "execution_count": 70,
     "metadata": {},
     "output_type": "execute_result"
    }
   ],
   "source": [
    "# Combinando as predições\n",
    "X_test_meta = np.column_stack((xgb_pred, rf_pred, gbr_pred))\n",
    "\n",
    "# Treinando o modelo meta\n",
    "meta_model = best_meta_model\n",
    "meta_model.fit(X_test_meta, y_a_test)"
   ]
  },
  {
   "cell_type": "code",
   "execution_count": 71,
   "metadata": {},
   "outputs": [],
   "source": [
    "df_parameters = dados_b.drop(columns=df_final.columns.difference(featuresModels))\n",
    "\n",
    "X_b = df_parameters\n",
    "y_b = dados_b['items_sold']"
   ]
  },
  {
   "cell_type": "code",
   "execution_count": 72,
   "metadata": {},
   "outputs": [
    {
     "ename": "ValueError",
     "evalue": "feature_names mismatch: ['ano', 'semana_do_ano', 'unit_price', 'sku_height', 'sku_width', 'sku_length', 'sku_weight', 'avg_website_visits_last_week', 'supplier_delivery_time', 'shipment_type_crossdocking', 'shipment_type_próprio', 'product_department_Cama e Banho', 'product_department_Decoração', 'product_department_Gamer', 'product_department_Infantil', 'product_department_Keva', 'product_department_Móveis', 'origin_country_Importado', 'origin_country_Nacional', 'process_costing_no', 'process_costing_yes', 'flag_bundle_SKU vendido em conjunto ou sozinho', 'flag_bundle_SKU vendido somente sozinho', 'has_stock_não', 'has_stock_tem', 'color_encoded', 'sku_encoded', 'anchor_category_encoded', 'product_category_encoded', 'dollar_quotation'] ['ano', 'semana_do_ano', 'unit_price']\nexpected origin_country_Importado, product_department_Gamer, product_category_encoded, product_department_Infantil, flag_bundle_SKU vendido em conjunto ou sozinho, sku_width, product_department_Móveis, origin_country_Nacional, process_costing_no, has_stock_não, sku_encoded, product_department_Cama e Banho, anchor_category_encoded, shipment_type_crossdocking, sku_height, avg_website_visits_last_week, has_stock_tem, product_department_Keva, flag_bundle_SKU vendido somente sozinho, color_encoded, sku_weight, supplier_delivery_time, product_department_Decoração, shipment_type_próprio, dollar_quotation, process_costing_yes, sku_length in input data",
     "output_type": "error",
     "traceback": [
      "\u001b[1;31m---------------------------------------------------------------------------\u001b[0m",
      "\u001b[1;31mValueError\u001b[0m                                Traceback (most recent call last)",
      "\u001b[1;32mc:\\Users\\pedro\\OneDrive\\Área de Trabalho\\Code\\grupo5\\notebooks\\Ensemble.ipynb Cell 17\u001b[0m line \u001b[0;36m1\n\u001b[1;32m----> <a href='vscode-notebook-cell:/c%3A/Users/pedro/OneDrive/%C3%81rea%20de%20Trabalho/Code/grupo5/notebooks/Ensemble.ipynb#X16sZmlsZQ%3D%3D?line=0'>1</a>\u001b[0m xgb_pred_b \u001b[39m=\u001b[39m xgb_reg\u001b[39m.\u001b[39mpredict(X_b)\n\u001b[0;32m      <a href='vscode-notebook-cell:/c%3A/Users/pedro/OneDrive/%C3%81rea%20de%20Trabalho/Code/grupo5/notebooks/Ensemble.ipynb#X16sZmlsZQ%3D%3D?line=1'>2</a>\u001b[0m rf_pred_b \u001b[39m=\u001b[39m rf\u001b[39m.\u001b[39mpredict(X_b)\n\u001b[0;32m      <a href='vscode-notebook-cell:/c%3A/Users/pedro/OneDrive/%C3%81rea%20de%20Trabalho/Code/grupo5/notebooks/Ensemble.ipynb#X16sZmlsZQ%3D%3D?line=2'>3</a>\u001b[0m gbr_pred_b \u001b[39m=\u001b[39m gbr\u001b[39m.\u001b[39mpredict(X_b)\n",
      "File \u001b[1;32md:\\Programas\\Anaconda\\Lib\\site-packages\\xgboost\\sklearn.py:1164\u001b[0m, in \u001b[0;36mXGBModel.predict\u001b[1;34m(self, X, output_margin, validate_features, base_margin, iteration_range)\u001b[0m\n\u001b[0;32m   1162\u001b[0m \u001b[39mif\u001b[39;00m \u001b[39mself\u001b[39m\u001b[39m.\u001b[39m_can_use_inplace_predict():\n\u001b[0;32m   1163\u001b[0m     \u001b[39mtry\u001b[39;00m:\n\u001b[1;32m-> 1164\u001b[0m         predts \u001b[39m=\u001b[39m \u001b[39mself\u001b[39m\u001b[39m.\u001b[39mget_booster()\u001b[39m.\u001b[39minplace_predict(\n\u001b[0;32m   1165\u001b[0m             data\u001b[39m=\u001b[39mX,\n\u001b[0;32m   1166\u001b[0m             iteration_range\u001b[39m=\u001b[39miteration_range,\n\u001b[0;32m   1167\u001b[0m             predict_type\u001b[39m=\u001b[39m\u001b[39m\"\u001b[39m\u001b[39mmargin\u001b[39m\u001b[39m\"\u001b[39m \u001b[39mif\u001b[39;00m output_margin \u001b[39melse\u001b[39;00m \u001b[39m\"\u001b[39m\u001b[39mvalue\u001b[39m\u001b[39m\"\u001b[39m,\n\u001b[0;32m   1168\u001b[0m             missing\u001b[39m=\u001b[39m\u001b[39mself\u001b[39m\u001b[39m.\u001b[39mmissing,\n\u001b[0;32m   1169\u001b[0m             base_margin\u001b[39m=\u001b[39mbase_margin,\n\u001b[0;32m   1170\u001b[0m             validate_features\u001b[39m=\u001b[39mvalidate_features,\n\u001b[0;32m   1171\u001b[0m         )\n\u001b[0;32m   1172\u001b[0m         \u001b[39mif\u001b[39;00m _is_cupy_array(predts):\n\u001b[0;32m   1173\u001b[0m             \u001b[39mimport\u001b[39;00m \u001b[39mcupy\u001b[39;00m  \u001b[39m# pylint: disable=import-error\u001b[39;00m\n",
      "File \u001b[1;32md:\\Programas\\Anaconda\\Lib\\site-packages\\xgboost\\core.py:2416\u001b[0m, in \u001b[0;36mBooster.inplace_predict\u001b[1;34m(self, data, iteration_range, predict_type, missing, validate_features, base_margin, strict_shape)\u001b[0m\n\u001b[0;32m   2414\u001b[0m     data, fns, _ \u001b[39m=\u001b[39m _transform_pandas_df(data, enable_categorical)\n\u001b[0;32m   2415\u001b[0m     \u001b[39mif\u001b[39;00m validate_features:\n\u001b[1;32m-> 2416\u001b[0m         \u001b[39mself\u001b[39m\u001b[39m.\u001b[39m_validate_features(fns)\n\u001b[0;32m   2417\u001b[0m \u001b[39mif\u001b[39;00m _is_list(data) \u001b[39mor\u001b[39;00m _is_tuple(data):\n\u001b[0;32m   2418\u001b[0m     data \u001b[39m=\u001b[39m np\u001b[39m.\u001b[39marray(data)\n",
      "File \u001b[1;32md:\\Programas\\Anaconda\\Lib\\site-packages\\xgboost\\core.py:2968\u001b[0m, in \u001b[0;36mBooster._validate_features\u001b[1;34m(self, feature_names)\u001b[0m\n\u001b[0;32m   2962\u001b[0m \u001b[39mif\u001b[39;00m my_missing:\n\u001b[0;32m   2963\u001b[0m     msg \u001b[39m+\u001b[39m\u001b[39m=\u001b[39m (\n\u001b[0;32m   2964\u001b[0m         \u001b[39m\"\u001b[39m\u001b[39m\\n\u001b[39;00m\u001b[39mtraining data did not have the following fields: \u001b[39m\u001b[39m\"\u001b[39m\n\u001b[0;32m   2965\u001b[0m         \u001b[39m+\u001b[39m \u001b[39m\"\u001b[39m\u001b[39m, \u001b[39m\u001b[39m\"\u001b[39m\u001b[39m.\u001b[39mjoin(\u001b[39mstr\u001b[39m(s) \u001b[39mfor\u001b[39;00m s \u001b[39min\u001b[39;00m my_missing)\n\u001b[0;32m   2966\u001b[0m     )\n\u001b[1;32m-> 2968\u001b[0m \u001b[39mraise\u001b[39;00m \u001b[39mValueError\u001b[39;00m(msg\u001b[39m.\u001b[39mformat(\u001b[39mself\u001b[39m\u001b[39m.\u001b[39mfeature_names, feature_names))\n",
      "\u001b[1;31mValueError\u001b[0m: feature_names mismatch: ['ano', 'semana_do_ano', 'unit_price', 'sku_height', 'sku_width', 'sku_length', 'sku_weight', 'avg_website_visits_last_week', 'supplier_delivery_time', 'shipment_type_crossdocking', 'shipment_type_próprio', 'product_department_Cama e Banho', 'product_department_Decoração', 'product_department_Gamer', 'product_department_Infantil', 'product_department_Keva', 'product_department_Móveis', 'origin_country_Importado', 'origin_country_Nacional', 'process_costing_no', 'process_costing_yes', 'flag_bundle_SKU vendido em conjunto ou sozinho', 'flag_bundle_SKU vendido somente sozinho', 'has_stock_não', 'has_stock_tem', 'color_encoded', 'sku_encoded', 'anchor_category_encoded', 'product_category_encoded', 'dollar_quotation'] ['ano', 'semana_do_ano', 'unit_price']\nexpected origin_country_Importado, product_department_Gamer, product_category_encoded, product_department_Infantil, flag_bundle_SKU vendido em conjunto ou sozinho, sku_width, product_department_Móveis, origin_country_Nacional, process_costing_no, has_stock_não, sku_encoded, product_department_Cama e Banho, anchor_category_encoded, shipment_type_crossdocking, sku_height, avg_website_visits_last_week, has_stock_tem, product_department_Keva, flag_bundle_SKU vendido somente sozinho, color_encoded, sku_weight, supplier_delivery_time, product_department_Decoração, shipment_type_próprio, dollar_quotation, process_costing_yes, sku_length in input data"
     ]
    }
   ],
   "source": [
    "xgb_pred_b = xgb_reg.predict(X_b)\n",
    "rf_pred_b = rf.predict(X_b)\n",
    "gbr_pred_b = gbr.predict(X_b)"
   ]
  },
  {
   "cell_type": "code",
   "execution_count": null,
   "metadata": {},
   "outputs": [],
   "source": [
    "X_new_meta = np.column_stack((xgb_pred_b, rf_pred_b, gbr_pred_b))\n",
    "\n",
    "y_new_pred = meta_model.predict(X_new_meta)\n"
   ]
  },
  {
   "cell_type": "code",
   "execution_count": null,
   "metadata": {},
   "outputs": [
    {
     "name": "stdout",
     "output_type": "stream",
     "text": [
      "Mean Squared Error: 33.96893054995411\n",
      "RMSE: 5.828287102567453\n",
      "R2 score: 0.6621255276796304\n"
     ]
    }
   ],
   "source": [
    "from sklearn.metrics import mean_squared_error, mean_squared_error, r2_score\n",
    "\n",
    "#Métrica do Erro Quadrático Médio\n",
    "mse = mean_squared_error(y_b, y_new_pred)\n",
    "print(\"Mean Squared Error:\", mse)\n",
    "\n",
    "#Métrica da Raiz Quadrada do Erro Médio\n",
    "RMSE = np.sqrt(mse)\n",
    "print('RMSE:', RMSE)\n",
    "\n",
    "#Métrica do Coeficiente de Determinação R² score\n",
    "r2 = r2_score(y_b, y_new_pred)\n",
    "print(\"R2 score:\", r2)"
   ]
  }
 ],
 "metadata": {
  "kernelspec": {
   "display_name": "base",
   "language": "python",
   "name": "python3"
  },
  "language_info": {
   "codemirror_mode": {
    "name": "ipython",
    "version": 3
   },
   "file_extension": ".py",
   "mimetype": "text/x-python",
   "name": "python",
   "nbconvert_exporter": "python",
   "pygments_lexer": "ipython3",
   "version": "3.11.5"
  },
  "orig_nbformat": 4
 },
 "nbformat": 4,
 "nbformat_minor": 2
}
