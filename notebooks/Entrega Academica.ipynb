{
  "cells": [
    {
      "cell_type": "markdown",
      "metadata": {
        "id": "RmcXlaUYeM5n"
      },
      "source": [
        "# Configurações Iniciais"
      ]
    },
    {
      "cell_type": "code",
      "execution_count": 1,
      "metadata": {
        "colab": {
          "base_uri": "https://localhost:8080/"
        },
        "id": "rqWYYW2WeFpf",
        "outputId": "e98edd50-a264-4b40-fb50-2c83bf70f397"
      },
      "outputs": [
        {
          "name": "stdout",
          "output_type": "stream",
          "text": [
            "Requirement already satisfied: xgboost in c:\\users\\inteli\\anaconda3\\lib\\site-packages (2.0.0)\n",
            "Requirement already satisfied: numpy in c:\\users\\inteli\\anaconda3\\lib\\site-packages (from xgboost) (1.24.3)\n",
            "Requirement already satisfied: scipy in c:\\users\\inteli\\anaconda3\\lib\\site-packages (from xgboost) (1.10.1)\n"
          ]
        }
      ],
      "source": [
        "# Importando as bibliotecas necessárias\n",
        "!pip install xgboost\n",
        "import numpy as np\n",
        "import pandas as pd\n",
        "import seaborn as sns\n",
        "import sklearn\n",
        "import tkinter\n",
        "import plotly.express as px\n",
        "from collections import Counter\n",
        "from matplotlib import pyplot as plt\n",
        "from matplotlib.lines import Line2D\n",
        "from sklearn.model_selection import cross_val_score, train_test_split, GridSearchCV, RandomizedSearchCV, RepeatedKFold\n",
        "from sklearn.preprocessing import OneHotEncoder, StandardScaler, OrdinalEncoder\n",
        "from sklearn.ensemble import RandomForestRegressor, GradientBoostingRegressor\n",
        "from sklearn.linear_model import LinearRegression\n",
        "from sklearn.tree import DecisionTreeRegressor\n",
        "from sklearn.metrics import *\n",
        "from sklearn.feature_selection import RFECV, SelectFromModel\n",
        "import xgboost as xgb\n",
        "from sklearn.pipeline import Pipeline\n",
        "from xgboost import XGBRegressor\n",
        "from joblib import dump, load\n",
        "from datetime import datetime, timedelta\n",
        "from math import *\n",
        "from sklearn.model_selection import StratifiedShuffleSplit\n",
        "from sklearn.metrics import mean_squared_error, mean_squared_error, r2_score\n",
        "import skuPreditor as pr\n"
      ]
    },
    {
      "cell_type": "code",
      "execution_count": 5,
      "metadata": {},
      "outputs": [],
      "source": [
        "# Retirar os limitadores de coluna\n",
        "pd.set_option('display.max_columns', None)\n",
        "\n",
        "# Unindo as bases de dados e removendo as não utilizadas\n",
        "# P.S: Substituir a origem da base pela origem na sua máquina\n",
        "df_2020 = pd.read_csv(\"base_inteli 2020_2021.csv\", sep =\";\")\n",
        "df_2022 = pd.read_csv(\"base_inteli_2022_2023.csv\", sep =';')\n",
        "df_all = pd.concat([df_2020, df_2022])"
      ]
    },
    {
      "cell_type": "markdown",
      "metadata": {
        "id": "QpYAyEOcQl37"
      },
      "source": [
        "# Exploração dos dados\n"
      ]
    },
    {
      "cell_type": "markdown",
      "metadata": {
        "id": "ch16dkCeF_RS"
      },
      "source": [
        "### Identificação das colunas"
      ]
    },
    {
      "cell_type": "markdown",
      "metadata": {
        "id": "x0-dY1WbQfem"
      },
      "source": [
        "A identificação das colunas desempenha um papel importante no processo de exploração. Através dela, podemos conhecer mais sobre os tipos de dados presente em cada coluna e direcionar o tratamento adequado que iremos utilizar para cada caso."
      ]
    },
    {
      "cell_type": "code",
      "execution_count": 15,
      "metadata": {
        "colab": {
          "base_uri": "https://localhost:8080/"
        },
        "id": "AuhpN7JYH3X0",
        "outputId": "462a137a-8809-402e-bebe-2a71c170e334"
      },
      "outputs": [
        {
          "name": "stdout",
          "output_type": "stream",
          "text": [
            "<class 'pandas.core.frame.DataFrame'>\n",
            "Index: 814134 entries, 0 to 433253\n",
            "Data columns (total 26 columns):\n",
            " #   Column                        Non-Null Count   Dtype  \n",
            "---  ------                        --------------   -----  \n",
            " 0   date                          814134 non-null  object \n",
            " 1   weekday_name                  814134 non-null  object \n",
            " 2   sku                           814134 non-null  object \n",
            " 3   unit_price                    814134 non-null  float64\n",
            " 4   mobly_item                    814134 non-null  object \n",
            " 5   shipment_type                 814134 non-null  object \n",
            " 6   anchor_category               814134 non-null  object \n",
            " 7   product_department            814134 non-null  object \n",
            " 8   product_category              814134 non-null  object \n",
            " 9   origin_country                814134 non-null  object \n",
            " 10  process_costing               814134 non-null  object \n",
            " 11  sku_color                     814134 non-null  object \n",
            " 12  sku_height                    780110 non-null  float64\n",
            " 13  sku_width                     780110 non-null  float64\n",
            " 14  sku_length                    780110 non-null  float64\n",
            " 15  sku_weight                    780110 non-null  float64\n",
            " 16  price_status                  814134 non-null  object \n",
            " 17  winning_price                 163366 non-null  float64\n",
            " 18  revenue                       814134 non-null  float64\n",
            " 19  items_sold                    814134 non-null  int64  \n",
            " 20  avg_website_visits_last_week  814134 non-null  float64\n",
            " 21  supplier_delivery_time        814134 non-null  int64  \n",
            " 22  stock_qty                     814134 non-null  int64  \n",
            " 23  flag_bundle                   814134 non-null  object \n",
            " 24  revenue_bundle                814134 non-null  float64\n",
            " 25  items_sold_bundle             814134 non-null  int64  \n",
            "dtypes: float64(9), int64(4), object(13)\n",
            "memory usage: 167.7+ MB\n"
          ]
        }
      ],
      "source": [
        "df_all.info()"
      ]
    },
    {
      "cell_type": "markdown",
      "metadata": {
        "id": "ScVIUTrxKeIn"
      },
      "source": [
        "Através do método `info()`, foi possível classificar nossas características em numéricas ou categóricas:\n",
        "\n",
        "**Colunas numéricas**\n",
        "\n",
        "---\n",
        "\n",
        "* unit_price\n",
        "* sku_height\n",
        "* sku_width\n",
        "* sku_length\n",
        "* sku_weight\n",
        "* winning_price\n",
        "* revenue\n",
        "* items_sold\n",
        "* avg_website_visits_last_week\n",
        "* supplier_delivery_time\n",
        "* stock_qty\n",
        "* revenue_bundle\n",
        "* items_sold_bundle\n",
        "<br>\n",
        "<br>\n",
        "\n",
        "**Colunas categóricas**\n",
        "\n",
        "---\n",
        "\n",
        "\n",
        "\n",
        "* date\n",
        "* weekday_name\n",
        "* sku\n",
        "* mobly_item\n",
        "* shipment_type\n",
        "* anchor_category\n",
        "* product_department\n",
        "* product_category\n",
        "* origin_country\n",
        "* process_costing\n",
        "* sku_color\n",
        "* price_status\n",
        "* flag_bundle"
      ]
    },
    {
      "cell_type": "markdown",
      "metadata": {
        "id": "UudWrDkaEGO9"
      },
      "source": [
        "### Estatística descritiva das colunas\n",
        "\n"
      ]
    },
    {
      "cell_type": "markdown",
      "metadata": {
        "id": "6w7z5mK6PEya"
      },
      "source": [
        "A estatística descritiva é uma parte da estatística que envolve a coleta, organização, resumo e interpretação de dados para descrever características importantes de um conjunto de informações. Ela se concentra em transformar dados brutos em informações compreensíveis e significativas, permitindo uma compreensão mais clara das tendências, padrões e distribuições presentes nos dados.\n",
        "\n",
        "Para o caso do nosso projeto, a estatística descritiva desempenha um papel importante para a ideação de um modelo preditivo de regressão. Antes de construir esse modelo, é fundamental entender a distribuição dos dados históricos de vendas. Então, a estatística descritiva, como a média, mediana, desvio padrão e percentis, ajuda a identificar não apenas as tendências, mas também os outliers nos dados de vendas passados.\n",
        "\n",
        "O método nativo `describe()` da biblioteca Pandas foi utilizado para fazer a análise exploratória dos dados, já que fornece estatísticas para cada uma das colunas do dataframe."
      ]
    },
    {
      "cell_type": "code",
      "execution_count": 16,
      "metadata": {
        "colab": {
          "base_uri": "https://localhost:8080/"
        },
        "id": "uZQCR3TTEmDm",
        "outputId": "de34bd38-8656-4341-d80f-92b81dca823c"
      },
      "outputs": [
        {
          "data": {
            "text/html": [
              "<div>\n",
              "<style scoped>\n",
              "    .dataframe tbody tr th:only-of-type {\n",
              "        vertical-align: middle;\n",
              "    }\n",
              "\n",
              "    .dataframe tbody tr th {\n",
              "        vertical-align: top;\n",
              "    }\n",
              "\n",
              "    .dataframe thead th {\n",
              "        text-align: right;\n",
              "    }\n",
              "</style>\n",
              "<table border=\"1\" class=\"dataframe\">\n",
              "  <thead>\n",
              "    <tr style=\"text-align: right;\">\n",
              "      <th></th>\n",
              "      <th>unit_price</th>\n",
              "      <th>sku_height</th>\n",
              "      <th>sku_width</th>\n",
              "      <th>sku_length</th>\n",
              "      <th>sku_weight</th>\n",
              "      <th>winning_price</th>\n",
              "      <th>revenue</th>\n",
              "      <th>items_sold</th>\n",
              "      <th>avg_website_visits_last_week</th>\n",
              "      <th>supplier_delivery_time</th>\n",
              "      <th>stock_qty</th>\n",
              "      <th>revenue_bundle</th>\n",
              "      <th>items_sold_bundle</th>\n",
              "    </tr>\n",
              "  </thead>\n",
              "  <tbody>\n",
              "    <tr>\n",
              "      <th>count</th>\n",
              "      <td>814134.000000</td>\n",
              "      <td>780110.000000</td>\n",
              "      <td>780110.000000</td>\n",
              "      <td>780110.000000</td>\n",
              "      <td>780110.000000</td>\n",
              "      <td>163366.000000</td>\n",
              "      <td>814134.000000</td>\n",
              "      <td>814134.000000</td>\n",
              "      <td>814134.000000</td>\n",
              "      <td>814134.000000</td>\n",
              "      <td>814134.000000</td>\n",
              "      <td>814134.000000</td>\n",
              "      <td>814134.000000</td>\n",
              "    </tr>\n",
              "    <tr>\n",
              "      <th>mean</th>\n",
              "      <td>1072.653216</td>\n",
              "      <td>37.777547</td>\n",
              "      <td>73.354083</td>\n",
              "      <td>145.321921</td>\n",
              "      <td>59.136370</td>\n",
              "      <td>827.837739</td>\n",
              "      <td>1902.447319</td>\n",
              "      <td>2.672200</td>\n",
              "      <td>110.400421</td>\n",
              "      <td>23.383754</td>\n",
              "      <td>61.298798</td>\n",
              "      <td>96.368492</td>\n",
              "      <td>0.698966</td>\n",
              "    </tr>\n",
              "    <tr>\n",
              "      <th>std</th>\n",
              "      <td>788.378231</td>\n",
              "      <td>23.959331</td>\n",
              "      <td>27.939949</td>\n",
              "      <td>61.974311</td>\n",
              "      <td>76.332352</td>\n",
              "      <td>667.010802</td>\n",
              "      <td>4243.519909</td>\n",
              "      <td>6.041399</td>\n",
              "      <td>178.343749</td>\n",
              "      <td>27.321443</td>\n",
              "      <td>165.504622</td>\n",
              "      <td>627.624312</td>\n",
              "      <td>1.242135</td>\n",
              "    </tr>\n",
              "    <tr>\n",
              "      <th>min</th>\n",
              "      <td>69.990000</td>\n",
              "      <td>0.200000</td>\n",
              "      <td>0.800000</td>\n",
              "      <td>1.000000</td>\n",
              "      <td>1.000000</td>\n",
              "      <td>0.990000</td>\n",
              "      <td>-32.660000</td>\n",
              "      <td>0.000000</td>\n",
              "      <td>0.000000</td>\n",
              "      <td>2.000000</td>\n",
              "      <td>-1.000000</td>\n",
              "      <td>0.000000</td>\n",
              "      <td>0.000000</td>\n",
              "    </tr>\n",
              "    <tr>\n",
              "      <th>25%</th>\n",
              "      <td>535.860000</td>\n",
              "      <td>13.000000</td>\n",
              "      <td>51.000000</td>\n",
              "      <td>90.000000</td>\n",
              "      <td>16.200000</td>\n",
              "      <td>366.900000</td>\n",
              "      <td>0.000000</td>\n",
              "      <td>0.000000</td>\n",
              "      <td>20.000000</td>\n",
              "      <td>8.000000</td>\n",
              "      <td>0.000000</td>\n",
              "      <td>0.000000</td>\n",
              "      <td>0.000000</td>\n",
              "    </tr>\n",
              "    <tr>\n",
              "      <th>50%</th>\n",
              "      <td>859.900000</td>\n",
              "      <td>35.000000</td>\n",
              "      <td>75.000000</td>\n",
              "      <td>152.000000</td>\n",
              "      <td>36.000000</td>\n",
              "      <td>692.540000</td>\n",
              "      <td>636.200000</td>\n",
              "      <td>1.000000</td>\n",
              "      <td>51.857143</td>\n",
              "      <td>11.000000</td>\n",
              "      <td>2.000000</td>\n",
              "      <td>0.000000</td>\n",
              "      <td>1.000000</td>\n",
              "    </tr>\n",
              "    <tr>\n",
              "      <th>75%</th>\n",
              "      <td>1399.980000</td>\n",
              "      <td>60.000000</td>\n",
              "      <td>90.000000</td>\n",
              "      <td>189.000000</td>\n",
              "      <td>63.850000</td>\n",
              "      <td>1072.820000</td>\n",
              "      <td>2201.650000</td>\n",
              "      <td>3.000000</td>\n",
              "      <td>127.714286</td>\n",
              "      <td>17.000000</td>\n",
              "      <td>57.000000</td>\n",
              "      <td>0.000000</td>\n",
              "      <td>1.000000</td>\n",
              "    </tr>\n",
              "    <tr>\n",
              "      <th>max</th>\n",
              "      <td>13750.000000</td>\n",
              "      <td>152.000000</td>\n",
              "      <td>240.000000</td>\n",
              "      <td>690.000000</td>\n",
              "      <td>553.570000</td>\n",
              "      <td>9399.860000</td>\n",
              "      <td>393247.510000</td>\n",
              "      <td>647.000000</td>\n",
              "      <td>8038.285714</td>\n",
              "      <td>80.000000</td>\n",
              "      <td>4426.000000</td>\n",
              "      <td>69583.980000</td>\n",
              "      <td>164.000000</td>\n",
              "    </tr>\n",
              "  </tbody>\n",
              "</table>\n",
              "</div>"
            ],
            "text/plain": [
              "          unit_price     sku_height      sku_width     sku_length  \\\n",
              "count  814134.000000  780110.000000  780110.000000  780110.000000   \n",
              "mean     1072.653216      37.777547      73.354083     145.321921   \n",
              "std       788.378231      23.959331      27.939949      61.974311   \n",
              "min        69.990000       0.200000       0.800000       1.000000   \n",
              "25%       535.860000      13.000000      51.000000      90.000000   \n",
              "50%       859.900000      35.000000      75.000000     152.000000   \n",
              "75%      1399.980000      60.000000      90.000000     189.000000   \n",
              "max     13750.000000     152.000000     240.000000     690.000000   \n",
              "\n",
              "          sku_weight  winning_price        revenue     items_sold  \\\n",
              "count  780110.000000  163366.000000  814134.000000  814134.000000   \n",
              "mean       59.136370     827.837739    1902.447319       2.672200   \n",
              "std        76.332352     667.010802    4243.519909       6.041399   \n",
              "min         1.000000       0.990000     -32.660000       0.000000   \n",
              "25%        16.200000     366.900000       0.000000       0.000000   \n",
              "50%        36.000000     692.540000     636.200000       1.000000   \n",
              "75%        63.850000    1072.820000    2201.650000       3.000000   \n",
              "max       553.570000    9399.860000  393247.510000     647.000000   \n",
              "\n",
              "       avg_website_visits_last_week  supplier_delivery_time      stock_qty  \\\n",
              "count                 814134.000000           814134.000000  814134.000000   \n",
              "mean                     110.400421               23.383754      61.298798   \n",
              "std                      178.343749               27.321443     165.504622   \n",
              "min                        0.000000                2.000000      -1.000000   \n",
              "25%                       20.000000                8.000000       0.000000   \n",
              "50%                       51.857143               11.000000       2.000000   \n",
              "75%                      127.714286               17.000000      57.000000   \n",
              "max                     8038.285714               80.000000    4426.000000   \n",
              "\n",
              "       revenue_bundle  items_sold_bundle  \n",
              "count   814134.000000      814134.000000  \n",
              "mean        96.368492           0.698966  \n",
              "std        627.624312           1.242135  \n",
              "min          0.000000           0.000000  \n",
              "25%          0.000000           0.000000  \n",
              "50%          0.000000           1.000000  \n",
              "75%          0.000000           1.000000  \n",
              "max      69583.980000         164.000000  "
            ]
          },
          "execution_count": 16,
          "metadata": {},
          "output_type": "execute_result"
        }
      ],
      "source": [
        "df_all.describe()"
      ]
    },
    {
      "cell_type": "markdown",
      "metadata": {
        "id": "uNbmndZFEsEU"
      },
      "source": [
        "Com o banco de dados original apresentando algumas informações faltantes em certas linhas, as estatísticas descritivas puderam ser utilizadas para imputar os dados ausentes. Isso pôde ser feito por meio da utilização da mediana, por exemplo, atribuindo o valor dessa tendência central nos campos em branco."
      ]
    },
    {
      "cell_type": "markdown",
      "metadata": {
        "id": "ZmIM8T3VQory"
      },
      "source": [
        "# Pré-processamento\n"
      ]
    },
    {
      "cell_type": "markdown",
      "metadata": {
        "id": "YWxj597BzOA1"
      },
      "source": [
        "### Limpeza de dados\n"
      ]
    },
    {
      "cell_type": "markdown",
      "metadata": {
        "id": "iAR6juIwzbdL"
      },
      "source": [
        "**Tratamento de itens não disponíveis e de missings**\n",
        "\n",
        "---\n",
        "Removemos as colunas que possuíam somente um valor exclusivo, aquelas que apresentavam mais de 50% dos seus valores vazios ou sem registro e as que continham valores irrelevantes para o nosso modelo.\n",
        "\n",
        "As colunas possuíam poucos missing values, apenas presentes em algumas dimensões de sku’s, então optamos por substituir esses valores por 0, visto que a inexistência de informações sobre suas dimensões não alterava em sua venda.\n",
        "\n",
        "Além disso, verificamos os items no período em que suas visitas e items vendidos correspondiam a 0, pois estes eram períodos em que estavam cadastrados porém não visíveis para compra"
      ]
    },
    {
      "cell_type": "code",
      "execution_count": 6,
      "metadata": {
        "colab": {
          "base_uri": "https://localhost:8080/"
        },
        "id": "tHKu8aps9Aor",
        "outputId": "0070e9dd-0568-4802-de26-7b9ae4cf3f10"
      },
      "outputs": [],
      "source": [
        "# Função para encontrar o índice da primeira venda ou visita\n",
        "def find_first_occurrence(df_all):\n",
        "    condition = (df_all['items_sold'] > 0) | (df_all['avg_website_visits_last_week'] > 0)\n",
        "    if condition.any():\n",
        "        return condition.idxmax()\n",
        "    else:\n",
        "        return None\n",
        "\n",
        "# Aplica a função para cada grupo de Produto e cria a máscara\n",
        "mask = df_all.groupby('sku').apply(find_first_occurrence).reset_index(name='first_occurrence_index')\n",
        "df_all = df_all.merge(mask, on='sku', how='left')\n",
        "keep_rows = df_all.index >= df_all['first_occurrence_index']\n",
        "\n",
        "# Filtrar o dataframe usando a máscara\n",
        "df_all = df_all[keep_rows].drop(columns=['first_occurrence_index'])\n",
        "\n"
      ]
    },
    {
      "cell_type": "code",
      "execution_count": 7,
      "metadata": {
        "colab": {
          "base_uri": "https://localhost:8080/"
        },
        "id": "n5jelZeBzWCm",
        "outputId": "cf11ffb1-f12b-4167-d143-ee8bd8a139f0"
      },
      "outputs": [],
      "source": [
        "# Remoção das colunas desnecessárias\n",
        "df_fixed = df_all.drop([\"mobly_item\",'price_status','winning_price', 'revenue','revenue_bundle'], axis ='columns').fillna(0).reset_index(drop = True)\n"
      ]
    },
    {
      "cell_type": "markdown",
      "metadata": {},
      "source": [
        "### Criação da coluna de \"has_stock\""
      ]
    },
    {
      "cell_type": "code",
      "execution_count": 8,
      "metadata": {},
      "outputs": [],
      "source": [
        "# Criação da coluna de \"has_stock\", baseado se algum produto tinha estoque maior que 0\n",
        "df_fixed['has_stock'] = df_fixed['stock_qty'].apply(lambda x: 'tem' if x > 0 else 'não')"
      ]
    },
    {
      "cell_type": "markdown",
      "metadata": {},
      "source": [
        "### Remoção de linhas de estoque negativo"
      ]
    },
    {
      "cell_type": "code",
      "execution_count": 9,
      "metadata": {
        "id": "bZL65fDt9Aos"
      },
      "outputs": [],
      "source": [
        "df_fixed[df_fixed['items_sold'] != -1].reset_index(drop=True, inplace=True)"
      ]
    },
    {
      "cell_type": "markdown",
      "metadata": {
        "id": "Uu7obFGRehZ3"
      },
      "source": [
        "### Adequação de variáveis numéricas e categóricas\n"
      ]
    },
    {
      "cell_type": "markdown",
      "metadata": {
        "id": "xEdFdvPV4ab4"
      },
      "source": [
        "**Separação das variáveis**\n",
        "\n",
        "---\n",
        "Todas as colunas em nossa database foram percorridas, contando o número de valores únicos presentes. Com base nessa contagem, foi possível compreender a variedade de categorias por atributo, separando as colunas pelo método que seriam codificadas: One-Hot Encoder ou Label Encoder."
      ]
    },
    {
      "cell_type": "code",
      "execution_count": 10,
      "metadata": {
        "colab": {
          "base_uri": "https://localhost:8080/"
        },
        "id": "UM3zvVmXehB8",
        "outputId": "59910542-3cec-44e3-851c-ac6f20ba8a27"
      },
      "outputs": [
        {
          "name": "stdout",
          "output_type": "stream",
          "text": [
            "Ordinal Encoding:  ['date', 'sku', 'unit_price', 'anchor_category', 'product_category', 'sku_color', 'sku_height', 'sku_width', 'sku_length', 'sku_weight', 'items_sold', 'avg_website_visits_last_week', 'supplier_delivery_time', 'stock_qty', 'items_sold_bundle']\n",
            "One-Hot Encoding:  ['weekday_name', 'shipment_type', 'product_department', 'origin_country', 'process_costing', 'flag_bundle', 'has_stock']\n"
          ]
        }
      ],
      "source": [
        "# Código que itera entre os items da coluna para decidir qual codificação realizar\n",
        "columns = list(df_fixed.columns)\n",
        "\n",
        "columns_to_one_hot = []\n",
        "columns_to_ordinal = []\n",
        "\n",
        "for i in columns:\n",
        "    if len(df_fixed[i].unique()) > 7:\n",
        "        columns_to_ordinal.append(i)\n",
        "    else:\n",
        "        columns_to_one_hot.append(i)\n",
        "\n",
        "\n",
        "\n",
        "print('Ordinal Encoding: ',columns_to_ordinal)\n",
        "print('One-Hot Encoding: ',columns_to_one_hot)"
      ]
    },
    {
      "cell_type": "markdown",
      "metadata": {
        "id": "6eJoxDWnmKV0"
      },
      "source": [
        "**One-Hot Encoder**\n",
        "\n",
        "\n",
        "---\n",
        "\n",
        "Empregamos o One-Hot Encoder em colunas categóricas com até 7 elementos. Essa escolha foi feita para converter essas colunas em um formato binário sem sobrecarregar o sistema. O processo desse codificador gera uma coluna nova para representar cada categoria, na qual o valor é atribuído como \"1\" ou \"0\" para indicar se está presente ou ausente, respectivamente.\n",
        "\n",
        "\n",
        "\n"
      ]
    },
    {
      "cell_type": "code",
      "execution_count": 11,
      "metadata": {
        "colab": {
          "base_uri": "https://localhost:8080/"
        },
        "id": "yrZqaq9IvFHk",
        "outputId": "963915c9-1933-41a7-ea76-100887b7832c"
      },
      "outputs": [
        {
          "name": "stderr",
          "output_type": "stream",
          "text": [
            "c:\\Users\\Inteli\\anaconda3\\Lib\\site-packages\\sklearn\\preprocessing\\_encoders.py:972: FutureWarning: `sparse` was renamed to `sparse_output` in version 1.2 and will be removed in 1.4. `sparse_output` is ignored unless you leave `sparse` to its default value.\n",
            "  warnings.warn(\n"
          ]
        }
      ],
      "source": [
        "# Selecionando as colunas para sofrerem codificação\n",
        "columns_to_encode = ['shipment_type', 'product_department', 'origin_country', 'process_costing', 'flag_bundle']\n",
        "data_to_encode = df_fixed[columns_to_encode]\n",
        "\n",
        "# Transformando as colunas para um novo DataFrame\n",
        "encoder = OneHotEncoder(sparse=False)\n",
        "encoded = encoder.fit_transform(data_to_encode)\n",
        "df_oneHot = pd.DataFrame(encoded, columns=encoder.get_feature_names_out(columns_to_encode))\n",
        "\n",
        "# Substituir as colunas originais pelas colunas do df_oneHot\n",
        "df_fixed_encoded = df_fixed.drop(columns=columns_to_encode)  # Remover as colunas originais\n",
        "df_fixed_encoded = pd.concat([df_fixed_encoded, df_oneHot], axis=1)  # Concatenar as colunas codificadas"
      ]
    },
    {
      "cell_type": "markdown",
      "metadata": {
        "id": "Nw66FRNMvQUG"
      },
      "source": [
        "**Ordinal Encoder**\n",
        "\n",
        "\n",
        "---\n",
        "\n",
        "Utilizamos o Ordinal Encoder em colunas categóricas com 7 ou mais elementos. Nesse processo, cada item da categoria era atribuído a um número inteiro distinto, não expandindo o número de colunas, onde a ordenação de como esses números são gerados se baseia na quantidade de items que foram vendidos daquele item na categoria\n",
        "\n",
        "\n"
      ]
    },
    {
      "cell_type": "code",
      "execution_count": 12,
      "metadata": {
        "colab": {
          "base_uri": "https://localhost:8080/"
        },
        "id": "m5hEpz6CwUzi",
        "outputId": "e26bdcf3-6f0e-43cb-a9e1-76bcf27858bb"
      },
      "outputs": [],
      "source": [
        "# Agrupa os items vendidos de acordo com cada item de uma coluna\n",
        "color_sums = df_fixed_encoded.groupby(['sku_color'])['items_sold'].sum().sort_values(ascending=True)\n",
        "sku_sums = df_fixed_encoded.groupby(['sku'])['items_sold'].sum().sort_values(ascending=True)\n",
        "anchor_sums = df_fixed_encoded.groupby(['anchor_category'])['items_sold'].sum().sort_values(ascending=True)\n",
        "product_sums = df_fixed_encoded.groupby(['product_category'])['items_sold'].sum().sort_values(ascending=True)\n",
        "stock_sums = df_fixed_encoded.groupby(['has_stock'])['items_sold'].sum().sort_values(ascending=True)\n",
        "\n",
        "# Cria um dicionário mapeando as cores de forma ordinal (Maior para menor)\n",
        "color_ordinal_mapping = {color: i for i, color in enumerate(color_sums.index)}\n",
        "sku_ordinal_mapping = {sku: i for i, sku in enumerate(sku_sums.index)}\n",
        "anchor_ordinal_mapping = {anchor: i for i, anchor in enumerate(anchor_sums.index)}\n",
        "product_ordinal_mapping = {product: i for i, product in enumerate(product_sums.index)}\n",
        "stock_ordinal_mapping = {stock: i for i, stock in enumerate(stock_sums.index)}\n",
        "\n",
        "# Aplica Ordinal encoding\n",
        "encoder_color = OrdinalEncoder(categories=[list(color_ordinal_mapping.keys())])\n",
        "encoder_sku = OrdinalEncoder(categories=[list(sku_ordinal_mapping.keys())])\n",
        "encoder_anchor = OrdinalEncoder(categories=[list(anchor_ordinal_mapping.keys())])\n",
        "encoder_product = OrdinalEncoder(categories=[list(product_ordinal_mapping.keys())])\n",
        "encoder_stock = OrdinalEncoder(categories=[list(stock_ordinal_mapping.keys())])\n",
        "\n",
        "\n",
        "# Cria as novas colunas\n",
        "df_fixed_encoded['color_encoded'] = encoder_color.fit_transform(df_fixed_encoded[['sku_color']])\n",
        "df_fixed_encoded['sku_encoded'] = encoder_sku.fit_transform(df_fixed_encoded[['sku']])\n",
        "df_fixed_encoded['anchor_category_encoded'] = encoder_anchor.fit_transform(df_fixed_encoded[['anchor_category']])\n",
        "df_fixed_encoded['product_category_encoded'] = encoder_product.fit_transform(df_fixed_encoded[['product_category']])\n",
        "df_fixed_encoded['has_stock_encoded'] = encoder_stock.fit_transform(df_fixed_encoded[['has_stock']])\n",
        "\n",
        "# Removendo as colunas antigas\n",
        "df_encoded = df_fixed_encoded.drop(['sku','anchor_category','product_category','sku_color', 'has_stock'], axis = 1)\n"
      ]
    },
    {
      "cell_type": "markdown",
      "metadata": {
        "id": "N28xZNu3wfw4"
      },
      "source": [
        "**Tratamento de datas**\n",
        "\n",
        "\n",
        "---\n",
        "A coluna \"date\" possui uma alta relevância para nosso modelo, porém necessitava ser modificada para se adaptar melhor ao funcionamento dele.\n",
        "\n",
        "Transformamos seu formato de Ano / Mês / Dia para uma divisão em diversas colunas representando. Assim, o modelo consegue ler melhor os dados de data uma vez que eles foram passados de String > DateTime > Números, facilitando o entendimento da máquina e do modelo.\n"
      ]
    },
    {
      "cell_type": "code",
      "execution_count": 13,
      "metadata": {
        "colab": {
          "base_uri": "https://localhost:8080/"
        },
        "id": "NXhIKtvSxTTv",
        "outputId": "ff33335f-4806-474c-f198-01245841dead"
      },
      "outputs": [],
      "source": [
        "# Transformar os valores de \"String\" de data em \"DateTime\"\n",
        "df_encoded['date'] = pd.to_datetime(df_encoded['date'], format='%Y-%m-%d')\n",
        "\n",
        "# Extraindo os componentes da date\n",
        "df_encoded['ano'] = df_encoded['date'].dt.year\n",
        "df_encoded['mes'] = df_encoded['date'].dt.month\n",
        "df_encoded['dia'] = df_encoded['date'].dt.day\n",
        "df_encoded['dia_da_semana'] = df_encoded['date'].dt.weekday  \n",
        "df_encoded['semana_do_ano'] = df_encoded['date'].dt.isocalendar().week\n",
        "df_encoded['trimestre'] = df_encoded['date'].dt.quarter\n",
        "df_encoded['dia_do_ano'] = df_encoded['date'].dt.dayofyear\n",
        "df_encoded['eh_fim_de_semana'] = df_encoded['date'].dt.weekday >= 5  \n",
        "\n",
        "# Remoção das colunas antigas\n",
        "df_dates_fixed = df_encoded.drop(['weekday_name','date'], axis = 1)"
      ]
    },
    {
      "cell_type": "markdown",
      "metadata": {},
      "source": [
        "### Remoção da black-friday"
      ]
    },
    {
      "cell_type": "code",
      "execution_count": 14,
      "metadata": {
        "colab": {
          "base_uri": "https://localhost:8080/"
        },
        "id": "9sTOXuuc9Aou",
        "outputId": "58a4f981-19d5-49dc-b93c-74e874ed6bc1"
      },
      "outputs": [],
      "source": [
        "# Removendo as semanas que representam a black friday\n",
        "df_final = df_dates_fixed.drop(df_dates_fixed[(df_dates_fixed['semana_do_ano'] >= 46) & (df_dates_fixed['semana_do_ano'] <= 51)].index)\n",
        "df_final = df_final.reset_index(drop=True)"
      ]
    },
    {
      "cell_type": "markdown",
      "metadata": {},
      "source": [
        "# Hipóteses"
      ]
    },
    {
      "cell_type": "markdown",
      "metadata": {},
      "source": [
        "As hipóteses são possíveis explicações das tendências comportamentamentais dos dados, ajudando a compreensão deste e guiando enfim a acurácia mais precisa do modelo preditivo."
      ]
    },
    {
      "cell_type": "markdown",
      "metadata": {},
      "source": [
        "### Hipótese #1\n",
        "\n",
        "Como explicado pelos internos da Mobly, o \"crossdocking\" é um sistema em que os itens são entregues diretamente do fornecedor para os centros de distribuição encaminharem para os clientes, sem passar pelo estoque. Esse método é utilizado quando não há o produto no estoque. Fizemos uma análise das colunas de 'shipment_type', 'sotck_qty' e 'items_sold', notando que algumas informações se destoam das que foram informadas.\n"
      ]
    },
    {
      "cell_type": "markdown",
      "metadata": {},
      "source": [
        "É possível visualizar no gráfico abaixo que a maior parte das vendas ocorreram em produtos que já estavam em estoque.\n",
        "\n"
      ]
    },
    {
      "cell_type": "code",
      "execution_count": null,
      "metadata": {},
      "outputs": [
        {
          "data": {
            "image/png": "[encoded data removed]",
            "text/plain": [
              "<Figure size 1000x600 with 1 Axes>"
            ]
          },
          "metadata": {},
          "output_type": "display_data"
        }
      ],
      "source": [
        "# Classificando os produtos\n",
        "produtos_vazios_vendidos = df_final[df_final['stock_qty'] <= 0]\n",
        "produtos_com_estoque_vendidos = df_final[df_final['stock_qty'] > 0]\n",
        "\n",
        "#Contando o número de produtos em cada categoria\n",
        "num_produtos_vazios_vendidos = len(produtos_vazios_vendidos)\n",
        "num_produtos_com_estoque_vendidos = len(produtos_com_estoque_vendidos)\n",
        "\n",
        "# Criando o gráfico de pizza\n",
        "labels = ['Produtos Sem Estoque Vendidos', 'Produtos com Estoque Vendidos']\n",
        "sizes = [num_produtos_vazios_vendidos, num_produtos_com_estoque_vendidos]\n",
        "colors = ['#ff9999', '#66b2ff']\n",
        "explode = (0.1, 0)  # Explode 1st slice\n",
        "\n",
        "# Plot\n",
        "plt.figure(figsize=(10, 6))\n",
        "plt.pie(sizes, explode=explode, labels=labels, colors=colors, autopct='%1.1f%%', shadow=True, startangle=140)\n",
        "plt.axis('equal')  # Equal aspect ratio ensures that pie is drawn as a circle.\n",
        "plt.show()"
      ]
    },
    {
      "cell_type": "markdown",
      "metadata": {},
      "source": [
        "No entanto, neste segundo gráfico, obtemos a informação de que mais de 70% das vendas foram realizadas por crossdocking.\n"
      ]
    },
    {
      "cell_type": "code",
      "execution_count": null,
      "metadata": {},
      "outputs": [
        {
          "data": {
            "image/png": "[encoded data removed]",
            "text/plain": [
              "<Figure size 640x480 with 1 Axes>"
            ]
          },
          "metadata": {},
          "output_type": "display_data"
        }
      ],
      "source": [
        "crossdocking_and_in_stock = df_final.loc[(df_final['shipment_type_crossdocking'] == 1.0) & (df_final['stock_qty'] > 0)]\n",
        "\n",
        "# Contando a quantidade de SKUs únicos que fazem crossdocking e estão no estoque\n",
        "unique_skus_crossdocking_and_in_stock = crossdocking_and_in_stock['sku_encoded'].nunique()\n",
        "\n",
        "# Contando a quantidade total de SKUs únicos\n",
        "total_unique_skus = df_final['sku_encoded'].nunique()\n",
        "labels = [' Com Crossdocking e em Estoque', 'Sem Crossdocking e em Estoque']\n",
        "# Calculando a quantidade de SKUs que não fazem crossdocking e estão no estoque\n",
        "unique_skus_not_crossdocking_and_in_stock = total_unique_skus - unique_skus_crossdocking_and_in_stock\n",
        "\n",
        "# Criando um gráfico de pizza\n",
        "sizes = [unique_skus_crossdocking_and_in_stock, unique_skus_not_crossdocking_and_in_stock]\n",
        "colors = ['#FF4500', '#FFD833']\n",
        "explode = (0.1, 0)  # Explode 1st slice\n",
        "plt.pie(sizes, explode=explode, labels=labels, colors=colors, autopct='%1.1f%%', shadow=True, startangle=140)\n",
        "plt.axis('equal')  # Equal aspect ratio ensures that pie is drawn as a circle.\n",
        "plt.show()"
      ]
    },
    {
      "cell_type": "markdown",
      "metadata": {},
      "source": [
        "Assim, é apresentado uma aparente contradição nos dados: enquanto a primeira análise sugere que a maioria das vendas provém de estoque próprio, a análise subsequente mostra que, na realidade, a maior parte das vendas é feita através do crossdocking.\n",
        "\n",
        "Neste terceiro gráfico, é possível concluir que realmente houve a venda de produtos, por crossdocking, que possuíam alta disponibilidade em estoque."
      ]
    },
    {
      "cell_type": "code",
      "execution_count": null,
      "metadata": {},
      "outputs": [
        {
          "data": {
            "image/png": "[encoded data removed]",
            "text/plain": [
              "<Figure size 640x480 with 1 Axes>"
            ]
          },
          "metadata": {},
          "output_type": "display_data"
        }
      ],
      "source": [
        "from matplotlib.lines import Line2D\n",
        "#Define a separação por cor\n",
        "colors = df_fixed['shipment_type'].map({'crossdocking': 'turquoise', 'próprio': 'coral'})\n",
        "\n",
        "#Cria o gráfico de dispersão\n",
        "ax = df_fixed.plot.scatter(x='items_sold', y='stock_qty', c=colors, edgecolors='w', linewidth=0.5)\n",
        "\n",
        "#Cria as legendas\n",
        "legend_elements = [Line2D([0], [0], marker='o', color='w', label='Crossdocking', markerfacecolor='turquoise', markersize=5),\n",
        "                   Line2D([0], [0], marker='o', color='w', label='Próprio', markerfacecolor='coral', markersize=5)]\n",
        "ax.legend(handles=legend_elements)\n",
        "\n",
        "#Apresenta o gráfico\n",
        "plt.show()"
      ]
    },
    {
      "cell_type": "markdown",
      "metadata": {},
      "source": [
        "Conseguimos elaborar duas hipóteses sobre o motivo dessa contradição:\n",
        "* Em algumas situações, um produto pode ter sido vendido em quantidade superior ao estoque disponível e diferente de zero, sendo atendido parcialmente pelo estoque e parcialmente pelo crossdocking. Isso pode levar a classificar a venda inteira como “crossdocking”, distorcendo a representação percentual das vendas e levando à percepção de uma prevalência maior do que realmente existe."
      ]
    },
    {
      "cell_type": "code",
      "execution_count": null,
      "metadata": {},
      "outputs": [
        {
          "data": {
            "text/html": [
              "<div>\n",
              "<style scoped>\n",
              "    .dataframe tbody tr th:only-of-type {\n",
              "        vertical-align: middle;\n",
              "    }\n",
              "\n",
              "    .dataframe tbody tr th {\n",
              "        vertical-align: top;\n",
              "    }\n",
              "\n",
              "    .dataframe thead th {\n",
              "        text-align: right;\n",
              "    }\n",
              "</style>\n",
              "<table border=\"1\" class=\"dataframe\">\n",
              "  <thead>\n",
              "    <tr style=\"text-align: right;\">\n",
              "      <th></th>\n",
              "      <th>shipment_type_crossdocking</th>\n",
              "      <th>items_sold</th>\n",
              "      <th>stock_qty</th>\n",
              "    </tr>\n",
              "  </thead>\n",
              "  <tbody>\n",
              "    <tr>\n",
              "      <th>213</th>\n",
              "      <td>1.0</td>\n",
              "      <td>5</td>\n",
              "      <td>3</td>\n",
              "    </tr>\n",
              "    <tr>\n",
              "      <th>532</th>\n",
              "      <td>1.0</td>\n",
              "      <td>4</td>\n",
              "      <td>2</td>\n",
              "    </tr>\n",
              "    <tr>\n",
              "      <th>533</th>\n",
              "      <td>1.0</td>\n",
              "      <td>6</td>\n",
              "      <td>2</td>\n",
              "    </tr>\n",
              "    <tr>\n",
              "      <th>584</th>\n",
              "      <td>1.0</td>\n",
              "      <td>16</td>\n",
              "      <td>3</td>\n",
              "    </tr>\n",
              "    <tr>\n",
              "      <th>603</th>\n",
              "      <td>1.0</td>\n",
              "      <td>38</td>\n",
              "      <td>12</td>\n",
              "    </tr>\n",
              "    <tr>\n",
              "      <th>...</th>\n",
              "      <td>...</td>\n",
              "      <td>...</td>\n",
              "      <td>...</td>\n",
              "    </tr>\n",
              "    <tr>\n",
              "      <th>811037</th>\n",
              "      <td>1.0</td>\n",
              "      <td>5</td>\n",
              "      <td>3</td>\n",
              "    </tr>\n",
              "    <tr>\n",
              "      <th>811438</th>\n",
              "      <td>1.0</td>\n",
              "      <td>5</td>\n",
              "      <td>4</td>\n",
              "    </tr>\n",
              "    <tr>\n",
              "      <th>811530</th>\n",
              "      <td>1.0</td>\n",
              "      <td>4</td>\n",
              "      <td>2</td>\n",
              "    </tr>\n",
              "    <tr>\n",
              "      <th>811795</th>\n",
              "      <td>1.0</td>\n",
              "      <td>4</td>\n",
              "      <td>3</td>\n",
              "    </tr>\n",
              "    <tr>\n",
              "      <th>811871</th>\n",
              "      <td>1.0</td>\n",
              "      <td>5</td>\n",
              "      <td>4</td>\n",
              "    </tr>\n",
              "  </tbody>\n",
              "</table>\n",
              "<p>8926 rows × 3 columns</p>\n",
              "</div>"
            ],
            "text/plain": [
              "        shipment_type_crossdocking  items_sold  stock_qty\n",
              "213                            1.0           5          3\n",
              "532                            1.0           4          2\n",
              "533                            1.0           6          2\n",
              "584                            1.0          16          3\n",
              "603                            1.0          38         12\n",
              "...                            ...         ...        ...\n",
              "811037                         1.0           5          3\n",
              "811438                         1.0           5          4\n",
              "811530                         1.0           4          2\n",
              "811795                         1.0           4          3\n",
              "811871                         1.0           5          4\n",
              "\n",
              "[8926 rows x 3 columns]"
            ]
          },
          "execution_count": 60,
          "metadata": {},
          "output_type": "execute_result"
        }
      ],
      "source": [
        "vendas_mistas = df_encoded[['shipment_type_crossdocking','items_sold', 'stock_qty']]\n",
        "vendas_mistas[(vendas_mistas['shipment_type_crossdocking'] == 1) & (vendas_mistas['items_sold'] > vendas_mistas['stock_qty']) & (vendas_mistas['stock_qty'] > 1)]"
      ]
    },
    {
      "cell_type": "markdown",
      "metadata": {},
      "source": [
        "* Em outras situações, o processamento da venda via crossdocking ser realizado mesmo havendo estoque disponível pode ser explicado pelo sistema de vendas agendadas. Neste sistema, o produto é enviado diretamente ao cliente no período escolhido por ele, sem passar pelo estoque convencional."
      ]
    },
    {
      "cell_type": "code",
      "execution_count": null,
      "metadata": {},
      "outputs": [
        {
          "data": {
            "text/html": [
              "<div>\n",
              "<style scoped>\n",
              "    .dataframe tbody tr th:only-of-type {\n",
              "        vertical-align: middle;\n",
              "    }\n",
              "\n",
              "    .dataframe tbody tr th {\n",
              "        vertical-align: top;\n",
              "    }\n",
              "\n",
              "    .dataframe thead th {\n",
              "        text-align: right;\n",
              "    }\n",
              "</style>\n",
              "<table border=\"1\" class=\"dataframe\">\n",
              "  <thead>\n",
              "    <tr style=\"text-align: right;\">\n",
              "      <th></th>\n",
              "      <th>shipment_type_crossdocking</th>\n",
              "      <th>items_sold</th>\n",
              "      <th>stock_qty</th>\n",
              "    </tr>\n",
              "  </thead>\n",
              "  <tbody>\n",
              "    <tr>\n",
              "      <th>6</th>\n",
              "      <td>1.0</td>\n",
              "      <td>2</td>\n",
              "      <td>84</td>\n",
              "    </tr>\n",
              "    <tr>\n",
              "      <th>17</th>\n",
              "      <td>1.0</td>\n",
              "      <td>1</td>\n",
              "      <td>8</td>\n",
              "    </tr>\n",
              "    <tr>\n",
              "      <th>33</th>\n",
              "      <td>1.0</td>\n",
              "      <td>7</td>\n",
              "      <td>365</td>\n",
              "    </tr>\n",
              "    <tr>\n",
              "      <th>34</th>\n",
              "      <td>1.0</td>\n",
              "      <td>1</td>\n",
              "      <td>176</td>\n",
              "    </tr>\n",
              "    <tr>\n",
              "      <th>45</th>\n",
              "      <td>1.0</td>\n",
              "      <td>2</td>\n",
              "      <td>91</td>\n",
              "    </tr>\n",
              "    <tr>\n",
              "      <th>...</th>\n",
              "      <td>...</td>\n",
              "      <td>...</td>\n",
              "      <td>...</td>\n",
              "    </tr>\n",
              "    <tr>\n",
              "      <th>812582</th>\n",
              "      <td>1.0</td>\n",
              "      <td>2</td>\n",
              "      <td>17</td>\n",
              "    </tr>\n",
              "    <tr>\n",
              "      <th>812627</th>\n",
              "      <td>1.0</td>\n",
              "      <td>1</td>\n",
              "      <td>15</td>\n",
              "    </tr>\n",
              "    <tr>\n",
              "      <th>812635</th>\n",
              "      <td>1.0</td>\n",
              "      <td>1</td>\n",
              "      <td>30</td>\n",
              "    </tr>\n",
              "    <tr>\n",
              "      <th>812687</th>\n",
              "      <td>1.0</td>\n",
              "      <td>1</td>\n",
              "      <td>8</td>\n",
              "    </tr>\n",
              "    <tr>\n",
              "      <th>812701</th>\n",
              "      <td>1.0</td>\n",
              "      <td>1</td>\n",
              "      <td>11</td>\n",
              "    </tr>\n",
              "  </tbody>\n",
              "</table>\n",
              "<p>244955 rows × 3 columns</p>\n",
              "</div>"
            ],
            "text/plain": [
              "        shipment_type_crossdocking  items_sold  stock_qty\n",
              "6                              1.0           2         84\n",
              "17                             1.0           1          8\n",
              "33                             1.0           7        365\n",
              "34                             1.0           1        176\n",
              "45                             1.0           2         91\n",
              "...                            ...         ...        ...\n",
              "812582                         1.0           2         17\n",
              "812627                         1.0           1         15\n",
              "812635                         1.0           1         30\n",
              "812687                         1.0           1          8\n",
              "812701                         1.0           1         11\n",
              "\n",
              "[244955 rows x 3 columns]"
            ]
          },
          "execution_count": 61,
          "metadata": {},
          "output_type": "execute_result"
        }
      ],
      "source": [
        "vendas_agendadas = df_encoded[['shipment_type_crossdocking','items_sold', 'stock_qty']]\n",
        "vendas_agendadas[(vendas_agendadas['shipment_type_crossdocking'] == 1) & (vendas_agendadas['items_sold'] > 0) & (vendas_agendadas['stock_qty'] > 0)]"
      ]
    },
    {
      "cell_type": "markdown",
      "metadata": {},
      "source": [
        "### Hipótese #2\n",
        "A análise dos gráficos mostra uma tendência curiosa no comportamento dos visitantes do site. Em julho, há um pico de visitas, superado apenas por novembro. Contudo, apesar do grande número de visitantes e dos preços médios mais baixos em julho, o volume de vendas é surpreendentemente baixo. Além disso, julho se destaca por ter muitas visitas e uma grande redução de itens em estoque. Isso levanta a questão: Por que em julho, com alto tráfego e preços reduzidos, as vendas são tão baixas em comparação a outros meses? É necessário investigar as causas desse comportamento atípico."
      ]
    },
    {
      "cell_type": "markdown",
      "metadata": {},
      "source": [
        "Abaixo é possível analisar a quantidade de vendas e a média de preço dos produtos por mês em um intervalo de 3 anos (2020, 2021, 2022). Nota-se que em julho as vendas e os preços são baixos.\n"
      ]
    },
    {
      "cell_type": "code",
      "execution_count": null,
      "metadata": {},
      "outputs": [
        {
          "data": {
            "image/png": "[encoded data removed]",
            "text/plain": [
              "<Figure size 1200x600 with 2 Axes>"
            ]
          },
          "metadata": {},
          "output_type": "display_data"
        }
      ],
      "source": [
        "\n",
        "df_items_sold = df_final[['mes', 'items_sold']]\n",
        "grouped_items_sold = df_items_sold.groupby('mes').sum()\n",
        "\n",
        "df_filtered_price = df_dates_fixed[['mes', 'unit_price']]\n",
        "grouped_data_price = df_filtered_price.groupby('mes').mean()\n",
        "\n",
        "df_filtered_stock = df_final[['mes', 'stock_qty']]\n",
        "grouped_data_stock = df_filtered_stock.groupby('mes').mean()\n",
        "\n",
        "plt.figure(figsize=(12, 6))\n",
        "\n",
        "line1, = plt.plot(grouped_items_sold.index, grouped_items_sold['items_sold'], marker='o', linestyle='-', color='orange', label='Quantidade de Vendas')\n",
        "plt.xlabel('Meses')\n",
        "plt.ylabel('Quantidade Vendas')\n",
        "plt.title('Preço Médio/Quantidade de Vendas Vs Meses ')\n",
        "plt.grid(True)\n",
        "\n",
        "plt.xticks(list(range(1, 13)), list(range(1, 13)))\n",
        "ax2 = plt.gca().twinx()\n",
        "line2, = ax2.plot(grouped_data_price.index, grouped_data_price['unit_price'], marker='o', linestyle='-', color='green', label='Preço Médio')\n",
        "ax2.set_ylabel('Preço Médio')\n",
        "\n",
        "lines = [line1, line2]\n",
        "labels = [l.get_label() for l in lines]\n",
        "plt.legend(lines, labels, loc='upper left')\n",
        "\n",
        "plt.show()"
      ]
    },
    {
      "cell_type": "markdown",
      "metadata": {},
      "source": [
        "Abaixo é possível analisar a média da quantidade no estoque e as visitas no site por mês em um intervalo de 3 anos (2020, 2021, 2022). Nota-se que curiosamente as visitas no site estão muito altas, enquanto o estoque, os preços, e as vendas estão em baixa.\n"
      ]
    },
    {
      "cell_type": "code",
      "execution_count": null,
      "metadata": {},
      "outputs": [
        {
          "data": {
            "image/png": "[encoded data removed]",
            "text/plain": [
              "<Figure size 1200x600 with 2 Axes>"
            ]
          },
          "metadata": {},
          "output_type": "display_data"
        }
      ],
      "source": [
        "# Filtrando o DataFrame para pegar apenas as colunas relevantes para a primeira análise\n",
        "df_items_sold = df_final[['mes', 'avg_website_visits_last_week']]\n",
        "# Agrupando os dados por 'mes' e calcule a soma dos items vendidos\n",
        "grouped_items_sold = df_items_sold.groupby('mes').sum()\n",
        "\n",
        "# Filtrando o DataFrame para pegar apenas as colunas relevantes para a segunda análise\n",
        "df_filtered_price = df_dates_fixed[['mes', 'stock_qty']]\n",
        "# Agrupando os dados por 'mes' e calcule a média do 'unit_price'\n",
        "grouped_data_price = df_filtered_price.groupby('mes').mean()\n",
        "\n",
        "# Filtrando o DataFrame para pegar apenas as colunas relevantes para a terceira análise\n",
        "df_filtered_stock = df_final[['mes', 'stock_qty']]\n",
        "# Agrupando os dados por 'mes' e calcule a média do 'stock_qty'\n",
        "grouped_data_stock = df_filtered_stock.groupby('mes').mean()\n",
        "\n",
        "# Criando um gráfico de linha juntando todas as informações\n",
        "plt.figure(figsize=(12, 6))\n",
        "\n",
        "# Primeiro eixo y (esquerdo)\n",
        "line1, = plt.plot(grouped_items_sold.index, grouped_items_sold['avg_website_visits_last_week'], marker='o', linestyle='-', color='blue', label='Visitas no Site')\n",
        "plt.xlabel('Meses')\n",
        "plt.ylabel('Visitas no Site')\n",
        "plt.title('Visitas no Site/Média quantidade no Estoque vs Meses')\n",
        "plt.grid(True)\n",
        "\n",
        "# Ajustando os ticks do eixo x\n",
        "plt.xticks(list(range(1, 13)), list(range(1, 13)))\n",
        "\n",
        "# Criando um segundo eixo y à direita\n",
        "ax2 = plt.gca().twinx()\n",
        "line2, = ax2.plot(grouped_data_price.index, grouped_data_price['stock_qty'], marker='o', linestyle='-', color='red', label='Média Quantidade no Estoque')\n",
        "ax2.set_ylabel('Média Quantidade no Estoque')\n",
        "\n",
        "# Combinando as legendas\n",
        "lines = [line1, line2]\n",
        "labels = [l.get_label() for l in lines]\n",
        "plt.legend(lines, labels, loc='upper left')\n",
        "\n",
        "plt.show()\n"
      ]
    },
    {
      "cell_type": "markdown",
      "metadata": {},
      "source": [
        "Conseguimos elaborar uma hipótese sobre o motivo dessa contradição:\n",
        "\n",
        "* Julho é um mês em que muitas empresas fazem liquidações devido à sua posição estratégica no calendário comercial, oferecendo promoções e descontos. Essas ofertas aumentam o tráfego em sites de e-commerce e atraem muitos consumidores. No entanto, surge o desafio da gestão de estoque. Se produtos desejados pelos clientes não estiverem disponíveis, mesmo com preços reduzidos, isso pode afetar negativamente as vendas, frustrando os compradores. Assim, é vital uma boa gestão de estoque durante essas promoções para atender à demanda e garantir a satisfação do cliente."
      ]
    },
    {
      "cell_type": "markdown",
      "metadata": {},
      "source": [
        "### Hipótese #3"
      ]
    },
    {
      "cell_type": "markdown",
      "metadata": {},
      "source": [
        "Os gráficos que relacionam \"preço\" e \"vendas\" nos anos de 2020, 2021 e 2022 revelam uma tendência notável. Nos primeiros dois anos, as vendas aumentaram proporcionalmente aos preços, indicando uma relação direta entre eles. No entanto, em 2022, essa tendência mudou, com as vendas diminuindo à medida que os preços aumentavam e vice-versa. Esse novo padrão levanta questionamentos sobre por que as vendas se elevaram em 2020 e 2021, apesar dos aumentos nos preços, enquanto o oposto ocorreu em 2022. Assim, foram propostas hipóteses para explicar essa mudança."
      ]
    },
    {
      "cell_type": "markdown",
      "metadata": {},
      "source": [
        "Abaixo é possível analisar a quantidade de vendas e a média de preço dos produtos no ano de 2020. Nota-se que os preços e vendas tendem a seguir mejoritariamente a mesma linha de cresciemento.\n"
      ]
    },
    {
      "cell_type": "code",
      "execution_count": null,
      "metadata": {},
      "outputs": [
        {
          "data": {
            "image/png": "[encoded data removed]",
            "text/plain": [
              "<Figure size 1200x600 with 2 Axes>"
            ]
          },
          "metadata": {},
          "output_type": "display_data"
        }
      ],
      "source": [
        "sold_2020 = df_encoded.loc[df_encoded['ano'] == 2020]\n",
        "df_items_sold = sold_2020[['mes', 'items_sold']]\n",
        "grouped_items_sold = df_items_sold.groupby('mes').sum()\n",
        "\n",
        "price_2020 = df_dates_fixed.loc[df_dates_fixed['ano'] == 2020]\n",
        "df_filtered_price = price_2020[['mes', 'unit_price']]\n",
        "grouped_data_price = df_filtered_price.groupby('mes').mean()\n",
        "\n",
        "df_filtered_stock = df_encoded[['mes', 'unit_price']]\n",
        "grouped_data_stock = df_filtered_stock.groupby('mes').mean()\n",
        "\n",
        "plt.figure(figsize=(12, 6))\n",
        "line1, = plt.plot(grouped_items_sold.index, grouped_items_sold['items_sold'], marker='o', linestyle='-', color='blue', label='Média de vendas')\n",
        "plt.xlabel('Meses')\n",
        "plt.ylabel('Média de vendas por sku')\n",
        "plt.title('Preço/Vendas x 2020')\n",
        "plt.grid(True)\n",
        "\n",
        "plt.xticks(list(range(1, 13)), list(range(1, 13)))\n",
        "ax2 = plt.gca().twinx()\n",
        "line2, = ax2.plot(grouped_data_price.index, grouped_data_price['unit_price'], marker='o', linestyle='-', color='red', label='Média de preço')\n",
        "ax2.set_ylabel('Preço médio por sku')\n",
        "\n",
        "lines = [line1, line2]\n",
        "labels = [l.get_label() for l in lines]\n",
        "\n",
        "plt.legend(lines, labels, loc='upper left')\n",
        "plt.show()"
      ]
    },
    {
      "cell_type": "markdown",
      "metadata": {},
      "source": [
        "Abaixo é possível analisar a quantidade de vendas e a média de preço dos produtos no ano de 2021. Nota-se novamente que os preços e vendas tendem a seguir mejoritariamente a mesma linha de cresciemento.\n"
      ]
    },
    {
      "cell_type": "code",
      "execution_count": null,
      "metadata": {},
      "outputs": [
        {
          "data": {
            "image/png": "[encoded data removed]",
            "text/plain": [
              "<Figure size 1200x600 with 2 Axes>"
            ]
          },
          "metadata": {},
          "output_type": "display_data"
        }
      ],
      "source": [
        "\n",
        "sold_2020 = df_encoded.loc[df_encoded['ano'] == 2021]\n",
        "df_items_sold = sold_2020[['mes', 'items_sold']]\n",
        "grouped_items_sold = df_items_sold.groupby('mes').sum()\n",
        "\n",
        "price_2020 = df_dates_fixed.loc[df_dates_fixed['ano'] == 2021]\n",
        "df_filtered_price = price_2020[['mes', 'unit_price']]\n",
        "grouped_data_price = df_filtered_price.groupby('mes').mean()\n",
        "\n",
        "df_filtered_stock = df_encoded[['mes', 'unit_price']]\n",
        "grouped_data_stock = df_filtered_stock.groupby('mes').mean()\n",
        "\n",
        "plt.figure(figsize=(12, 6))\n",
        "line1, = plt.plot(grouped_items_sold.index, grouped_items_sold['items_sold'], marker='o', linestyle='-', color='blue', label='Média de vendas')\n",
        "plt.xlabel('Meses')\n",
        "plt.ylabel('Média de vendas por sku')\n",
        "plt.title('Preço/Vendas x 2021')\n",
        "plt.grid(True)\n",
        "\n",
        "plt.xticks(list(range(1, 13)), list(range(1, 13)))\n",
        "ax2 = plt.gca().twinx()\n",
        "\n",
        "line2, = ax2.plot(grouped_data_price.index, grouped_data_price['unit_price'], marker='o', linestyle='-', color='red', label='Média de preço')\n",
        "ax2.set_ylabel('Preço médio por sku')\n",
        "lines = [line1, line2]\n",
        "labels = [l.get_label() for l in lines]\n",
        "\n",
        "plt.legend(lines, labels, loc='upper left')\n",
        "plt.show()"
      ]
    },
    {
      "cell_type": "markdown",
      "metadata": {},
      "source": [
        "Abaixo é possível analisar a quantidade de vendas e a média de preço dos produtos no ano de 2022. Diferentemente dos anos anteriores nota-se que os preços e vendas tiveram um crescimento inversamente proporcional, ou seja, enquanto um aumentava o outro diminuia seu valor.\n"
      ]
    },
    {
      "cell_type": "code",
      "execution_count": null,
      "metadata": {},
      "outputs": [
        {
          "data": {
            "image/png": "[encoded data removed]",
            "text/plain": [
              "<Figure size 1200x600 with 2 Axes>"
            ]
          },
          "metadata": {},
          "output_type": "display_data"
        }
      ],
      "source": [
        "sold_2020 = df_encoded.loc[df_encoded['ano'] == 2022]\n",
        "df_items_sold = sold_2020[['mes', 'items_sold']]\n",
        "grouped_items_sold = df_items_sold.groupby('mes').sum()\n",
        "\n",
        "price_2020 = df_dates_fixed.loc[df_dates_fixed['ano'] == 2022]\n",
        "df_filtered_price = price_2020[['mes', 'unit_price']]\n",
        "grouped_data_price = df_filtered_price.groupby('mes').mean()\n",
        "\n",
        "df_filtered_stock = df_encoded[['mes', 'unit_price']]\n",
        "grouped_data_stock = df_filtered_stock.groupby('mes').mean()\n",
        "plt.figure(figsize=(12, 6))\n",
        "\n",
        "line1, = plt.plot(grouped_items_sold.index, grouped_items_sold['items_sold'], marker='o', linestyle='-', color='blue', label='Média de vendas')\n",
        "plt.xlabel('Meses')\n",
        "plt.ylabel('Média de vendas por sku')\n",
        "plt.title('Preço/Vendas x 2022')\n",
        "plt.grid(True)\n",
        "\n",
        "plt.xticks(list(range(1, 13)), list(range(1, 13)))\n",
        "ax2 = plt.gca().twinx()\n",
        "\n",
        "line2, = ax2.plot(grouped_data_price.index, grouped_data_price['unit_price'], marker='o', linestyle='-', color='red', label='Média de preço')\n",
        "ax2.set_ylabel('Preço médio por sku')\n",
        "lines = [line1, line2]\n",
        "labels = [l.get_label() for l in lines]\n",
        "\n",
        "plt.legend(lines, labels, loc='upper left')\n",
        "plt.show()"
      ]
    },
    {
      "cell_type": "markdown",
      "metadata": {},
      "source": [
        "Conseguimos elaborar uma hipótese sobre o motivo dessa quebra no padrão de crescimento:\n",
        "\n",
        "Fatores Macroeconômicos: Nos anos de 2020 e 2021, a pandemia de COVID-19 causou um aumento significativo no valor do dólar, elevando os preços das matérias-primas e, consequentemente, dos produtos da Mobly. A alta inflação nesse período também impactou os valores. Essas razões explicam o aumento nos preços mostrado nos gráficos de 2020 e 2021.\n",
        "\n",
        "Impacto da Quarentena: A pandemia impulsionou a adoção do trabalho remoto, levando as pessoas a investirem em móveis para melhorar seus espaços domésticos. Isso resultou em uma demanda crescente por móveis, explicando o aumento nas vendas em 2020 e 2021.\n",
        "\n",
        "Retomada Econômica e Normalização: Em 2022, a economia brasileira retomou suas atividades, levando à estabilidade dos preços e dos indicadores macroeconômicos. A menor demanda por móveis pós-pandemia levou a vendas estáveis. As vendas parecem ter sido sensíveis aos preços, aumentando quando os preços eram acessíveis e vice-versa. Isso pode explicar a quebra do padrão observado anteriormente."
      ]
    },
    {
      "cell_type": "markdown",
      "metadata": {},
      "source": [
        "# Gráficos\n"
      ]
    },
    {
      "cell_type": "markdown",
      "metadata": {},
      "source": [
        "### Gráfico de relação das vendas mensais nos anos de 2020 a 2022"
      ]
    },
    {
      "cell_type": "code",
      "execution_count": null,
      "metadata": {},
      "outputs": [
        {
          "data": {
            "application/vnd.plotly.v1+json": {
              "config": {
                "plotlyServerURL": "https://plot.ly"
              },
              "data": [
                {
                  "hovertemplate": "ano=2020<br>mes=%{x}<br>items_sold=%{y}<extra></extra>",
                  "legendgroup": "",
                  "line": {
                    "color": "#636efa",
                    "dash": "solid"
                  },
                  "marker": {
                    "symbol": "circle"
                  },
                  "mode": "lines",
                  "name": "",
                  "orientation": "v",
                  "showlegend": false,
                  "type": "scatter",
                  "x": [
                    1,
                    2,
                    3,
                    4,
                    5,
                    6,
                    7,
                    8,
                    9,
                    10,
                    11,
                    12
                  ],
                  "xaxis": "x",
                  "y": [
                    39178,
                    33233,
                    36286,
                    37109,
                    53256,
                    47323,
                    49077,
                    54714,
                    50926,
                    45213,
                    12046,
                    9342
                  ],
                  "yaxis": "y"
                }
              ],
              "frames": [
                {
                  "data": [
                    {
                      "hovertemplate": "ano=2020<br>mes=%{x}<br>items_sold=%{y}<extra></extra>",
                      "legendgroup": "",
                      "line": {
                        "color": "#636efa",
                        "dash": "solid"
                      },
                      "marker": {
                        "symbol": "circle"
                      },
                      "mode": "lines",
                      "name": "",
                      "orientation": "v",
                      "showlegend": false,
                      "type": "scatter",
                      "x": [
                        1,
                        2,
                        3,
                        4,
                        5,
                        6,
                        7,
                        8,
                        9,
                        10,
                        11,
                        12
                      ],
                      "xaxis": "x",
                      "y": [
                        39178,
                        33233,
                        36286,
                        37109,
                        53256,
                        47323,
                        49077,
                        54714,
                        50926,
                        45213,
                        12046,
                        9342
                      ],
                      "yaxis": "y"
                    }
                  ],
                  "name": "2020"
                },
                {
                  "data": [
                    {
                      "hovertemplate": "ano=2021<br>mes=%{x}<br>items_sold=%{y}<extra></extra>",
                      "legendgroup": "",
                      "line": {
                        "color": "#636efa",
                        "dash": "solid"
                      },
                      "marker": {
                        "symbol": "circle"
                      },
                      "mode": "lines",
                      "name": "",
                      "orientation": "v",
                      "showlegend": false,
                      "type": "scatter",
                      "x": [
                        1,
                        2,
                        3,
                        4,
                        5,
                        6,
                        7,
                        8,
                        9,
                        10,
                        11,
                        12
                      ],
                      "xaxis": "x",
                      "y": [
                        51229,
                        48143,
                        56772,
                        50672,
                        50975,
                        61150,
                        65092,
                        55712,
                        62482,
                        55352,
                        28429,
                        5369
                      ],
                      "yaxis": "y"
                    }
                  ],
                  "name": "2021"
                },
                {
                  "data": [
                    {
                      "hovertemplate": "ano=2022<br>mes=%{x}<br>items_sold=%{y}<extra></extra>",
                      "legendgroup": "",
                      "line": {
                        "color": "#636efa",
                        "dash": "solid"
                      },
                      "marker": {
                        "symbol": "circle"
                      },
                      "mode": "lines",
                      "name": "",
                      "orientation": "v",
                      "showlegend": false,
                      "type": "scatter",
                      "x": [
                        1,
                        2,
                        3,
                        4,
                        5,
                        6,
                        7,
                        8,
                        9,
                        10,
                        11,
                        12
                      ],
                      "xaxis": "x",
                      "y": [
                        51593,
                        46642,
                        54861,
                        47586,
                        51067,
                        48928,
                        54284,
                        53893,
                        47083,
                        51144,
                        26662,
                        6791
                      ],
                      "yaxis": "y"
                    }
                  ],
                  "name": "2022"
                }
              ],
              "layout": {
                "legend": {
                  "tracegroupgap": 0
                },
                "margin": {
                  "t": 60
                },
                "sliders": [
                  {
                    "active": 0,
                    "currentvalue": {
                      "prefix": "ano="
                    },
                    "len": 0.9,
                    "pad": {
                      "b": 10,
                      "t": 60
                    },
                    "steps": [
                      {
                        "args": [
                          [
                            "2020"
                          ],
                          {
                            "frame": {
                              "duration": 0,
                              "redraw": false
                            },
                            "fromcurrent": true,
                            "mode": "immediate",
                            "transition": {
                              "duration": 0,
                              "easing": "linear"
                            }
                          }
                        ],
                        "label": "2020",
                        "method": "animate"
                      },
                      {
                        "args": [
                          [
                            "2021"
                          ],
                          {
                            "frame": {
                              "duration": 0,
                              "redraw": false
                            },
                            "fromcurrent": true,
                            "mode": "immediate",
                            "transition": {
                              "duration": 0,
                              "easing": "linear"
                            }
                          }
                        ],
                        "label": "2021",
                        "method": "animate"
                      },
                      {
                        "args": [
                          [
                            "2022"
                          ],
                          {
                            "frame": {
                              "duration": 0,
                              "redraw": false
                            },
                            "fromcurrent": true,
                            "mode": "immediate",
                            "transition": {
                              "duration": 0,
                              "easing": "linear"
                            }
                          }
                        ],
                        "label": "2022",
                        "method": "animate"
                      }
                    ],
                    "x": 0.1,
                    "xanchor": "left",
                    "y": 0,
                    "yanchor": "top"
                  }
                ],
                "template": {
                  "data": {
                    "bar": [
                      {
                        "error_x": {
                          "color": "#2a3f5f"
                        },
                        "error_y": {
                          "color": "#2a3f5f"
                        },
                        "marker": {
                          "line": {
                            "color": "#E5ECF6",
                            "width": 0.5
                          },
                          "pattern": {
                            "fillmode": "overlay",
                            "size": 10,
                            "solidity": 0.2
                          }
                        },
                        "type": "bar"
                      }
                    ],
                    "barpolar": [
                      {
                        "marker": {
                          "line": {
                            "color": "#E5ECF6",
                            "width": 0.5
                          },
                          "pattern": {
                            "fillmode": "overlay",
                            "size": 10,
                            "solidity": 0.2
                          }
                        },
                        "type": "barpolar"
                      }
                    ],
                    "carpet": [
                      {
                        "aaxis": {
                          "endlinecolor": "#2a3f5f",
                          "gridcolor": "white",
                          "linecolor": "white",
                          "minorgridcolor": "white",
                          "startlinecolor": "#2a3f5f"
                        },
                        "baxis": {
                          "endlinecolor": "#2a3f5f",
                          "gridcolor": "white",
                          "linecolor": "white",
                          "minorgridcolor": "white",
                          "startlinecolor": "#2a3f5f"
                        },
                        "type": "carpet"
                      }
                    ],
                    "choropleth": [
                      {
                        "colorbar": {
                          "outlinewidth": 0,
                          "ticks": ""
                        },
                        "type": "choropleth"
                      }
                    ],
                    "contour": [
                      {
                        "colorbar": {
                          "outlinewidth": 0,
                          "ticks": ""
                        },
                        "colorscale": [
                          [
                            0,
                            "#0d0887"
                          ],
                          [
                            0.1111111111111111,
                            "#46039f"
                          ],
                          [
                            0.2222222222222222,
                            "#7201a8"
                          ],
                          [
                            0.3333333333333333,
                            "#9c179e"
                          ],
                          [
                            0.4444444444444444,
                            "#bd3786"
                          ],
                          [
                            0.5555555555555556,
                            "#d8576b"
                          ],
                          [
                            0.6666666666666666,
                            "#ed7953"
                          ],
                          [
                            0.7777777777777778,
                            "#fb9f3a"
                          ],
                          [
                            0.8888888888888888,
                            "#fdca26"
                          ],
                          [
                            1,
                            "#f0f921"
                          ]
                        ],
                        "type": "contour"
                      }
                    ],
                    "contourcarpet": [
                      {
                        "colorbar": {
                          "outlinewidth": 0,
                          "ticks": ""
                        },
                        "type": "contourcarpet"
                      }
                    ],
                    "heatmap": [
                      {
                        "colorbar": {
                          "outlinewidth": 0,
                          "ticks": ""
                        },
                        "colorscale": [
                          [
                            0,
                            "#0d0887"
                          ],
                          [
                            0.1111111111111111,
                            "#46039f"
                          ],
                          [
                            0.2222222222222222,
                            "#7201a8"
                          ],
                          [
                            0.3333333333333333,
                            "#9c179e"
                          ],
                          [
                            0.4444444444444444,
                            "#bd3786"
                          ],
                          [
                            0.5555555555555556,
                            "#d8576b"
                          ],
                          [
                            0.6666666666666666,
                            "#ed7953"
                          ],
                          [
                            0.7777777777777778,
                            "#fb9f3a"
                          ],
                          [
                            0.8888888888888888,
                            "#fdca26"
                          ],
                          [
                            1,
                            "#f0f921"
                          ]
                        ],
                        "type": "heatmap"
                      }
                    ],
                    "heatmapgl": [
                      {
                        "colorbar": {
                          "outlinewidth": 0,
                          "ticks": ""
                        },
                        "colorscale": [
                          [
                            0,
                            "#0d0887"
                          ],
                          [
                            0.1111111111111111,
                            "#46039f"
                          ],
                          [
                            0.2222222222222222,
                            "#7201a8"
                          ],
                          [
                            0.3333333333333333,
                            "#9c179e"
                          ],
                          [
                            0.4444444444444444,
                            "#bd3786"
                          ],
                          [
                            0.5555555555555556,
                            "#d8576b"
                          ],
                          [
                            0.6666666666666666,
                            "#ed7953"
                          ],
                          [
                            0.7777777777777778,
                            "#fb9f3a"
                          ],
                          [
                            0.8888888888888888,
                            "#fdca26"
                          ],
                          [
                            1,
                            "#f0f921"
                          ]
                        ],
                        "type": "heatmapgl"
                      }
                    ],
                    "histogram": [
                      {
                        "marker": {
                          "pattern": {
                            "fillmode": "overlay",
                            "size": 10,
                            "solidity": 0.2
                          }
                        },
                        "type": "histogram"
                      }
                    ],
                    "histogram2d": [
                      {
                        "colorbar": {
                          "outlinewidth": 0,
                          "ticks": ""
                        },
                        "colorscale": [
                          [
                            0,
                            "#0d0887"
                          ],
                          [
                            0.1111111111111111,
                            "#46039f"
                          ],
                          [
                            0.2222222222222222,
                            "#7201a8"
                          ],
                          [
                            0.3333333333333333,
                            "#9c179e"
                          ],
                          [
                            0.4444444444444444,
                            "#bd3786"
                          ],
                          [
                            0.5555555555555556,
                            "#d8576b"
                          ],
                          [
                            0.6666666666666666,
                            "#ed7953"
                          ],
                          [
                            0.7777777777777778,
                            "#fb9f3a"
                          ],
                          [
                            0.8888888888888888,
                            "#fdca26"
                          ],
                          [
                            1,
                            "#f0f921"
                          ]
                        ],
                        "type": "histogram2d"
                      }
                    ],
                    "histogram2dcontour": [
                      {
                        "colorbar": {
                          "outlinewidth": 0,
                          "ticks": ""
                        },
                        "colorscale": [
                          [
                            0,
                            "#0d0887"
                          ],
                          [
                            0.1111111111111111,
                            "#46039f"
                          ],
                          [
                            0.2222222222222222,
                            "#7201a8"
                          ],
                          [
                            0.3333333333333333,
                            "#9c179e"
                          ],
                          [
                            0.4444444444444444,
                            "#bd3786"
                          ],
                          [
                            0.5555555555555556,
                            "#d8576b"
                          ],
                          [
                            0.6666666666666666,
                            "#ed7953"
                          ],
                          [
                            0.7777777777777778,
                            "#fb9f3a"
                          ],
                          [
                            0.8888888888888888,
                            "#fdca26"
                          ],
                          [
                            1,
                            "#f0f921"
                          ]
                        ],
                        "type": "histogram2dcontour"
                      }
                    ],
                    "mesh3d": [
                      {
                        "colorbar": {
                          "outlinewidth": 0,
                          "ticks": ""
                        },
                        "type": "mesh3d"
                      }
                    ],
                    "parcoords": [
                      {
                        "line": {
                          "colorbar": {
                            "outlinewidth": 0,
                            "ticks": ""
                          }
                        },
                        "type": "parcoords"
                      }
                    ],
                    "pie": [
                      {
                        "automargin": true,
                        "type": "pie"
                      }
                    ],
                    "scatter": [
                      {
                        "fillpattern": {
                          "fillmode": "overlay",
                          "size": 10,
                          "solidity": 0.2
                        },
                        "type": "scatter"
                      }
                    ],
                    "scatter3d": [
                      {
                        "line": {
                          "colorbar": {
                            "outlinewidth": 0,
                            "ticks": ""
                          }
                        },
                        "marker": {
                          "colorbar": {
                            "outlinewidth": 0,
                            "ticks": ""
                          }
                        },
                        "type": "scatter3d"
                      }
                    ],
                    "scattercarpet": [
                      {
                        "marker": {
                          "colorbar": {
                            "outlinewidth": 0,
                            "ticks": ""
                          }
                        },
                        "type": "scattercarpet"
                      }
                    ],
                    "scattergeo": [
                      {
                        "marker": {
                          "colorbar": {
                            "outlinewidth": 0,
                            "ticks": ""
                          }
                        },
                        "type": "scattergeo"
                      }
                    ],
                    "scattergl": [
                      {
                        "marker": {
                          "colorbar": {
                            "outlinewidth": 0,
                            "ticks": ""
                          }
                        },
                        "type": "scattergl"
                      }
                    ],
                    "scattermapbox": [
                      {
                        "marker": {
                          "colorbar": {
                            "outlinewidth": 0,
                            "ticks": ""
                          }
                        },
                        "type": "scattermapbox"
                      }
                    ],
                    "scatterpolar": [
                      {
                        "marker": {
                          "colorbar": {
                            "outlinewidth": 0,
                            "ticks": ""
                          }
                        },
                        "type": "scatterpolar"
                      }
                    ],
                    "scatterpolargl": [
                      {
                        "marker": {
                          "colorbar": {
                            "outlinewidth": 0,
                            "ticks": ""
                          }
                        },
                        "type": "scatterpolargl"
                      }
                    ],
                    "scatterternary": [
                      {
                        "marker": {
                          "colorbar": {
                            "outlinewidth": 0,
                            "ticks": ""
                          }
                        },
                        "type": "scatterternary"
                      }
                    ],
                    "surface": [
                      {
                        "colorbar": {
                          "outlinewidth": 0,
                          "ticks": ""
                        },
                        "colorscale": [
                          [
                            0,
                            "#0d0887"
                          ],
                          [
                            0.1111111111111111,
                            "#46039f"
                          ],
                          [
                            0.2222222222222222,
                            "#7201a8"
                          ],
                          [
                            0.3333333333333333,
                            "#9c179e"
                          ],
                          [
                            0.4444444444444444,
                            "#bd3786"
                          ],
                          [
                            0.5555555555555556,
                            "#d8576b"
                          ],
                          [
                            0.6666666666666666,
                            "#ed7953"
                          ],
                          [
                            0.7777777777777778,
                            "#fb9f3a"
                          ],
                          [
                            0.8888888888888888,
                            "#fdca26"
                          ],
                          [
                            1,
                            "#f0f921"
                          ]
                        ],
                        "type": "surface"
                      }
                    ],
                    "table": [
                      {
                        "cells": {
                          "fill": {
                            "color": "#EBF0F8"
                          },
                          "line": {
                            "color": "white"
                          }
                        },
                        "header": {
                          "fill": {
                            "color": "#C8D4E3"
                          },
                          "line": {
                            "color": "white"
                          }
                        },
                        "type": "table"
                      }
                    ]
                  },
                  "layout": {
                    "annotationdefaults": {
                      "arrowcolor": "#2a3f5f",
                      "arrowhead": 0,
                      "arrowwidth": 1
                    },
                    "autotypenumbers": "strict",
                    "coloraxis": {
                      "colorbar": {
                        "outlinewidth": 0,
                        "ticks": ""
                      }
                    },
                    "colorscale": {
                      "diverging": [
                        [
                          0,
                          "#8e0152"
                        ],
                        [
                          0.1,
                          "#c51b7d"
                        ],
                        [
                          0.2,
                          "#de77ae"
                        ],
                        [
                          0.3,
                          "#f1b6da"
                        ],
                        [
                          0.4,
                          "#fde0ef"
                        ],
                        [
                          0.5,
                          "#f7f7f7"
                        ],
                        [
                          0.6,
                          "#e6f5d0"
                        ],
                        [
                          0.7,
                          "#b8e186"
                        ],
                        [
                          0.8,
                          "#7fbc41"
                        ],
                        [
                          0.9,
                          "#4d9221"
                        ],
                        [
                          1,
                          "#276419"
                        ]
                      ],
                      "sequential": [
                        [
                          0,
                          "#0d0887"
                        ],
                        [
                          0.1111111111111111,
                          "#46039f"
                        ],
                        [
                          0.2222222222222222,
                          "#7201a8"
                        ],
                        [
                          0.3333333333333333,
                          "#9c179e"
                        ],
                        [
                          0.4444444444444444,
                          "#bd3786"
                        ],
                        [
                          0.5555555555555556,
                          "#d8576b"
                        ],
                        [
                          0.6666666666666666,
                          "#ed7953"
                        ],
                        [
                          0.7777777777777778,
                          "#fb9f3a"
                        ],
                        [
                          0.8888888888888888,
                          "#fdca26"
                        ],
                        [
                          1,
                          "#f0f921"
                        ]
                      ],
                      "sequentialminus": [
                        [
                          0,
                          "#0d0887"
                        ],
                        [
                          0.1111111111111111,
                          "#46039f"
                        ],
                        [
                          0.2222222222222222,
                          "#7201a8"
                        ],
                        [
                          0.3333333333333333,
                          "#9c179e"
                        ],
                        [
                          0.4444444444444444,
                          "#bd3786"
                        ],
                        [
                          0.5555555555555556,
                          "#d8576b"
                        ],
                        [
                          0.6666666666666666,
                          "#ed7953"
                        ],
                        [
                          0.7777777777777778,
                          "#fb9f3a"
                        ],
                        [
                          0.8888888888888888,
                          "#fdca26"
                        ],
                        [
                          1,
                          "#f0f921"
                        ]
                      ]
                    },
                    "colorway": [
                      "#636efa",
                      "#EF553B",
                      "#00cc96",
                      "#ab63fa",
                      "#FFA15A",
                      "#19d3f3",
                      "#FF6692",
                      "#B6E880",
                      "#FF97FF",
                      "#FECB52"
                    ],
                    "font": {
                      "color": "#2a3f5f"
                    },
                    "geo": {
                      "bgcolor": "white",
                      "lakecolor": "white",
                      "landcolor": "#E5ECF6",
                      "showlakes": true,
                      "showland": true,
                      "subunitcolor": "white"
                    },
                    "hoverlabel": {
                      "align": "left"
                    },
                    "hovermode": "closest",
                    "mapbox": {
                      "style": "light"
                    },
                    "paper_bgcolor": "white",
                    "plot_bgcolor": "#E5ECF6",
                    "polar": {
                      "angularaxis": {
                        "gridcolor": "white",
                        "linecolor": "white",
                        "ticks": ""
                      },
                      "bgcolor": "#E5ECF6",
                      "radialaxis": {
                        "gridcolor": "white",
                        "linecolor": "white",
                        "ticks": ""
                      }
                    },
                    "scene": {
                      "xaxis": {
                        "backgroundcolor": "#E5ECF6",
                        "gridcolor": "white",
                        "gridwidth": 2,
                        "linecolor": "white",
                        "showbackground": true,
                        "ticks": "",
                        "zerolinecolor": "white"
                      },
                      "yaxis": {
                        "backgroundcolor": "#E5ECF6",
                        "gridcolor": "white",
                        "gridwidth": 2,
                        "linecolor": "white",
                        "showbackground": true,
                        "ticks": "",
                        "zerolinecolor": "white"
                      },
                      "zaxis": {
                        "backgroundcolor": "#E5ECF6",
                        "gridcolor": "white",
                        "gridwidth": 2,
                        "linecolor": "white",
                        "showbackground": true,
                        "ticks": "",
                        "zerolinecolor": "white"
                      }
                    },
                    "shapedefaults": {
                      "line": {
                        "color": "#2a3f5f"
                      }
                    },
                    "ternary": {
                      "aaxis": {
                        "gridcolor": "white",
                        "linecolor": "white",
                        "ticks": ""
                      },
                      "baxis": {
                        "gridcolor": "white",
                        "linecolor": "white",
                        "ticks": ""
                      },
                      "bgcolor": "#E5ECF6",
                      "caxis": {
                        "gridcolor": "white",
                        "linecolor": "white",
                        "ticks": ""
                      }
                    },
                    "title": {
                      "x": 0.05
                    },
                    "xaxis": {
                      "automargin": true,
                      "gridcolor": "white",
                      "linecolor": "white",
                      "ticks": "",
                      "title": {
                        "standoff": 15
                      },
                      "zerolinecolor": "white",
                      "zerolinewidth": 2
                    },
                    "yaxis": {
                      "automargin": true,
                      "gridcolor": "white",
                      "linecolor": "white",
                      "ticks": "",
                      "title": {
                        "standoff": 15
                      },
                      "zerolinecolor": "white",
                      "zerolinewidth": 2
                    }
                  }
                },
                "title": {
                  "text": "Total de vendas mensais por ano de 2020 a 2022"
                },
                "updatemenus": [
                  {
                    "buttons": [
                      {
                        "args": [
                          null,
                          {
                            "frame": {
                              "duration": 2000,
                              "redraw": false
                            },
                            "fromcurrent": true,
                            "mode": "immediate",
                            "transition": {
                              "duration": 8000,
                              "easing": "linear"
                            }
                          }
                        ],
                        "label": "&#9654;",
                        "method": "animate"
                      },
                      {
                        "args": [
                          [
                            null
                          ],
                          {
                            "frame": {
                              "duration": 0,
                              "redraw": false
                            },
                            "fromcurrent": true,
                            "mode": "immediate",
                            "transition": {
                              "duration": 0,
                              "easing": "linear"
                            }
                          }
                        ],
                        "label": "&#9724;",
                        "method": "animate"
                      }
                    ],
                    "direction": "left",
                    "pad": {
                      "r": 10,
                      "t": 70
                    },
                    "showactive": false,
                    "type": "buttons",
                    "x": 0.1,
                    "xanchor": "right",
                    "y": 0,
                    "yanchor": "top"
                  }
                ],
                "xaxis": {
                  "anchor": "y",
                  "domain": [
                    0,
                    1
                  ],
                  "title": {
                    "text": "mes"
                  }
                },
                "yaxis": {
                  "anchor": "x",
                  "domain": [
                    0,
                    1
                  ],
                  "title": {
                    "text": "items_sold"
                  }
                }
              }
            }
          },
          "metadata": {},
          "output_type": "display_data"
        }
      ],
      "source": [
        "df_final2 = df_final[df_final['ano'] != 2023]\n",
        "monthly_sales = df_final2.groupby(['mes', 'ano'])['items_sold'].sum().reset_index()\n",
        "fig = px.line(monthly_sales, x='mes', y='items_sold', animation_frame='ano')\n",
        "fig.layout.updatemenus[0].buttons[0].args[1]['frame']['duration'] = 2000\n",
        "fig.layout.updatemenus[0].buttons[0].args[1]['transition']['duration'] = 8000\n",
        "fig.update_layout(title='Total de vendas mensais por ano de 2020 a 2022')\n",
        "fig.show()\n"
      ]
    },
    {
      "cell_type": "markdown",
      "metadata": {},
      "source": [
        "Este gráfico representa o número de itens vendidos por mês, durante os 3 últimos anos (2020, 2021 e 2022).\n",
        "\n",
        "Uma das características observadas nessa progressão foi aumento de vendas ao longo de três anos, que pode ser explicado por ser o crescimento da economia e do poder de compra dos consumidores, o que aumenta a demanda por produtos, aumento da popularidade da Mobly e a expansão de sua base de clientes. Além disso, existe um impacto muito grande da pandemia sobre as vendas online, que se tornaram mais comuns no cotidiano.\n",
        "\n",
        "A segunda observação recorre à tendência de estabilização geral do gráfico de vendas ao longo dos anos, que pode ser atribuída à consistência na oferta de produtos e serviços pela Mobly. A empresa pode ter mantido uma estratégia de vendas consistente ao longo de três anos, o que resultou em flutuações suaves nas vendas.\n",
        "\n",
        "Por último, foi analisado um pico de vendas em novembro pode ser explicado pela proximidade das festas de fim de ano e a Black Friday, principalmente. Durante esse período, muitas pessoas começam a comprar presentes para amigos e familiares, o que aumenta a demanda por produtos e é um período em que empresas realizam promoções e descontos durante esse período para atrair mais clientes, o que pode contribuir para o aumento das vendas.\n"
      ]
    },
    {
      "cell_type": "markdown",
      "metadata": {},
      "source": [
        "### Gráfico de soma das visitas médias ao site por dia da semana"
      ]
    },
    {
      "cell_type": "code",
      "execution_count": null,
      "metadata": {},
      "outputs": [
        {
          "data": {
            "application/vnd.plotly.v1+json": {
              "config": {
                "plotlyServerURL": "https://plot.ly"
              },
              "data": [
                {
                  "alignmentgroup": "True",
                  "hovertemplate": "weekday_name=%{x}<br>avg_website_visits_last_week=%{y}<extra></extra>",
                  "legendgroup": "",
                  "marker": {
                    "color": "#FF9345",
                    "pattern": {
                      "shape": ""
                    }
                  },
                  "name": "",
                  "offsetgroup": "",
                  "orientation": "v",
                  "showlegend": false,
                  "textposition": "auto",
                  "type": "bar",
                  "x": [
                    "Monday",
                    "Tuesday",
                    "Wednesday",
                    "Thursday",
                    "Friday",
                    "Saturday",
                    "Sunday"
                  ],
                  "xaxis": "x",
                  "y": [
                    12856889.333333334,
                    12802163.714285715,
                    12837760,
                    12842454.897619048,
                    12847349.611904763,
                    12849001.273809524,
                    12845117.916666666
                  ],
                  "yaxis": "y"
                }
              ],
              "layout": {
                "barmode": "relative",
                "legend": {
                  "tracegroupgap": 0
                },
                "margin": {
                  "t": 60
                },
                "template": {
                  "data": {
                    "bar": [
                      {
                        "error_x": {
                          "color": "#2a3f5f"
                        },
                        "error_y": {
                          "color": "#2a3f5f"
                        },
                        "marker": {
                          "line": {
                            "color": "#E5ECF6",
                            "width": 0.5
                          },
                          "pattern": {
                            "fillmode": "overlay",
                            "size": 10,
                            "solidity": 0.2
                          }
                        },
                        "type": "bar"
                      }
                    ],
                    "barpolar": [
                      {
                        "marker": {
                          "line": {
                            "color": "#E5ECF6",
                            "width": 0.5
                          },
                          "pattern": {
                            "fillmode": "overlay",
                            "size": 10,
                            "solidity": 0.2
                          }
                        },
                        "type": "barpolar"
                      }
                    ],
                    "carpet": [
                      {
                        "aaxis": {
                          "endlinecolor": "#2a3f5f",
                          "gridcolor": "white",
                          "linecolor": "white",
                          "minorgridcolor": "white",
                          "startlinecolor": "#2a3f5f"
                        },
                        "baxis": {
                          "endlinecolor": "#2a3f5f",
                          "gridcolor": "white",
                          "linecolor": "white",
                          "minorgridcolor": "white",
                          "startlinecolor": "#2a3f5f"
                        },
                        "type": "carpet"
                      }
                    ],
                    "choropleth": [
                      {
                        "colorbar": {
                          "outlinewidth": 0,
                          "ticks": ""
                        },
                        "type": "choropleth"
                      }
                    ],
                    "contour": [
                      {
                        "colorbar": {
                          "outlinewidth": 0,
                          "ticks": ""
                        },
                        "colorscale": [
                          [
                            0,
                            "#0d0887"
                          ],
                          [
                            0.1111111111111111,
                            "#46039f"
                          ],
                          [
                            0.2222222222222222,
                            "#7201a8"
                          ],
                          [
                            0.3333333333333333,
                            "#9c179e"
                          ],
                          [
                            0.4444444444444444,
                            "#bd3786"
                          ],
                          [
                            0.5555555555555556,
                            "#d8576b"
                          ],
                          [
                            0.6666666666666666,
                            "#ed7953"
                          ],
                          [
                            0.7777777777777778,
                            "#fb9f3a"
                          ],
                          [
                            0.8888888888888888,
                            "#fdca26"
                          ],
                          [
                            1,
                            "#f0f921"
                          ]
                        ],
                        "type": "contour"
                      }
                    ],
                    "contourcarpet": [
                      {
                        "colorbar": {
                          "outlinewidth": 0,
                          "ticks": ""
                        },
                        "type": "contourcarpet"
                      }
                    ],
                    "heatmap": [
                      {
                        "colorbar": {
                          "outlinewidth": 0,
                          "ticks": ""
                        },
                        "colorscale": [
                          [
                            0,
                            "#0d0887"
                          ],
                          [
                            0.1111111111111111,
                            "#46039f"
                          ],
                          [
                            0.2222222222222222,
                            "#7201a8"
                          ],
                          [
                            0.3333333333333333,
                            "#9c179e"
                          ],
                          [
                            0.4444444444444444,
                            "#bd3786"
                          ],
                          [
                            0.5555555555555556,
                            "#d8576b"
                          ],
                          [
                            0.6666666666666666,
                            "#ed7953"
                          ],
                          [
                            0.7777777777777778,
                            "#fb9f3a"
                          ],
                          [
                            0.8888888888888888,
                            "#fdca26"
                          ],
                          [
                            1,
                            "#f0f921"
                          ]
                        ],
                        "type": "heatmap"
                      }
                    ],
                    "heatmapgl": [
                      {
                        "colorbar": {
                          "outlinewidth": 0,
                          "ticks": ""
                        },
                        "colorscale": [
                          [
                            0,
                            "#0d0887"
                          ],
                          [
                            0.1111111111111111,
                            "#46039f"
                          ],
                          [
                            0.2222222222222222,
                            "#7201a8"
                          ],
                          [
                            0.3333333333333333,
                            "#9c179e"
                          ],
                          [
                            0.4444444444444444,
                            "#bd3786"
                          ],
                          [
                            0.5555555555555556,
                            "#d8576b"
                          ],
                          [
                            0.6666666666666666,
                            "#ed7953"
                          ],
                          [
                            0.7777777777777778,
                            "#fb9f3a"
                          ],
                          [
                            0.8888888888888888,
                            "#fdca26"
                          ],
                          [
                            1,
                            "#f0f921"
                          ]
                        ],
                        "type": "heatmapgl"
                      }
                    ],
                    "histogram": [
                      {
                        "marker": {
                          "pattern": {
                            "fillmode": "overlay",
                            "size": 10,
                            "solidity": 0.2
                          }
                        },
                        "type": "histogram"
                      }
                    ],
                    "histogram2d": [
                      {
                        "colorbar": {
                          "outlinewidth": 0,
                          "ticks": ""
                        },
                        "colorscale": [
                          [
                            0,
                            "#0d0887"
                          ],
                          [
                            0.1111111111111111,
                            "#46039f"
                          ],
                          [
                            0.2222222222222222,
                            "#7201a8"
                          ],
                          [
                            0.3333333333333333,
                            "#9c179e"
                          ],
                          [
                            0.4444444444444444,
                            "#bd3786"
                          ],
                          [
                            0.5555555555555556,
                            "#d8576b"
                          ],
                          [
                            0.6666666666666666,
                            "#ed7953"
                          ],
                          [
                            0.7777777777777778,
                            "#fb9f3a"
                          ],
                          [
                            0.8888888888888888,
                            "#fdca26"
                          ],
                          [
                            1,
                            "#f0f921"
                          ]
                        ],
                        "type": "histogram2d"
                      }
                    ],
                    "histogram2dcontour": [
                      {
                        "colorbar": {
                          "outlinewidth": 0,
                          "ticks": ""
                        },
                        "colorscale": [
                          [
                            0,
                            "#0d0887"
                          ],
                          [
                            0.1111111111111111,
                            "#46039f"
                          ],
                          [
                            0.2222222222222222,
                            "#7201a8"
                          ],
                          [
                            0.3333333333333333,
                            "#9c179e"
                          ],
                          [
                            0.4444444444444444,
                            "#bd3786"
                          ],
                          [
                            0.5555555555555556,
                            "#d8576b"
                          ],
                          [
                            0.6666666666666666,
                            "#ed7953"
                          ],
                          [
                            0.7777777777777778,
                            "#fb9f3a"
                          ],
                          [
                            0.8888888888888888,
                            "#fdca26"
                          ],
                          [
                            1,
                            "#f0f921"
                          ]
                        ],
                        "type": "histogram2dcontour"
                      }
                    ],
                    "mesh3d": [
                      {
                        "colorbar": {
                          "outlinewidth": 0,
                          "ticks": ""
                        },
                        "type": "mesh3d"
                      }
                    ],
                    "parcoords": [
                      {
                        "line": {
                          "colorbar": {
                            "outlinewidth": 0,
                            "ticks": ""
                          }
                        },
                        "type": "parcoords"
                      }
                    ],
                    "pie": [
                      {
                        "automargin": true,
                        "type": "pie"
                      }
                    ],
                    "scatter": [
                      {
                        "fillpattern": {
                          "fillmode": "overlay",
                          "size": 10,
                          "solidity": 0.2
                        },
                        "type": "scatter"
                      }
                    ],
                    "scatter3d": [
                      {
                        "line": {
                          "colorbar": {
                            "outlinewidth": 0,
                            "ticks": ""
                          }
                        },
                        "marker": {
                          "colorbar": {
                            "outlinewidth": 0,
                            "ticks": ""
                          }
                        },
                        "type": "scatter3d"
                      }
                    ],
                    "scattercarpet": [
                      {
                        "marker": {
                          "colorbar": {
                            "outlinewidth": 0,
                            "ticks": ""
                          }
                        },
                        "type": "scattercarpet"
                      }
                    ],
                    "scattergeo": [
                      {
                        "marker": {
                          "colorbar": {
                            "outlinewidth": 0,
                            "ticks": ""
                          }
                        },
                        "type": "scattergeo"
                      }
                    ],
                    "scattergl": [
                      {
                        "marker": {
                          "colorbar": {
                            "outlinewidth": 0,
                            "ticks": ""
                          }
                        },
                        "type": "scattergl"
                      }
                    ],
                    "scattermapbox": [
                      {
                        "marker": {
                          "colorbar": {
                            "outlinewidth": 0,
                            "ticks": ""
                          }
                        },
                        "type": "scattermapbox"
                      }
                    ],
                    "scatterpolar": [
                      {
                        "marker": {
                          "colorbar": {
                            "outlinewidth": 0,
                            "ticks": ""
                          }
                        },
                        "type": "scatterpolar"
                      }
                    ],
                    "scatterpolargl": [
                      {
                        "marker": {
                          "colorbar": {
                            "outlinewidth": 0,
                            "ticks": ""
                          }
                        },
                        "type": "scatterpolargl"
                      }
                    ],
                    "scatterternary": [
                      {
                        "marker": {
                          "colorbar": {
                            "outlinewidth": 0,
                            "ticks": ""
                          }
                        },
                        "type": "scatterternary"
                      }
                    ],
                    "surface": [
                      {
                        "colorbar": {
                          "outlinewidth": 0,
                          "ticks": ""
                        },
                        "colorscale": [
                          [
                            0,
                            "#0d0887"
                          ],
                          [
                            0.1111111111111111,
                            "#46039f"
                          ],
                          [
                            0.2222222222222222,
                            "#7201a8"
                          ],
                          [
                            0.3333333333333333,
                            "#9c179e"
                          ],
                          [
                            0.4444444444444444,
                            "#bd3786"
                          ],
                          [
                            0.5555555555555556,
                            "#d8576b"
                          ],
                          [
                            0.6666666666666666,
                            "#ed7953"
                          ],
                          [
                            0.7777777777777778,
                            "#fb9f3a"
                          ],
                          [
                            0.8888888888888888,
                            "#fdca26"
                          ],
                          [
                            1,
                            "#f0f921"
                          ]
                        ],
                        "type": "surface"
                      }
                    ],
                    "table": [
                      {
                        "cells": {
                          "fill": {
                            "color": "#EBF0F8"
                          },
                          "line": {
                            "color": "white"
                          }
                        },
                        "header": {
                          "fill": {
                            "color": "#C8D4E3"
                          },
                          "line": {
                            "color": "white"
                          }
                        },
                        "type": "table"
                      }
                    ]
                  },
                  "layout": {
                    "annotationdefaults": {
                      "arrowcolor": "#2a3f5f",
                      "arrowhead": 0,
                      "arrowwidth": 1
                    },
                    "autotypenumbers": "strict",
                    "coloraxis": {
                      "colorbar": {
                        "outlinewidth": 0,
                        "ticks": ""
                      }
                    },
                    "colorscale": {
                      "diverging": [
                        [
                          0,
                          "#8e0152"
                        ],
                        [
                          0.1,
                          "#c51b7d"
                        ],
                        [
                          0.2,
                          "#de77ae"
                        ],
                        [
                          0.3,
                          "#f1b6da"
                        ],
                        [
                          0.4,
                          "#fde0ef"
                        ],
                        [
                          0.5,
                          "#f7f7f7"
                        ],
                        [
                          0.6,
                          "#e6f5d0"
                        ],
                        [
                          0.7,
                          "#b8e186"
                        ],
                        [
                          0.8,
                          "#7fbc41"
                        ],
                        [
                          0.9,
                          "#4d9221"
                        ],
                        [
                          1,
                          "#276419"
                        ]
                      ],
                      "sequential": [
                        [
                          0,
                          "#0d0887"
                        ],
                        [
                          0.1111111111111111,
                          "#46039f"
                        ],
                        [
                          0.2222222222222222,
                          "#7201a8"
                        ],
                        [
                          0.3333333333333333,
                          "#9c179e"
                        ],
                        [
                          0.4444444444444444,
                          "#bd3786"
                        ],
                        [
                          0.5555555555555556,
                          "#d8576b"
                        ],
                        [
                          0.6666666666666666,
                          "#ed7953"
                        ],
                        [
                          0.7777777777777778,
                          "#fb9f3a"
                        ],
                        [
                          0.8888888888888888,
                          "#fdca26"
                        ],
                        [
                          1,
                          "#f0f921"
                        ]
                      ],
                      "sequentialminus": [
                        [
                          0,
                          "#0d0887"
                        ],
                        [
                          0.1111111111111111,
                          "#46039f"
                        ],
                        [
                          0.2222222222222222,
                          "#7201a8"
                        ],
                        [
                          0.3333333333333333,
                          "#9c179e"
                        ],
                        [
                          0.4444444444444444,
                          "#bd3786"
                        ],
                        [
                          0.5555555555555556,
                          "#d8576b"
                        ],
                        [
                          0.6666666666666666,
                          "#ed7953"
                        ],
                        [
                          0.7777777777777778,
                          "#fb9f3a"
                        ],
                        [
                          0.8888888888888888,
                          "#fdca26"
                        ],
                        [
                          1,
                          "#f0f921"
                        ]
                      ]
                    },
                    "colorway": [
                      "#636efa",
                      "#EF553B",
                      "#00cc96",
                      "#ab63fa",
                      "#FFA15A",
                      "#19d3f3",
                      "#FF6692",
                      "#B6E880",
                      "#FF97FF",
                      "#FECB52"
                    ],
                    "font": {
                      "color": "#2a3f5f"
                    },
                    "geo": {
                      "bgcolor": "white",
                      "lakecolor": "white",
                      "landcolor": "#E5ECF6",
                      "showlakes": true,
                      "showland": true,
                      "subunitcolor": "white"
                    },
                    "hoverlabel": {
                      "align": "left"
                    },
                    "hovermode": "closest",
                    "mapbox": {
                      "style": "light"
                    },
                    "paper_bgcolor": "white",
                    "plot_bgcolor": "#E5ECF6",
                    "polar": {
                      "angularaxis": {
                        "gridcolor": "white",
                        "linecolor": "white",
                        "ticks": ""
                      },
                      "bgcolor": "#E5ECF6",
                      "radialaxis": {
                        "gridcolor": "white",
                        "linecolor": "white",
                        "ticks": ""
                      }
                    },
                    "scene": {
                      "xaxis": {
                        "backgroundcolor": "#E5ECF6",
                        "gridcolor": "white",
                        "gridwidth": 2,
                        "linecolor": "white",
                        "showbackground": true,
                        "ticks": "",
                        "zerolinecolor": "white"
                      },
                      "yaxis": {
                        "backgroundcolor": "#E5ECF6",
                        "gridcolor": "white",
                        "gridwidth": 2,
                        "linecolor": "white",
                        "showbackground": true,
                        "ticks": "",
                        "zerolinecolor": "white"
                      },
                      "zaxis": {
                        "backgroundcolor": "#E5ECF6",
                        "gridcolor": "white",
                        "gridwidth": 2,
                        "linecolor": "white",
                        "showbackground": true,
                        "ticks": "",
                        "zerolinecolor": "white"
                      }
                    },
                    "shapedefaults": {
                      "line": {
                        "color": "#2a3f5f"
                      }
                    },
                    "ternary": {
                      "aaxis": {
                        "gridcolor": "white",
                        "linecolor": "white",
                        "ticks": ""
                      },
                      "baxis": {
                        "gridcolor": "white",
                        "linecolor": "white",
                        "ticks": ""
                      },
                      "bgcolor": "#E5ECF6",
                      "caxis": {
                        "gridcolor": "white",
                        "linecolor": "white",
                        "ticks": ""
                      }
                    },
                    "title": {
                      "x": 0.05
                    },
                    "xaxis": {
                      "automargin": true,
                      "gridcolor": "white",
                      "linecolor": "white",
                      "ticks": "",
                      "title": {
                        "standoff": 15
                      },
                      "zerolinecolor": "white",
                      "zerolinewidth": 2
                    },
                    "yaxis": {
                      "automargin": true,
                      "gridcolor": "white",
                      "linecolor": "white",
                      "ticks": "",
                      "title": {
                        "standoff": 15
                      },
                      "zerolinecolor": "white",
                      "zerolinewidth": 2
                    }
                  }
                },
                "title": {
                  "text": "Soma das visitas médias ao site por dia da semana"
                },
                "xaxis": {
                  "anchor": "y",
                  "domain": [
                    0,
                    1
                  ],
                  "title": {
                    "text": "weekday_name"
                  }
                },
                "yaxis": {
                  "anchor": "x",
                  "domain": [
                    0,
                    1
                  ],
                  "range": [
                    12780000,
                    12880000
                  ],
                  "title": {
                    "text": "avg_website_visits_last_week"
                  }
                }
              }
            }
          },
          "metadata": {},
          "output_type": "display_data"
        }
      ],
      "source": [
        "monthly_sales = df_fixed.groupby(['weekday_name'])['avg_website_visits_last_week'].sum().reset_index()\n",
        "dias_da_semana = ['Monday', 'Tuesday', 'Wednesday', 'Thursday', 'Friday', 'Saturday', 'Sunday']\n",
        "monthly_sales['weekday_name'] = pd.Categorical(monthly_sales['weekday_name'], categories=dias_da_semana, ordered=True)\n",
        "monthly_sales = monthly_sales.sort_values('weekday_name')\n",
        "fig = px.bar(monthly_sales, x='weekday_name', y='avg_website_visits_last_week')\n",
        "fig.update_layout(title='Soma das visitas médias ao site por dia da semana')\n",
        "fig.update_yaxes(range=[12780000, 12880000])\n",
        "fig.update_traces(marker_color='#FF9345')\n",
        "fig.show()"
      ]
    },
    {
      "cell_type": "markdown",
      "metadata": {},
      "source": [
        "A representação ilustra a distribuição da soma da média de visitantes no site durante os dias da semana.\n",
        "\n",
        "Percebe-se que existem três tendências de visitas no site, uma em relação à baixa durante a terça-feira, outra sobre a estabilidade no final de semana e a última sobre a alta na segunda-feira.\n",
        "\n",
        "A tendência de baixa nas terças-feiras pode ser explicada porque durante os dias úteis, as pessoas tendem a estar mais ocupadas com o trabalho e outras responsabilidades, o que pode diminuir o tempo disponível para navegar em sites de compras.\n",
        "\n",
        "Durante o fim de semana, as pessoas geralmente têm mais tempo livre para se dedicar a atividades de lazer, incluindo navegar em sites de compras.\n",
        "\n",
        "Já o aumento de visitas nas segundas-feiras pode ser explicado pelo fenômeno do ‘Efeito Segunda-feira’. Esse efeito se refere à tendência das pessoas de retornar ao trabalho após o fim de semana com uma atitude mais positiva e produtiva. Isso pode levar a um aumento na busca por atualizações e novidades, incluindo visitas a sites de compras.\n"
      ]
    },
    {
      "cell_type": "markdown",
      "metadata": {},
      "source": [
        "# Preparação dos dados\n",
        "\n",
        "Aqui descreveremos como serão realizadas cada etapa dos nossos modelos de machine learning"
      ]
    },
    {
      "cell_type": "markdown",
      "metadata": {},
      "source": [
        "### Divisão do conjunto de treino e de teste\n",
        "---\n",
        "Para avaliar a capacidade de generalização do modelo, é necessário dividir o conjunto de dados em dois subconjuntos: treino e teste. O conjunto de treino é utilizado para treinar o modelo, enquanto o conjunto de teste é utilizado para avaliar o desempenho do modelo em dados não vistos anteriormente. Essa divisão é importante para evitar que o modelo memorize os dados de treino e não seja capaz de generalizar para novos dados."
      ]
    },
    {
      "cell_type": "markdown",
      "metadata": {},
      "source": [
        "### Seleção das features para o modelo de machine learning\n",
        "---\n",
        "Uma das etapas cruciais na construção de um modelo de machine learning é a seleção criteriosa das características (features) que servirão como entrada para o modelo. Cada feature foi selecionada com base em sua relevância para o problema em questão, com um teste de RFECV, e essa decisão é fundamental para garantir que nosso modelo seja capaz de aprender com eficácia e gerar previsões precisas. Após a seleção, são atualizadas as features a serem usadas e os dados são novamente divididos."
      ]
    },
    {
      "cell_type": "markdown",
      "metadata": {},
      "source": [
        "### Tunagem de hiperparâmetros\n",
        "---\n",
        "Nessa etapa, testamos quais os melhores hiperparâmetros, as \"configurações\" a serem usados por cada modelo. Realizamos um GridSearchCV, uma busca exaustiva testando diversas combinações de hiperparâmetros para encontrar a mais otimizada."
      ]
    },
    {
      "cell_type": "markdown",
      "metadata": {},
      "source": [
        "### Rodagem do modelo e métricas\n",
        "---\n",
        "Nessa fase, rodamos o modelo com as definições anteriores especificadas e realizamos a verificação das métricas para analizar a qualidade do modelo."
      ]
    },
    {
      "cell_type": "markdown",
      "metadata": {},
      "source": [
        "# Modelo de _Machine Learning_"
      ]
    },
    {
      "cell_type": "markdown",
      "metadata": {},
      "source": [
        "# Modelos supervisonados de regressão\n",
        "---\n",
        "Os modelos de regressão são utilizados para prever valores contínuos, como por exemplo, o preço de um imóvel ou a quantidade de vendas de um produto. Neste projeto, utilizamos os seguintes modelos de regressão:\n",
        "* Random Forest Regressor\n",
        "* Gradient Boost Regressor\n",
        "* Xtreme Gradient Boost Regressor"
      ]
    },
    {
      "cell_type": "markdown",
      "metadata": {},
      "source": [
        "Random Forest Regressor\n",
        "---\n",
        "O Random Forest Regressor é um modelo de aprendizado de máquina que utiliza o método de florestas aleatórias para realizar a regressão. Esse modelo é uma extensão do Random Forest Classifier, que é um modelo de classificação. O Random Forest Regressor é um modelo muito poderoso, que apresenta um bom desempenho na maioria dos problemas de regressão. Além disso, ele é capaz de lidar com dados ausentes e valores discrepantes, o que é uma grande vantagem em relação a outros modelos de regressão."
      ]
    },
    {
      "cell_type": "code",
      "execution_count": null,
      "metadata": {},
      "outputs": [],
      "source": [
        "# Todas as features para testagem\n",
        "# Há a remoção de 'items_sold' e 'items_sold_bundle' pois são tanto o target como um de seus subconjuntos\n",
        "features = [    \n",
        "    'unit_price',\n",
        "    'sku_height',\n",
        "    'sku_width',\n",
        "    'sku_length',\n",
        "    'sku_weight',\n",
        "    'avg_website_visits_last_week',\n",
        "    'supplier_delivery_time',\n",
        "    'items_sold_bundle',\n",
        "    'shipment_type_crossdocking',\n",
        "    'shipment_type_próprio',\n",
        "    'product_department_Cama e Banho',\n",
        "    'product_department_Decoração',\n",
        "    'product_department_Gamer',\n",
        "    'product_department_Infantil',\n",
        "    'product_department_Keva'\t,\n",
        "    'product_department_Móveis',\n",
        "    'origin_country_Importado',\n",
        "    'origin_country_Nacional',\n",
        "    'process_costing_no'\t,\n",
        "    'process_costing_yes',\n",
        "    'flag_bundle_SKU vendido em conjunto ou sozinho',\n",
        "    'flag_bundle_SKU vendido somente sozinho',\n",
        "    'has_stock_não',\n",
        "    'has_stock_tem',\n",
        "\t'color_encoded',\n",
        "    'sku_encoded',\n",
        "    'anchor_category_encoded',\n",
        "    'product_category_encoded', 'ano', 'semana_do_ano', 'sku_encoded', 'dollar_quotation']"
      ]
    },
    {
      "cell_type": "code",
      "execution_count": null,
      "metadata": {},
      "outputs": [],
      "source": [
        "#Criando um dataframe a partir do df_final, com todas as colunas como feature\n",
        "# Pegando uma amostragem de apenas 160 mil linhas\n",
        "n = 160000\n",
        "df_parameters_sampled = df_final.drop(df_final.columns.difference(features),axis = 1).sample(n, random_state = 42)\n",
        "\n",
        "# Separando as variáveis independentes e dependentes (X e Y)\n",
        "X = df_parameters_sampled\n",
        "y = df_final['items_sold'].sample(n, random_state = 42)\n",
        "# Dividindo o conjunto de dados em conjuntos de treinamento e teste\n",
        "X_train, X_test, y_train, y_test = train_test_split(X, y, test_size=0.2, random_state=95)"
      ]
    },
    {
      "cell_type": "markdown",
      "metadata": {},
      "source": [
        "### Seleção das melhores features"
      ]
    },
    {
      "cell_type": "code",
      "execution_count": null,
      "metadata": {},
      "outputs": [],
      "source": [
        "rf = RandomForestRegressor()\n",
        "scorer = make_scorer(mean_squared_error, greater_is_better=False)\n",
        "rfe = RFECV(rf, step=1, cv=5, scoring=scorer, n_jobs=-1)\n",
        "rfe = rfe.fit(X_train, y_train)\n",
        "print(\"Feature ranking: \", rfe.ranking_)"
      ]
    },
    {
      "cell_type": "code",
      "execution_count": null,
      "metadata": {},
      "outputs": [
        {
          "name": "stdout",
          "output_type": "stream",
          "text": [
            "All features:  28\n",
            "['unit_price', 'sku_height', 'sku_width', 'sku_length', 'sku_weight', 'avg_website_visits_last_week', 'supplier_delivery_time', 'items_sold_bundle', 'shipment_type_crossdocking', 'shipment_type_próprio', 'product_department_Cama e Banho', 'product_department_Decoração', 'product_department_Gamer', 'product_department_Infantil', 'product_department_Keva', 'product_department_Móveis', 'origin_country_Importado', 'origin_country_Nacional', 'process_costing_no', 'process_costing_yes', 'flag_bundle_SKU vendido em conjunto ou sozinho', 'flag_bundle_SKU vendido somente sozinho', 'has_stock_não', 'has_stock_tem', 'color_encoded', 'sku_encoded', 'anchor_category_encoded', 'product_category_encoded', 'ano', 'semana_do_ano', 'sku_encoded', 'dollar_quotation']\n",
            "Selected best:  18\n",
            "['unit_price', 'sku_height', 'sku_width', 'sku_length', 'sku_weight', 'avg_website_visits_last_week', 'supplier_delivery_time', 'items_sold_bundle', 'shipment_type_próprio', 'product_department_Móveis', 'process_costing_no', 'process_costing_yes', 'has_stock_não', 'has_stock_tem', 'color_encoded', 'sku_encoded', 'anchor_category_encoded', 'product_category_encoded']\n"
          ]
        }
      ],
      "source": [
        "mask = rfe.get_support()\n",
        "\n",
        "# Convertendo a mascara para um array de numpy para indexação\n",
        "mask = np.array(mask)\n",
        "\n",
        "# Usando indexação booleana para pegar as features selecionadas\n",
        "best_features_rf = [feature for i, feature in enumerate(features) if i < len(mask) and mask[i]]\n",
        "\n",
        "print(\"All features: \", X.shape[1])\n",
        "print(features)\n",
        "\n",
        "print(\"Selected best: \", len(best_features_rf))\n",
        "print(best_features_rf)"
      ]
    },
    {
      "cell_type": "markdown",
      "metadata": {},
      "source": [
        "### Seleção dos melhores hiperparâmetros"
      ]
    },
    {
      "cell_type": "code",
      "execution_count": null,
      "metadata": {},
      "outputs": [],
      "source": [
        "# Features escolhidas anteriormente para o modelo\n",
        "features = best_features_rf"
      ]
    },
    {
      "cell_type": "code",
      "execution_count": null,
      "metadata": {},
      "outputs": [],
      "source": [
        "#Criando um dataframe a partir do df_final, agora readaptado para as features selecionadas\n",
        "n = 160000\n",
        "df_parameters = df_final.drop(df_final.columns.difference(features), axis = 1).sample(n, random_state = 42)\n",
        "\n",
        "# Separando as variáveis independentes e dependentes (X e Y)\n",
        "X = df_parameters\n",
        "y = df_final['items_sold'].sample(n, random_state = 42)\n",
        "# Dividindo o conjunto de dados em conjuntos de treinamento e teste\n",
        "X_train, X_test, y_train, y_test = train_test_split(X, y, test_size=0.2, random_state=95)"
      ]
    },
    {
      "cell_type": "code",
      "execution_count": null,
      "metadata": {},
      "outputs": [],
      "source": [
        "# Criando a grid de parâmetros a serem testados\n",
        "param_grid = {\n",
        "    'n_estimators': [150,200,250],\n",
        "    'max_depth': [10,15,20],\n",
        "}\n",
        "\n",
        "# Definindo o modelo a ser testado\n",
        "rf_regressor = RandomForestRegressor()\n",
        "\n",
        "# Definindo o \"score\" para avaliarmos qual será a melhor combinação de hiperparâmetros para o modelo\n",
        "scorer = make_scorer(mean_squared_error, greater_is_better=False)"
      ]
    },
    {
      "cell_type": "code",
      "execution_count": null,
      "metadata": {},
      "outputs": [
        {
          "name": "stdout",
          "output_type": "stream",
          "text": [
            "Melhores Hiperparâmetros:  {'max_depth': 15, 'n_estimators': 250}\n",
            "Best Model RandomForestRegressor(max_depth=15, n_estimators=250)\n"
          ]
        }
      ],
      "source": [
        "# Realizando o grid search (remover n_jobs = -1 caso não queira usar todos os cores do computador)\n",
        "grid_search = GridSearchCV(estimator=rf_regressor, param_grid=param_grid, cv=5,scoring=scorer, n_jobs=-1, refit=True)\n",
        "\n",
        "grid_search.fit(X_train, y_train)\n",
        "\n",
        "print(\"Melhores Hiperparâmetros: \", grid_search.best_params_)\n",
        "\n",
        "# Conseguindo os melhores estimadores\n",
        "best_rf_model = grid_search.best_estimator_\n",
        "\n",
        "print('Best Model', best_rf_model)"
      ]
    },
    {
      "cell_type": "markdown",
      "metadata": {},
      "source": [
        "### Aplicação do modelo com os hiperparâmetros e features"
      ]
    },
    {
      "cell_type": "code",
      "execution_count": null,
      "metadata": {},
      "outputs": [],
      "source": [
        "#Criando um dataframe a partir do df_final, agora readaptado para as features selecionadas\n",
        "df_parameters = df_final.drop(df_final.columns.difference(features),axis = 1)\n",
        "\n",
        "# Separando as variáveis independentes e dependentes (X e Y)\n",
        "X = df_parameters\n",
        "y = df_final['items_sold']\n",
        "# Dividindo o conjunto de dados em conjuntos de treinamento e teste\n",
        "X_train, X_test, y_train, y_test = train_test_split(X, y, test_size=0.2, random_state=95)"
      ]
    },
    {
      "cell_type": "code",
      "execution_count": null,
      "metadata": {},
      "outputs": [],
      "source": [
        "# Instanciando o modelo com os hiperparâmetros definidos\n",
        "rf = best_rf_model\n",
        "rf.fit(X_train, y_train)\n",
        "\n",
        "#Gerando as predições\n",
        "predictions = rf.predict(X_test)"
      ]
    },
    {
      "cell_type": "code",
      "execution_count": null,
      "metadata": {},
      "outputs": [
        {
          "name": "stdout",
          "output_type": "stream",
          "text": [
            "Mean Squared Error: 8.01762231083829\n",
            "RMSE: 2.8315406249669612\n",
            "R2 score: 0.7356859084444669\n"
          ]
        }
      ],
      "source": [
        "#Métrica do Erro Quadrático Médio\n",
        "mse = mean_squared_error(y_test, predictions)\n",
        "print(\"Mean Squared Error:\", mse)\n",
        "\n",
        "#Métrica da Raiz Quadrada do Erro Médio\n",
        "RMSE = np.sqrt(mse)\n",
        "print('RMSE:', RMSE)\n",
        "\n",
        "#Métrica do Coeficiente de Determinação R² score\n",
        "r2 = r2_score(y_test, predictions)\n",
        "print(\"R2 score:\", r2)"
      ]
    },
    {
      "cell_type": "markdown",
      "metadata": {},
      "source": [
        "Gradient Boosting Regressor\n",
        "---\n",
        "O Gradient Boosting Regressor é um algoritmo de aprendizado de máquina usado para tarefas de regressão. Ele cria um modelo combinando várias árvores de decisão fracas, melhorando progressivamente as previsões, minimizando os erros anteriores. Isso o torna eficaz para modelar relações complexas em dados numéricos."
      ]
    },
    {
      "cell_type": "code",
      "execution_count": null,
      "metadata": {},
      "outputs": [],
      "source": [
        "# Todas as features para testagem\n",
        "# Há a remoção de 'items_sold' e 'items_sold_bundle' pois são tanto o target como um de seus subconjuntos\n",
        "features = [    \n",
        "    'unit_price',\n",
        "    'sku_height',\n",
        "    'sku_width',\n",
        "    'sku_length',\n",
        "    'sku_weight',\n",
        "    'avg_website_visits_last_week',\n",
        "    'supplier_delivery_time',\n",
        "    'items_sold_bundle',\n",
        "    'shipment_type_crossdocking',\n",
        "    'shipment_type_próprio',\n",
        "    'product_department_Cama e Banho',\n",
        "    'product_department_Decoração',\n",
        "    'product_department_Gamer',\n",
        "    'product_department_Infantil',\n",
        "    'product_department_Keva'\t,\n",
        "    'product_department_Móveis',\n",
        "    'origin_country_Importado',\n",
        "    'origin_country_Nacional',\n",
        "    'process_costing_no'\t,\n",
        "    'process_costing_yes',\n",
        "    'flag_bundle_SKU vendido em conjunto ou sozinho',\n",
        "    'flag_bundle_SKU vendido somente sozinho',\n",
        "    'has_stock_não',\n",
        "    'has_stock_tem',\n",
        "\t'color_encoded',\n",
        "    'sku_encoded',\n",
        "    'anchor_category_encoded',\n",
        "    'product_category_encoded', 'ano', 'semana_do_ano', 'sku_encoded','dollar_quotation']"
      ]
    },
    {
      "cell_type": "code",
      "execution_count": null,
      "metadata": {},
      "outputs": [],
      "source": [
        "#Criando um dataframe a partir do df_final, com todas as colunas como feature\n",
        "# Pegando uma amostragem de apenas 160 mil linhas\n",
        "n = 160000\n",
        "df_parameters_sampled = df_final.drop(df_final.columns.difference(features), axis = 1).sample(n,random_state = 42)\n",
        "\n",
        "# Separando as variáveis independentes e dependentes (X e Y)\n",
        "X = df_parameters_sampled\n",
        "y = df_final['items_sold'].sample(n,random_state = 42)\n",
        "# Dividindo o conjunto de dados em conjuntos de treinamento e teste\n",
        "X_train, X_test, y_train, y_test = train_test_split(X, y, test_size=0.2, random_state=95)"
      ]
    },
    {
      "cell_type": "markdown",
      "metadata": {},
      "source": [
        "### Seleção das melhores features"
      ]
    },
    {
      "cell_type": "code",
      "execution_count": null,
      "metadata": {},
      "outputs": [
        {
          "name": "stdout",
          "output_type": "stream",
          "text": [
            "Feature ranking:  [ 1  1  1  1  1  1  1  1  1  1  7  9  3  2 12  6  5 13  4  8 10 11  1  1\n",
            "  1  1  1  1]\n"
          ]
        }
      ],
      "source": [
        "clf = GradientBoostingRegressor()\n",
        "scorer = make_scorer(mean_squared_error, greater_is_better=False)\n",
        "rfe = RFECV(clf, step=1, cv=5, scoring=scorer, n_jobs=-1)\n",
        "rfe = rfe.fit(X_train, y_train)\n",
        "print(\"Feature ranking: \", rfe.ranking_)"
      ]
    },
    {
      "cell_type": "code",
      "execution_count": null,
      "metadata": {},
      "outputs": [
        {
          "name": "stdout",
          "output_type": "stream",
          "text": [
            "All features:  28\n",
            "['unit_price', 'sku_height', 'sku_width', 'sku_length', 'sku_weight', 'avg_website_visits_last_week', 'supplier_delivery_time', 'items_sold_bundle', 'shipment_type_crossdocking', 'shipment_type_próprio', 'product_department_Cama e Banho', 'product_department_Decoração', 'product_department_Gamer', 'product_department_Infantil', 'product_department_Keva', 'product_department_Móveis', 'origin_country_Importado', 'origin_country_Nacional', 'process_costing_no', 'process_costing_yes', 'flag_bundle_SKU vendido em conjunto ou sozinho', 'flag_bundle_SKU vendido somente sozinho', 'has_stock_não', 'has_stock_tem', 'color_encoded', 'sku_encoded', 'anchor_category_encoded', 'product_category_encoded', 'ano', 'semana_do_ano', 'sku_encoded', 'dollar_quotation']\n",
            "Selected best:  16\n",
            "['unit_price', 'sku_height', 'sku_width', 'sku_length', 'sku_weight', 'avg_website_visits_last_week', 'supplier_delivery_time', 'items_sold_bundle', 'shipment_type_crossdocking', 'shipment_type_próprio', 'has_stock_não', 'has_stock_tem', 'color_encoded', 'sku_encoded', 'anchor_category_encoded', 'product_category_encoded']\n"
          ]
        }
      ],
      "source": [
        "mask = rfe.get_support()\n",
        "\n",
        "# Convertendo a mascara para um array de numpy para indexação\n",
        "mask = np.array(mask)\n",
        "\n",
        "# Usando indexação booleana para pegar as features selecionadas\n",
        "best_features_gb = [feature for i, feature in enumerate(features) if i < len(mask) and mask[i]]\n",
        "\n",
        "print(\"All features: \", X.shape[1])\n",
        "print(features)\n",
        "\n",
        "print(\"Selected best: \", len(best_features_gb))\n",
        "print(best_features_gb)"
      ]
    },
    {
      "cell_type": "code",
      "execution_count": null,
      "metadata": {},
      "outputs": [],
      "source": [
        "# Features escolhidas anteriormente para o modelo\n",
        "features = best_features_gb"
      ]
    },
    {
      "cell_type": "code",
      "execution_count": null,
      "metadata": {},
      "outputs": [],
      "source": [
        "#Criando um dataframe a partir do df_final, com todas as colunas como feature\n",
        "# Pegando uma amostragem de apenas 160 mil linhas\n",
        "n = 160000\n",
        "df_parameters_sampled = df_final.drop(df_final.columns.difference(features),axis = 1).sample(n,random_state = 42)\n",
        "\n",
        "# Separando as variáveis independentes e dependentes (X e Y)\n",
        "X = df_parameters_sampled\n",
        "y = df_final['items_sold'].sample(n,random_state = 42)\n",
        "# Dividindo o conjunto de dados em conjuntos de treinamento e teste\n",
        "X_train, X_test, y_train, y_test = train_test_split(X, y, test_size=0.2, random_state=95)"
      ]
    },
    {
      "cell_type": "markdown",
      "metadata": {},
      "source": [
        "### Seleção dos melhores hiperparâmetros"
      ]
    },
    {
      "cell_type": "code",
      "execution_count": null,
      "metadata": {},
      "outputs": [],
      "source": [
        "# Criando a grid de parâmetros a serem testados\n",
        "param_grid = {\n",
        "    'n_estimators': [230,250,270],\n",
        "    'max_depth': [8,10,12],\n",
        "    'learning_rate': [0.09,0.11,0.12]\n",
        "}\n",
        "\n",
        "# Definindo o modelo a ser testado\n",
        "gb_regressor = GradientBoostingRegressor()\n",
        "\n",
        "# Definindo o \"score\" para avaliarmos qual será a melhor combinação de hiperparâmetros para o modelo\n",
        "scorer = make_scorer(mean_squared_error, greater_is_better=False)"
      ]
    },
    {
      "cell_type": "code",
      "execution_count": null,
      "metadata": {},
      "outputs": [],
      "source": [
        "# Realizando o grid search (remover n_jobs = -1 caso não queira usar todos os cores do computador)\n",
        "grid_search = GridSearchCV(estimator=gb_regressor, param_grid=param_grid, cv=5,scoring=scorer, n_jobs=-1, refit=True)\n",
        "\n",
        "grid_search.fit(X_train, y_train)\n",
        "\n",
        "print(\"Melhores Hiperparâmetros: \", grid_search.best_params_)\n",
        "\n",
        "# Conseguindo os melhores estimadores\n",
        "best_gb_model = grid_search.best_estimator_\n",
        "\n",
        "print('Best Model', best_gb_model)"
      ]
    },
    {
      "cell_type": "markdown",
      "metadata": {},
      "source": [
        "### Aplicação do modelo com os hiperparâmetros e features"
      ]
    },
    {
      "cell_type": "code",
      "execution_count": null,
      "metadata": {},
      "outputs": [],
      "source": [
        "#Criando um dataframe a partir do df_final, com todas as colunas como feature\n",
        "\n",
        "df_parameters_sampled = df_final.drop(df_final.columns.difference(features),axis = 1)\n",
        "\n",
        "# Separando as variáveis independentes e dependentes (X e Y)\n",
        "X = df_parameters_sampled\n",
        "y = df_final['items_sold']\n",
        "# Dividindo o conjunto de dados em conjuntos de treinamento e teste\n",
        "X_train, X_test, y_train, y_test = train_test_split(X, y, test_size=0.2, random_state=95)"
      ]
    },
    {
      "cell_type": "code",
      "execution_count": null,
      "metadata": {},
      "outputs": [
        {
          "name": "stdout",
          "output_type": "stream",
          "text": [
            "Mean Squared Error: 8.123973427577283\n",
            "RMSE: 2.8502584843444083\n",
            "R2 score: 0.7321798691578838\n"
          ]
        }
      ],
      "source": [
        "# Instanciando o modelo com os hiperparâmetros definidos\n",
        "gbr =  best_gb_model\n",
        "gbr.fit(X_train, y_train)\n",
        "\n",
        "#Gerando as predições\n",
        "predictions = gbr.predict(X_test)\n",
        "\n",
        "#Métrica do Erro Quadrático Médio\n",
        "mse = mean_squared_error(y_test, predictions)\n",
        "print(\"Mean Squared Error:\", mse)\n",
        "\n",
        "#Métrica da Raiz Quadrada do Erro Médio\n",
        "RMSE = np.sqrt(mse)\n",
        "print('RMSE:', RMSE)\n",
        "\n",
        "#Métrica do Coeficiente de Determinação R² score\n",
        "r2 = r2_score(y_test, predictions)\n",
        "print(\"R2 score:\", r2)"
      ]
    },
    {
      "cell_type": "markdown",
      "metadata": {},
      "source": [
        "Extreme Gradient Boosting Regressor(XGBoost)\n",
        "---\n",
        "O XGBoost (Extreme Gradient Boosting) é um algoritmo de aprendizado de máquina usado para problemas de regressão. Ele funciona construindo uma série de árvores de decisão, cada uma corrigindo os erros da árvore anterior. As árvores são ponderadas e combinadas para prever valores contínuos, tornando-o eficaz para modelar relações complexas entre variáveis e prever resultados numéricos com precisão."
      ]
    },
    {
      "cell_type": "code",
      "execution_count": null,
      "metadata": {},
      "outputs": [],
      "source": [
        "# Todas as features para testagem\n",
        "# Há a remoção de 'items_sold' e 'items_sold_bundle' pois são tanto o target como um de seus subconjuntos\n",
        "features = [    \n",
        "    'unit_price',\n",
        "    'sku_height',\n",
        "    'sku_width',\n",
        "    'sku_length',\n",
        "    'sku_weight',\n",
        "    'avg_website_visits_last_week',\n",
        "    'supplier_delivery_time',\n",
        "    'items_sold_bundle',\n",
        "    'shipment_type_crossdocking',\n",
        "    'shipment_type_próprio',\n",
        "    'product_department_Cama e Banho',\n",
        "    'product_department_Decoração',\n",
        "    'product_department_Gamer',\n",
        "    'product_department_Infantil',\n",
        "    'product_department_Keva'\t,\n",
        "    'product_department_Móveis',\n",
        "    'origin_country_Importado',\n",
        "    'origin_country_Nacional',\n",
        "    'process_costing_no'\t,\n",
        "    'process_costing_yes',\n",
        "    'flag_bundle_SKU vendido em conjunto ou sozinho',\n",
        "    'flag_bundle_SKU vendido somente sozinho',\n",
        "    'has_stock_não',\n",
        "    'has_stock_tem',\n",
        "\t'color_encoded',\n",
        "    'sku_encoded',\n",
        "    'anchor_category_encoded',\n",
        "    'product_category_encoded', 'ano', 'semana_do_ano', 'sku_encoded','dollar_quotation']"
      ]
    },
    {
      "cell_type": "code",
      "execution_count": null,
      "metadata": {},
      "outputs": [],
      "source": [
        "#Criando um dataframe a partir do df_final, com todas as colunas como feature\n",
        "# Pegando uma amostragem de apenas 160 mil linhas\n",
        "n = 160000\n",
        "df_parameters_sampled = df_final.drop(df_final.columns.difference(features),axis = 1).sample(n,random_state = 42)\n",
        "\n",
        "# Separando as variáveis independentes e dependentes (X e Y)\n",
        "X2 = df_parameters_sampled\n",
        "y2 = df_final['items_sold'].sample(n,random_state = 42)\n",
        "# Dividindo o conjunto de dados em conjuntos de treinamento e teste\n",
        "X2_train, X2_test, y2_train, y2_test = train_test_split(X2, y2, test_size=0.2, random_state=95)"
      ]
    },
    {
      "cell_type": "markdown",
      "metadata": {},
      "source": [
        "### Seleção das melhores features"
      ]
    },
    {
      "cell_type": "code",
      "execution_count": null,
      "metadata": {},
      "outputs": [
        {
          "name": "stdout",
          "output_type": "stream",
          "text": [
            "Feature ranking:  [1 1 1 1 1 1 1 1 1 4 2 1 1 1 1 1 3 5 1 6 1 7 1 1 1 1 1 1]\n"
          ]
        }
      ],
      "source": [
        "from xgboost import XGBRegressor\n",
        "xgb_reg = XGBRegressor()\n",
        "scorer = make_scorer(mean_squared_error, greater_is_better=False)\n",
        "rfe = RFECV(xgb_reg, step=1, cv=5, scoring=scorer)\n",
        "rfe = rfe.fit(X2_train, y2_train)\n",
        "print(\"Feature ranking: \", rfe.ranking_)"
      ]
    },
    {
      "cell_type": "code",
      "execution_count": null,
      "metadata": {},
      "outputs": [
        {
          "name": "stdout",
          "output_type": "stream",
          "text": [
            "All features:  15\n",
            "['unit_price', 'sku_height', 'sku_width', 'sku_length', 'sku_weight', 'avg_website_visits_last_week', 'supplier_delivery_time', 'items_sold_bundle', 'shipment_type_crossdocking', 'shipment_type_próprio', 'product_department_Cama e Banho', 'product_department_Decoração', 'product_department_Gamer', 'product_department_Infantil', 'product_department_Keva', 'product_department_Móveis', 'origin_country_Importado', 'origin_country_Nacional', 'process_costing_no', 'process_costing_yes', 'flag_bundle_SKU vendido em conjunto ou sozinho', 'flag_bundle_SKU vendido somente sozinho', 'has_stock_não', 'has_stock_tem', 'color_encoded', 'sku_encoded', 'anchor_category_encoded', 'product_category_encoded', 'ano', 'semana_do_ano', 'sku_encoded', 'dollar_quotation']\n",
            "Selected best:  22\n",
            "['unit_price', 'sku_height', 'sku_width', 'sku_length', 'sku_weight', 'avg_website_visits_last_week', 'supplier_delivery_time', 'items_sold_bundle', 'shipment_type_crossdocking', 'product_department_Decoração', 'product_department_Gamer', 'product_department_Infantil', 'product_department_Keva', 'product_department_Móveis', 'process_costing_no', 'flag_bundle_SKU vendido em conjunto ou sozinho', 'has_stock_não', 'has_stock_tem', 'color_encoded', 'sku_encoded', 'anchor_category_encoded', 'product_category_encoded']\n"
          ]
        }
      ],
      "source": [
        "mask = rfe.get_support()\n",
        "\n",
        "# Convertendo a mascara para um array de numpy para indexação\n",
        "mask = np.array(mask)\n",
        "\n",
        "# Usando indexação booleana para pegar as features selecionadas\n",
        "best_features_xgb = [feature for i, feature in enumerate(features) if i < len(mask) and mask[i]]\n",
        "\n",
        "print(\"All features: \", X.shape[1])\n",
        "print(features)\n",
        "\n",
        "print(\"Selected best: \", len(best_features_xgb))\n",
        "print(best_features_xgb)"
      ]
    },
    {
      "cell_type": "markdown",
      "metadata": {},
      "source": [
        "### Seleção dos melhores hiperparâmetros"
      ]
    },
    {
      "cell_type": "code",
      "execution_count": null,
      "metadata": {},
      "outputs": [],
      "source": [
        "# Features escolhidas anteriormente para o modelo\n",
        "features = best_features_xgb"
      ]
    },
    {
      "cell_type": "code",
      "execution_count": null,
      "metadata": {},
      "outputs": [],
      "source": [
        "#Criando um dataframe a partir do df_final, com todas as colunas como feature\n",
        "# Pegando uma amostragem de apenas 160 mil linhas\n",
        "n = 160000\n",
        "df_parameters_sampled = df_final.drop(df_final.columns.difference(features),axis = 1).sample(n,random_state = 42)\n",
        "\n",
        "# Separando as variáveis independentes e dependentes (X e Y)\n",
        "X = df_parameters_sampled\n",
        "y = df_final['items_sold'].sample(n,random_state = 42)\n",
        "# Dividindo o conjunto de dados em conjuntos de treinamento e teste\n",
        "X_train, X_test, y_train, y_test = train_test_split(X, y, test_size=0.2, random_state=95)"
      ]
    },
    {
      "cell_type": "code",
      "execution_count": null,
      "metadata": {},
      "outputs": [],
      "source": [
        "# Criando a grid de parâmetros a serem testados\n",
        "param_grid = {\n",
        "    'n_estimators': [100,150,200,250],\n",
        "    'max_depth': [10,15,20],\n",
        "    'learning_rate': [0.07,0.08,0.09]\n",
        "}\n",
        "\n",
        "# Definindo o modelo a ser testado\n",
        "xgb_reg = XGBRegressor()\n",
        "\n",
        "# Definindo o \"score\" para avaliarmos qual será a melhor combinação de hiperparâmetros para o modelo\n",
        "scorer = make_scorer(mean_squared_error, greater_is_better=False)"
      ]
    },
    {
      "cell_type": "code",
      "execution_count": null,
      "metadata": {},
      "outputs": [
        {
          "name": "stdout",
          "output_type": "stream",
          "text": [
            "Melhores Hiperparâmetros:  {'learning_rate': 0.08, 'max_depth': 10, 'n_estimators': 100}\n",
            "Best Model XGBRegressor(base_score=None, booster=None, callbacks=None,\n",
            "             colsample_bylevel=None, colsample_bynode=None,\n",
            "             colsample_bytree=None, device=None, early_stopping_rounds=None,\n",
            "             enable_categorical=False, eval_metric=None, feature_types=None,\n",
            "             gamma=None, grow_policy=None, importance_type=None,\n",
            "             interaction_constraints=None, learning_rate=0.08, max_bin=None,\n",
            "             max_cat_threshold=None, max_cat_to_onehot=None,\n",
            "             max_delta_step=None, max_depth=10, max_leaves=None,\n",
            "             min_child_weight=None, missing=nan, monotone_constraints=None,\n",
            "             multi_strategy=None, n_estimators=100, n_jobs=None,\n",
            "             num_parallel_tree=None, random_state=None, ...)\n"
          ]
        }
      ],
      "source": [
        "# Realizando o grid search (remover n_jobs = -1 caso não queira usar todos os cores do computador)\n",
        "grid_search = GridSearchCV(estimator=xgb_reg, param_grid=param_grid, cv=5,scoring=scorer, refit=True)\n",
        "\n",
        "grid_search.fit(X_train, y_train)\n",
        "\n",
        "print(\"Melhores Hiperparâmetros: \", grid_search.best_params_)\n",
        "\n",
        "# Conseguindo os melhores estimadores\n",
        "best_xgb_model = grid_search.best_estimator_\n",
        "\n",
        "print('Best Model', best_xgb_model)"
      ]
    },
    {
      "cell_type": "markdown",
      "metadata": {},
      "source": [
        "### Aplicação do modelo com os hiperparâmetros e features"
      ]
    },
    {
      "cell_type": "code",
      "execution_count": null,
      "metadata": {},
      "outputs": [],
      "source": [
        "#Criando um dataframe a partir do df_final, com todas as colunas como feature\n",
        "df_parameters_sampled = df_final.drop(df_final.columns.difference(features),axis = 1)\n",
        "\n",
        "# Separando as variáveis independentes e dependentes (X e Y)\n",
        "X = df_parameters_sampled\n",
        "y = df_final['items_sold']\n",
        "# Dividindo o conjunto de dados em conjuntos de treinamento e teste\n",
        "X_train, X_test, y_train, y_test = train_test_split(X, y, test_size=0.2, random_state=95)"
      ]
    },
    {
      "cell_type": "code",
      "execution_count": null,
      "metadata": {},
      "outputs": [],
      "source": [
        "# Instanciando o modelo com os hiperparâmetros definidos\n",
        "xgb_reg = best_xgb_model\n",
        "xgb_reg.fit(X_train, y_train)\n",
        "\n",
        "#Gerando as predições\n",
        "predictions = xgb_reg.predict(X_test)"
      ]
    },
    {
      "cell_type": "code",
      "execution_count": null,
      "metadata": {},
      "outputs": [
        {
          "name": "stdout",
          "output_type": "stream",
          "text": [
            "Mean Squared Error: 8.106257211947979\n",
            "RMSE: 2.847148962022883\n",
            "R2 score: 0.7327639133119133\n"
          ]
        }
      ],
      "source": [
        "#Métrica do Erro Quadrático Médio\n",
        "mse = mean_squared_error(y_test, predictions)\n",
        "print(\"Mean Squared Error:\", mse)\n",
        "\n",
        "#Métrica da Raiz Quadrada do Erro Médio\n",
        "RMSE = np.sqrt(mse)\n",
        "print('RMSE:', RMSE)\n",
        "\n",
        "#Métrica do Coeficiente de Determinação R² score\n",
        "r2 = r2_score(y_test, predictions)\n",
        "print(\"R2 score:\", r2)"
      ]
    },
    {
      "cell_type": "markdown",
      "metadata": {
        "id": "X9F7dwmE9Ao2"
      },
      "source": [
        "# Ensemble\n",
        "A técnica Ensemble combina as previsões de vários modelos de machine learning para aprimorar a performance de um modelo final. No caso do nosso modelo, optamos por combinar um Random Forest Regressor, um Xtreme Gradient Boosting Regressor e um Gradient Boosting Regressor."
      ]
    },
    {
      "cell_type": "code",
      "execution_count": 15,
      "metadata": {
        "id": "eTru0Ro2rDkV"
      },
      "outputs": [],
      "source": [
        "df_final['semana_do_ano'] = df_final['semana_do_ano'].astype('int64')"
      ]
    },
    {
      "cell_type": "markdown",
      "metadata": {},
      "source": [
        "Separando estratificadamente em tabelas A e B"
      ]
    },
    {
      "cell_type": "code",
      "execution_count": 16,
      "metadata": {
        "id": "zLOIMGJrit_K"
      },
      "outputs": [],
      "source": [
        "X = df_final\n",
        "y = df_final['sku_encoded']\n",
        "\n",
        "# Criando um objeto StratifiedShuffleSplit\n",
        "sss = StratifiedShuffleSplit(n_splits=1, test_size=0.2, random_state=0)\n",
        "\n",
        "# Realizando a divisão\n",
        "for indice_a, indice_b in sss.split(X, y):\n",
        "    dados_a = df_final.iloc[indice_a]\n",
        "    dados_b = df_final.iloc[indice_b]\n"
      ]
    },
    {
      "cell_type": "markdown",
      "metadata": {},
      "source": [
        "### Usando a tabela A"
      ]
    },
    {
      "cell_type": "code",
      "execution_count": 17,
      "metadata": {},
      "outputs": [],
      "source": [
        "featuresModels = ['dia', 'supplier_delivery_time', 'has_stock_encoded', 'sku_weight', 'semana_do_ano', 'unit_price', 'dia_do_ano', 'sku_length', 'ano', 'dia_da_semana', 'avg_website_visits_last_week', 'sku_encoded', 'color_encoded']"
      ]
    },
    {
      "cell_type": "code",
      "execution_count": 18,
      "metadata": {},
      "outputs": [],
      "source": [
        "dados_a.reset_index(inplace=True, drop=True)"
      ]
    },
    {
      "cell_type": "markdown",
      "metadata": {},
      "source": [
        "Separando a tabela A em treino e teste"
      ]
    },
    {
      "cell_type": "code",
      "execution_count": 19,
      "metadata": {
        "colab": {
          "base_uri": "https://localhost:8080/"
        },
        "id": "jJwgB8Hj9Vm7",
        "outputId": "5cf09384-5f5e-4515-c6cc-2325c2e777b6"
      },
      "outputs": [],
      "source": [
        "#Criando um dataframe a partir do df_final, agora readaptado para as features selecionadas\n",
        "df_parameters = dados_a.drop(df_final.columns.difference(featuresModels), axis = 1)\n",
        "\n",
        "# Separando as variáveis independentes e dependentes (X e Y)\n",
        "X_a = df_parameters\n",
        "y_a = dados_a['items_sold']\n",
        "\n",
        "# Dividindo o conjunto de dados em conjuntos de treinamento e teste\n",
        "X_a_train, X_a_test, y_a_train, y_a_test = train_test_split(X_a, y_a, test_size=0.2, random_state=95)"
      ]
    },
    {
      "cell_type": "code",
      "execution_count": 20,
      "metadata": {
        "colab": {
          "base_uri": "https://localhost:8080/",
          "height": 75
        },
        "id": "GPX7oXC-9Vm7",
        "outputId": "5f412702-3172-4070-81f0-15f65612357c"
      },
      "outputs": [
        {
          "data": {
            "text/html": [
              "<style>#sk-container-id-1 {color: black;}#sk-container-id-1 pre{padding: 0;}#sk-container-id-1 div.sk-toggleable {background-color: white;}#sk-container-id-1 label.sk-toggleable__label {cursor: pointer;display: block;width: 100%;margin-bottom: 0;padding: 0.3em;box-sizing: border-box;text-align: center;}#sk-container-id-1 label.sk-toggleable__label-arrow:before {content: \"▸\";float: left;margin-right: 0.25em;color: #696969;}#sk-container-id-1 label.sk-toggleable__label-arrow:hover:before {color: black;}#sk-container-id-1 div.sk-estimator:hover label.sk-toggleable__label-arrow:before {color: black;}#sk-container-id-1 div.sk-toggleable__content {max-height: 0;max-width: 0;overflow: hidden;text-align: left;background-color: #f0f8ff;}#sk-container-id-1 div.sk-toggleable__content pre {margin: 0.2em;color: black;border-radius: 0.25em;background-color: #f0f8ff;}#sk-container-id-1 input.sk-toggleable__control:checked~div.sk-toggleable__content {max-height: 200px;max-width: 100%;overflow: auto;}#sk-container-id-1 input.sk-toggleable__control:checked~label.sk-toggleable__label-arrow:before {content: \"▾\";}#sk-container-id-1 div.sk-estimator input.sk-toggleable__control:checked~label.sk-toggleable__label {background-color: #d4ebff;}#sk-container-id-1 div.sk-label input.sk-toggleable__control:checked~label.sk-toggleable__label {background-color: #d4ebff;}#sk-container-id-1 input.sk-hidden--visually {border: 0;clip: rect(1px 1px 1px 1px);clip: rect(1px, 1px, 1px, 1px);height: 1px;margin: -1px;overflow: hidden;padding: 0;position: absolute;width: 1px;}#sk-container-id-1 div.sk-estimator {font-family: monospace;background-color: #f0f8ff;border: 1px dotted black;border-radius: 0.25em;box-sizing: border-box;margin-bottom: 0.5em;}#sk-container-id-1 div.sk-estimator:hover {background-color: #d4ebff;}#sk-container-id-1 div.sk-parallel-item::after {content: \"\";width: 100%;border-bottom: 1px solid gray;flex-grow: 1;}#sk-container-id-1 div.sk-label:hover label.sk-toggleable__label {background-color: #d4ebff;}#sk-container-id-1 div.sk-serial::before {content: \"\";position: absolute;border-left: 1px solid gray;box-sizing: border-box;top: 0;bottom: 0;left: 50%;z-index: 0;}#sk-container-id-1 div.sk-serial {display: flex;flex-direction: column;align-items: center;background-color: white;padding-right: 0.2em;padding-left: 0.2em;position: relative;}#sk-container-id-1 div.sk-item {position: relative;z-index: 1;}#sk-container-id-1 div.sk-parallel {display: flex;align-items: stretch;justify-content: center;background-color: white;position: relative;}#sk-container-id-1 div.sk-item::before, #sk-container-id-1 div.sk-parallel-item::before {content: \"\";position: absolute;border-left: 1px solid gray;box-sizing: border-box;top: 0;bottom: 0;left: 50%;z-index: -1;}#sk-container-id-1 div.sk-parallel-item {display: flex;flex-direction: column;z-index: 1;position: relative;background-color: white;}#sk-container-id-1 div.sk-parallel-item:first-child::after {align-self: flex-end;width: 50%;}#sk-container-id-1 div.sk-parallel-item:last-child::after {align-self: flex-start;width: 50%;}#sk-container-id-1 div.sk-parallel-item:only-child::after {width: 0;}#sk-container-id-1 div.sk-dashed-wrapped {border: 1px dashed gray;margin: 0 0.4em 0.5em 0.4em;box-sizing: border-box;padding-bottom: 0.4em;background-color: white;}#sk-container-id-1 div.sk-label label {font-family: monospace;font-weight: bold;display: inline-block;line-height: 1.2em;}#sk-container-id-1 div.sk-label-container {text-align: center;}#sk-container-id-1 div.sk-container {/* jupyter's `normalize.less` sets `[hidden] { display: none; }` but bootstrap.min.css set `[hidden] { display: none !important; }` so we also need the `!important` here to be able to override the default hidden behavior on the sphinx rendered scikit-learn.org. See: https://github.com/scikit-learn/scikit-learn/issues/21755 */display: inline-block !important;position: relative;}#sk-container-id-1 div.sk-text-repr-fallback {display: none;}</style><div id=\"sk-container-id-1\" class=\"sk-top-container\"><div class=\"sk-text-repr-fallback\"><pre>GradientBoostingRegressor(random_state=42)</pre><b>In a Jupyter environment, please rerun this cell to show the HTML representation or trust the notebook. <br />On GitHub, the HTML representation is unable to render, please try loading this page with nbviewer.org.</b></div><div class=\"sk-container\" hidden><div class=\"sk-item\"><div class=\"sk-estimator sk-toggleable\"><input class=\"sk-toggleable__control sk-hidden--visually\" id=\"sk-estimator-id-1\" type=\"checkbox\" checked><label for=\"sk-estimator-id-1\" class=\"sk-toggleable__label sk-toggleable__label-arrow\">GradientBoostingRegressor</label><div class=\"sk-toggleable__content\"><pre>GradientBoostingRegressor(random_state=42)</pre></div></div></div></div></div>"
            ],
            "text/plain": [
              "GradientBoostingRegressor(random_state=42)"
            ]
          },
          "execution_count": 20,
          "metadata": {},
          "output_type": "execute_result"
        }
      ],
      "source": [
        "# Instanciando os modelos\n",
        "xgb_reg = XGBRegressor(random_state=42)\n",
        "xgb_reg.fit(X_a_train, y_a_train)\n",
        "\n",
        "rf = RandomForestRegressor(random_state=42)\n",
        "rf.fit(X_a_train, y_a_train)\n",
        "\n",
        "gbr = GradientBoostingRegressor(random_state=42)\n",
        "gbr.fit(X_a_train, y_a_train)\n"
      ]
    },
    {
      "cell_type": "code",
      "execution_count": 21,
      "metadata": {
        "id": "XXj6uWIw0AYR"
      },
      "outputs": [],
      "source": [
        "# Obtendo as predições\n",
        "xgb_pred = xgb_reg.predict(X_a_test)\n",
        "rf_pred = rf.predict(X_a_test)\n",
        "gbr_pred = gbr.predict(X_a_test)"
      ]
    },
    {
      "cell_type": "code",
      "execution_count": 22,
      "metadata": {
        "colab": {
          "base_uri": "https://localhost:8080/",
          "height": 75
        },
        "id": "R_1aGTNb1RLZ",
        "outputId": "79d10d4d-13f5-4b87-da82-a7fb8632872c"
      },
      "outputs": [],
      "source": [
        "# Combinando as predições\n",
        "X_test_meta = np.column_stack((xgb_pred, rf_pred, gbr_pred))"
      ]
    },
    {
      "cell_type": "code",
      "execution_count": 23,
      "metadata": {},
      "outputs": [
        {
          "data": {
            "text/html": [
              "<style>#sk-container-id-2 {color: black;}#sk-container-id-2 pre{padding: 0;}#sk-container-id-2 div.sk-toggleable {background-color: white;}#sk-container-id-2 label.sk-toggleable__label {cursor: pointer;display: block;width: 100%;margin-bottom: 0;padding: 0.3em;box-sizing: border-box;text-align: center;}#sk-container-id-2 label.sk-toggleable__label-arrow:before {content: \"▸\";float: left;margin-right: 0.25em;color: #696969;}#sk-container-id-2 label.sk-toggleable__label-arrow:hover:before {color: black;}#sk-container-id-2 div.sk-estimator:hover label.sk-toggleable__label-arrow:before {color: black;}#sk-container-id-2 div.sk-toggleable__content {max-height: 0;max-width: 0;overflow: hidden;text-align: left;background-color: #f0f8ff;}#sk-container-id-2 div.sk-toggleable__content pre {margin: 0.2em;color: black;border-radius: 0.25em;background-color: #f0f8ff;}#sk-container-id-2 input.sk-toggleable__control:checked~div.sk-toggleable__content {max-height: 200px;max-width: 100%;overflow: auto;}#sk-container-id-2 input.sk-toggleable__control:checked~label.sk-toggleable__label-arrow:before {content: \"▾\";}#sk-container-id-2 div.sk-estimator input.sk-toggleable__control:checked~label.sk-toggleable__label {background-color: #d4ebff;}#sk-container-id-2 div.sk-label input.sk-toggleable__control:checked~label.sk-toggleable__label {background-color: #d4ebff;}#sk-container-id-2 input.sk-hidden--visually {border: 0;clip: rect(1px 1px 1px 1px);clip: rect(1px, 1px, 1px, 1px);height: 1px;margin: -1px;overflow: hidden;padding: 0;position: absolute;width: 1px;}#sk-container-id-2 div.sk-estimator {font-family: monospace;background-color: #f0f8ff;border: 1px dotted black;border-radius: 0.25em;box-sizing: border-box;margin-bottom: 0.5em;}#sk-container-id-2 div.sk-estimator:hover {background-color: #d4ebff;}#sk-container-id-2 div.sk-parallel-item::after {content: \"\";width: 100%;border-bottom: 1px solid gray;flex-grow: 1;}#sk-container-id-2 div.sk-label:hover label.sk-toggleable__label {background-color: #d4ebff;}#sk-container-id-2 div.sk-serial::before {content: \"\";position: absolute;border-left: 1px solid gray;box-sizing: border-box;top: 0;bottom: 0;left: 50%;z-index: 0;}#sk-container-id-2 div.sk-serial {display: flex;flex-direction: column;align-items: center;background-color: white;padding-right: 0.2em;padding-left: 0.2em;position: relative;}#sk-container-id-2 div.sk-item {position: relative;z-index: 1;}#sk-container-id-2 div.sk-parallel {display: flex;align-items: stretch;justify-content: center;background-color: white;position: relative;}#sk-container-id-2 div.sk-item::before, #sk-container-id-2 div.sk-parallel-item::before {content: \"\";position: absolute;border-left: 1px solid gray;box-sizing: border-box;top: 0;bottom: 0;left: 50%;z-index: -1;}#sk-container-id-2 div.sk-parallel-item {display: flex;flex-direction: column;z-index: 1;position: relative;background-color: white;}#sk-container-id-2 div.sk-parallel-item:first-child::after {align-self: flex-end;width: 50%;}#sk-container-id-2 div.sk-parallel-item:last-child::after {align-self: flex-start;width: 50%;}#sk-container-id-2 div.sk-parallel-item:only-child::after {width: 0;}#sk-container-id-2 div.sk-dashed-wrapped {border: 1px dashed gray;margin: 0 0.4em 0.5em 0.4em;box-sizing: border-box;padding-bottom: 0.4em;background-color: white;}#sk-container-id-2 div.sk-label label {font-family: monospace;font-weight: bold;display: inline-block;line-height: 1.2em;}#sk-container-id-2 div.sk-label-container {text-align: center;}#sk-container-id-2 div.sk-container {/* jupyter's `normalize.less` sets `[hidden] { display: none; }` but bootstrap.min.css set `[hidden] { display: none !important; }` so we also need the `!important` here to be able to override the default hidden behavior on the sphinx rendered scikit-learn.org. See: https://github.com/scikit-learn/scikit-learn/issues/21755 */display: inline-block !important;position: relative;}#sk-container-id-2 div.sk-text-repr-fallback {display: none;}</style><div id=\"sk-container-id-2\" class=\"sk-top-container\"><div class=\"sk-text-repr-fallback\"><pre>RandomForestRegressor(random_state=42)</pre><b>In a Jupyter environment, please rerun this cell to show the HTML representation or trust the notebook. <br />On GitHub, the HTML representation is unable to render, please try loading this page with nbviewer.org.</b></div><div class=\"sk-container\" hidden><div class=\"sk-item\"><div class=\"sk-estimator sk-toggleable\"><input class=\"sk-toggleable__control sk-hidden--visually\" id=\"sk-estimator-id-2\" type=\"checkbox\" checked><label for=\"sk-estimator-id-2\" class=\"sk-toggleable__label sk-toggleable__label-arrow\">RandomForestRegressor</label><div class=\"sk-toggleable__content\"><pre>RandomForestRegressor(random_state=42)</pre></div></div></div></div></div>"
            ],
            "text/plain": [
              "RandomForestRegressor(random_state=42)"
            ]
          },
          "execution_count": 23,
          "metadata": {},
          "output_type": "execute_result"
        }
      ],
      "source": [
        "# Treinando o modelo meta\n",
        "meta_model = RandomForestRegressor(random_state=42)\n",
        "meta_model.fit(X_test_meta, y_a_test)"
      ]
    },
    {
      "cell_type": "markdown",
      "metadata": {},
      "source": [
        "### Utilizando a tabela B"
      ]
    },
    {
      "cell_type": "code",
      "execution_count": 24,
      "metadata": {},
      "outputs": [],
      "source": [
        "dados_b.reset_index(inplace=True, drop=True)\n",
        "\n",
        "df_parameters = dados_b.drop(df_final.columns.difference(featuresModels), axis = 1)\n",
        "\n",
        "# Dividindo em X e Y\n",
        "X_b = df_parameters\n",
        "y_b = dados_b['items_sold']"
      ]
    },
    {
      "cell_type": "code",
      "execution_count": 25,
      "metadata": {},
      "outputs": [],
      "source": [
        "#Gerando as predições com os 3 modelos em X_b (dados não vistos antes pelo modelo)\n",
        "xgb_pred_b = xgb_reg.predict(X_b)\n",
        "rf_pred_b = rf.predict(X_b)\n",
        "gbr_pred_b = gbr.predict(X_b)"
      ]
    },
    {
      "cell_type": "code",
      "execution_count": 26,
      "metadata": {},
      "outputs": [],
      "source": [
        "#Juntando as predições\n",
        "X_new_meta = np.column_stack((xgb_pred_b, rf_pred_b, gbr_pred_b))\n",
        "\n",
        "#Gerando a predição com o modelo meta nas melhores colunas dos modelos previstos\n",
        "y_new_pred = meta_model.predict(X_new_meta)\n"
      ]
    },
    {
      "cell_type": "markdown",
      "metadata": {},
      "source": [
        "### Resultados"
      ]
    },
    {
      "cell_type": "code",
      "execution_count": 27,
      "metadata": {},
      "outputs": [
        {
          "name": "stdout",
          "output_type": "stream",
          "text": [
            "Mean Squared Error: 9.158750293938011\n",
            "RMSE: 3.026342725789333\n",
            "R2 score: 0.700956303104392\n"
          ]
        }
      ],
      "source": [
        "#Métrica do Erro Quadrático Médio\n",
        "mse = mean_squared_error(y_b, y_new_pred)\n",
        "print(\"Mean Squared Error:\", mse)\n",
        "\n",
        "#Métrica da Raiz Quadrada do Erro Médio\n",
        "RMSE = np.sqrt(mse)\n",
        "print('RMSE:', RMSE)\n",
        "\n",
        "#Métrica do Coeficiente de Determinação R² score\n",
        "r2 = r2_score(y_b, y_new_pred)\n",
        "print(\"R2 score:\", r2)"
      ]
    },
    {
      "cell_type": "markdown",
      "metadata": {},
      "source": [
        "# Input\n",
        "Nessa seção é realizada a exportação dos modelos, carregamento e a possibilidade de fornecer dados de entrada para as predições."
      ]
    },
    {
      "cell_type": "markdown",
      "metadata": {},
      "source": [
        "### Dump e load"
      ]
    },
    {
      "cell_type": "code",
      "execution_count": 69,
      "metadata": {},
      "outputs": [],
      "source": [
        "# Dump do modelo\n",
        "dump(meta_model, \"meta-model.joblib\")\n",
        "\n",
        "# Dump do rf\n",
        "dump(rf, \"modelo-rf.joblib\")\n",
        "\n",
        "# Dump do gbr\n",
        "dump(gbr, \"modelo-gbr.joblib\")\n",
        "\n",
        "# Dump do xgb\n",
        "dump(xgb_reg, \"modelo-xgb.joblib\")\n",
        "\n",
        "# Sku Encoded\n",
        "dump(encoder_sku, \"ordinal-encoder.joblib\")\n",
        "\n",
        "#Exportando tabela dados_b para .csv\n",
        "dados_b.to_csv('tabela_sku_dict.csv', index=False)"
      ]
    },
    {
      "cell_type": "code",
      "execution_count": 74,
      "metadata": {},
      "outputs": [],
      "source": [
        "\n",
        "modelo = load(\"meta-model.joblib\")\n",
        "\n",
        "modelo_rf = load(\"modelo-rf.joblib\")\n",
        "\n",
        "modelo_gbr = load(\"modelo-gbr.joblib\")\n",
        "\n",
        "modelo_xgb = load(\"modelo-xgb.joblib\")\n",
        "\n",
        "encoder_sku = load('ordinal-encoder.joblib')"
      ]
    },
    {
      "cell_type": "markdown",
      "metadata": {},
      "source": [
        "### Predição"
      ]
    },
    {
      "cell_type": "code",
      "execution_count": 35,
      "metadata": {},
      "outputs": [],
      "source": [
        "# Criando um dicionário com que relaciona os SKUs e suas informações fixas\n",
        "sku_dict = pr.Sku.to_dict(dados_b)"
      ]
    },
    {
      "cell_type": "markdown",
      "metadata": {},
      "source": [
        "A função \"next_days\" definida abaixo faz as previsões com base no input dado. \n",
        "\n",
        "Para alterar o alcance da previsão, é necessário alterar a variável \"input_data\" no bloco a seguir. \n",
        "\n",
        "Deve ser considerado o número exato de dias requeridos.\n",
        "\n",
        "Exemplo:\n",
        "\n",
        "Para conseguir a previsão da próxima semana (7 dias), incluindo a data inicial, deve ser colocado o número 7;\n",
        "\n",
        "Para conseguir a previsão das 2 próximas semanas (14 dias), incluindo a data inicial, deve ser colocado o número 14;\n",
        "\n",
        "Pra conseguir a previsão do próximo mês (de um mês com 30 dias), incluindo a data inicial, deve ser colocado o número 30;\n",
        "\n",
        "Pra conseguir a previsão dos próximos 90 dias, incluindo a data inicial, deve ser colocado o número 90."
      ]
    },
    {
      "cell_type": "code",
      "execution_count": 83,
      "metadata": {},
      "outputs": [],
      "source": [
        "input_data = 2"
      ]
    },
    {
      "cell_type": "code",
      "execution_count": 84,
      "metadata": {},
      "outputs": [],
      "source": [
        "#Função para fazer as previsões com base no input\n",
        "def next_days(sku, start_date_str):\n",
        "    # Convertendo data\n",
        "    start_date = datetime.strptime(start_date_str, '%Y-%m-%d')\n",
        "\n",
        "    # Lista para armazenar as próximas datas\n",
        "    sales_prediction = {}\n",
        "\n",
        "    # Calcula as próximas datas dentro do range\n",
        "    for i in range(0, input_data): \n",
        "        next_date = start_date + timedelta(days=i)\n",
        "        \n",
        "        # Converte o objeto datetime para uma string no formato 'yyyy-MM-dd'\n",
        "        next_date_str = next_date.strftime('%Y-%m-%d')\n",
        "        new_instance = pr.SalesPredictor.create_new_instance(\n",
        "            sku=sku,\n",
        "            sku_dict=sku_dict,\n",
        "            a_date=next_date_str\n",
        "        )\n",
        "\n",
        "        #Cria uma nova instância\n",
        "        new_instance = new_instance.loc[:, ['unit_price', 'sku_length', 'sku_weight',\n",
        "       'avg_website_visits_last_week', 'supplier_delivery_time',\n",
        "       'color_encoded', 'sku_encoded', 'has_stock_encoded', 'ano', 'dia',\n",
        "       'dia_da_semana', 'semana_do_ano', 'dia_do_ano']]\n",
        "        new_instance\n",
        "        \n",
        "        # Faz as predições com os 3 modelos na nova instâcia\n",
        "        pred1 = modelo_rf.predict(new_instance)\n",
        "        pred2 = modelo_gbr.predict(new_instance)\n",
        "        pred3 = modelo_xgb.predict(new_instance)\n",
        "\n",
        "        #Juntando as predições\n",
        "        X_instance = np.column_stack((pred3, pred1, pred2))\n",
        "\n",
        "        #Gerando a predição com o modelo meta nas melhores colunas dos modelos previstos\n",
        "        prediction = modelo.predict(X_instance)\n",
        "        \n",
        "        sales_prediction[next_date_str] = round(prediction[0])\n",
        "\n",
        "    return sales_prediction"
      ]
    },
    {
      "cell_type": "markdown",
      "metadata": {},
      "source": [
        "### Itens totáis vendidos no período"
      ]
    },
    {
      "cell_type": "markdown",
      "metadata": {},
      "source": [
        "Altere o valor da variável abaixo para a data de início que deseja obter as predições.\n",
        "\n",
        "Siga o formato: ano-mês-dia"
      ]
    },
    {
      "cell_type": "code",
      "execution_count": 85,
      "metadata": {},
      "outputs": [],
      "source": [
        "data_inicial = '2023-07-04'"
      ]
    },
    {
      "cell_type": "code",
      "execution_count": 86,
      "metadata": {},
      "outputs": [
        {
          "name": "stdout",
          "output_type": "stream",
          "text": [
            "Total de cada sku vendido durante 1 dia(s), incluindo a data inicial 2023-07-04:\n"
          ]
        },
        {
          "data": {
            "text/html": [
              "<div>\n",
              "<style scoped>\n",
              "    .dataframe tbody tr th:only-of-type {\n",
              "        vertical-align: middle;\n",
              "    }\n",
              "\n",
              "    .dataframe tbody tr th {\n",
              "        vertical-align: top;\n",
              "    }\n",
              "\n",
              "    .dataframe thead th {\n",
              "        text-align: right;\n",
              "    }\n",
              "</style>\n",
              "<table border=\"1\" class=\"dataframe\">\n",
              "  <thead>\n",
              "    <tr style=\"text-align: right;\">\n",
              "      <th></th>\n",
              "      <th>SKU Original</th>\n",
              "      <th>Itens vendidos nos dias informados</th>\n",
              "    </tr>\n",
              "  </thead>\n",
              "  <tbody>\n",
              "    <tr>\n",
              "      <th>0</th>\n",
              "      <td>[[GU364MA69CWSMOB-1076165]]</td>\n",
              "      <td>0</td>\n",
              "    </tr>\n",
              "    <tr>\n",
              "      <th>1</th>\n",
              "      <td>[[MO173CH44RCDMOB-998807]]</td>\n",
              "      <td>0</td>\n",
              "    </tr>\n",
              "    <tr>\n",
              "      <th>2</th>\n",
              "      <td>[[LE761CH61UOWMOB-983937]]</td>\n",
              "      <td>0</td>\n",
              "    </tr>\n",
              "    <tr>\n",
              "      <th>3</th>\n",
              "      <td>[[MA566UP68MFJMOB-943243]]</td>\n",
              "      <td>0</td>\n",
              "    </tr>\n",
              "    <tr>\n",
              "      <th>4</th>\n",
              "      <td>[[ES745UP18PUZMOB-790516]]</td>\n",
              "      <td>0</td>\n",
              "    </tr>\n",
              "    <tr>\n",
              "      <th>...</th>\n",
              "      <td>...</td>\n",
              "      <td>...</td>\n",
              "    </tr>\n",
              "    <tr>\n",
              "      <th>830</th>\n",
              "      <td>[[MO173UP15VAUMOB-742584]]</td>\n",
              "      <td>29</td>\n",
              "    </tr>\n",
              "    <tr>\n",
              "      <th>831</th>\n",
              "      <td>[[RU994CL95WDWMOB-555452]]</td>\n",
              "      <td>69</td>\n",
              "    </tr>\n",
              "    <tr>\n",
              "      <th>832</th>\n",
              "      <td>[[LI582UP22JZHMOB-204089]]</td>\n",
              "      <td>30</td>\n",
              "    </tr>\n",
              "    <tr>\n",
              "      <th>833</th>\n",
              "      <td>[[DE350UP94AFPMOB-592995]]</td>\n",
              "      <td>125</td>\n",
              "    </tr>\n",
              "    <tr>\n",
              "      <th>834</th>\n",
              "      <td>[[RU994CL96WDVMOB-555451]]</td>\n",
              "      <td>123</td>\n",
              "    </tr>\n",
              "  </tbody>\n",
              "</table>\n",
              "<p>835 rows × 2 columns</p>\n",
              "</div>"
            ],
            "text/plain": [
              "                    SKU Original  Itens vendidos nos dias informados\n",
              "0    [[GU364MA69CWSMOB-1076165]]                                   0\n",
              "1     [[MO173CH44RCDMOB-998807]]                                   0\n",
              "2     [[LE761CH61UOWMOB-983937]]                                   0\n",
              "3     [[MA566UP68MFJMOB-943243]]                                   0\n",
              "4     [[ES745UP18PUZMOB-790516]]                                   0\n",
              "..                           ...                                 ...\n",
              "830   [[MO173UP15VAUMOB-742584]]                                  29\n",
              "831   [[RU994CL95WDWMOB-555452]]                                  69\n",
              "832   [[LI582UP22JZHMOB-204089]]                                  30\n",
              "833   [[DE350UP94AFPMOB-592995]]                                 125\n",
              "834   [[RU994CL96WDVMOB-555451]]                                 123\n",
              "\n",
              "[835 rows x 2 columns]"
            ]
          },
          "metadata": {},
          "output_type": "display_data"
        }
      ],
      "source": [
        "soma_total = 0\n",
        "data = []\n",
        "\n",
        "for valor in sku_dict:\n",
        "    # Revertendo o Ordinal Encoder\n",
        "    valor_2d = np.array(valor).reshape(-1, 1)\n",
        "    original_sku = encoder_sku.inverse_transform(valor_2d)\n",
        "\n",
        "    prever = next_days(sku=valor, start_date_str= data_inicial)\n",
        "\n",
        "    soma_dos_valores = sum(prever.values())\n",
        "\n",
        "    # Armazena os dados em uma lista\n",
        "    data.append([original_sku, soma_dos_valores])\n",
        "\n",
        "    soma_total += soma_dos_valores\n",
        "\n",
        "# Cria um DataFrame pandas com os dados\n",
        "print(f'Total de cada sku vendido durante {input_data} dia(s), incluindo a data inicial {data_inicial}:')\n",
        "\n",
        "df_summed = pd.DataFrame(data, columns=['SKU Original', 'Itens vendidos nos dias informados'])\n",
        "\n",
        "display(df_summed)"
      ]
    },
    {
      "cell_type": "markdown",
      "metadata": {},
      "source": [
        "### Itens vendidos em cada dia no período"
      ]
    },
    {
      "cell_type": "markdown",
      "metadata": {},
      "source": [
        "Altere o valor da variável abaixo para a data de início que deseja obter as predições.\n",
        "\n",
        "Siga o formato: ano-mês-dia"
      ]
    },
    {
      "cell_type": "code",
      "execution_count": 87,
      "metadata": {},
      "outputs": [],
      "source": [
        "data_inicial = '2023-07-04'"
      ]
    },
    {
      "cell_type": "code",
      "execution_count": 88,
      "metadata": {},
      "outputs": [],
      "source": [
        "# Cria um dicionário para armazenar as previsões para cada dia\n",
        "predictions_per_day = {}\n",
        "\n",
        "for valor in sku_dict:\n",
        "    # Revertendo o Ordinal Encoder\n",
        "    valor_2d = np.array(valor).reshape(-1, 1)\n",
        "    original_sku = encoder_sku.inverse_transform(valor_2d)\n",
        "\n",
        "    # Fazendo a previsão\n",
        "    prever = next_days(sku=valor, start_date_str=data_inicial)\n",
        "\n",
        "    # Adiciona as previsões ao dicionário\n",
        "    for date, prediction in prever.items():\n",
        "        if date not in predictions_per_day:\n",
        "            predictions_per_day[date] = []\n",
        "        predictions_per_day[date].append((original_sku, prediction))"
      ]
    },
    {
      "cell_type": "code",
      "execution_count": 89,
      "metadata": {},
      "outputs": [
        {
          "name": "stdout",
          "output_type": "stream",
          "text": [
            "Número por dia de vendas de cada sku durante 1 dia(s), incluindo a data inicial 2023-07-04:\n"
          ]
        },
        {
          "data": {
            "text/html": [
              "<div>\n",
              "<style scoped>\n",
              "    .dataframe tbody tr th:only-of-type {\n",
              "        vertical-align: middle;\n",
              "    }\n",
              "\n",
              "    .dataframe tbody tr th {\n",
              "        vertical-align: top;\n",
              "    }\n",
              "\n",
              "    .dataframe thead th {\n",
              "        text-align: right;\n",
              "    }\n",
              "</style>\n",
              "<table border=\"1\" class=\"dataframe\">\n",
              "  <thead>\n",
              "    <tr style=\"text-align: right;\">\n",
              "      <th></th>\n",
              "      <th>Data</th>\n",
              "      <th>SKU</th>\n",
              "      <th>Items Vendidos</th>\n",
              "    </tr>\n",
              "  </thead>\n",
              "  <tbody>\n",
              "    <tr>\n",
              "      <th>0</th>\n",
              "      <td>2023-07-04</td>\n",
              "      <td>[[GU364MA69CWSMOB-1076165]]</td>\n",
              "      <td>0</td>\n",
              "    </tr>\n",
              "    <tr>\n",
              "      <th>1</th>\n",
              "      <td>2023-07-04</td>\n",
              "      <td>[[MO173CH44RCDMOB-998807]]</td>\n",
              "      <td>0</td>\n",
              "    </tr>\n",
              "    <tr>\n",
              "      <th>2</th>\n",
              "      <td>2023-07-04</td>\n",
              "      <td>[[LE761CH61UOWMOB-983937]]</td>\n",
              "      <td>0</td>\n",
              "    </tr>\n",
              "    <tr>\n",
              "      <th>3</th>\n",
              "      <td>2023-07-04</td>\n",
              "      <td>[[MA566UP68MFJMOB-943243]]</td>\n",
              "      <td>0</td>\n",
              "    </tr>\n",
              "    <tr>\n",
              "      <th>4</th>\n",
              "      <td>2023-07-04</td>\n",
              "      <td>[[ES745UP18PUZMOB-790516]]</td>\n",
              "      <td>0</td>\n",
              "    </tr>\n",
              "    <tr>\n",
              "      <th>...</th>\n",
              "      <td>...</td>\n",
              "      <td>...</td>\n",
              "      <td>...</td>\n",
              "    </tr>\n",
              "    <tr>\n",
              "      <th>1665</th>\n",
              "      <td>2023-07-05</td>\n",
              "      <td>[[MO173UP15VAUMOB-742584]]</td>\n",
              "      <td>14</td>\n",
              "    </tr>\n",
              "    <tr>\n",
              "      <th>1666</th>\n",
              "      <td>2023-07-05</td>\n",
              "      <td>[[RU994CL95WDWMOB-555452]]</td>\n",
              "      <td>34</td>\n",
              "    </tr>\n",
              "    <tr>\n",
              "      <th>1667</th>\n",
              "      <td>2023-07-05</td>\n",
              "      <td>[[LI582UP22JZHMOB-204089]]</td>\n",
              "      <td>16</td>\n",
              "    </tr>\n",
              "    <tr>\n",
              "      <th>1668</th>\n",
              "      <td>2023-07-05</td>\n",
              "      <td>[[DE350UP94AFPMOB-592995]]</td>\n",
              "      <td>62</td>\n",
              "    </tr>\n",
              "    <tr>\n",
              "      <th>1669</th>\n",
              "      <td>2023-07-05</td>\n",
              "      <td>[[RU994CL96WDVMOB-555451]]</td>\n",
              "      <td>55</td>\n",
              "    </tr>\n",
              "  </tbody>\n",
              "</table>\n",
              "<p>1670 rows × 3 columns</p>\n",
              "</div>"
            ],
            "text/plain": [
              "            Data                          SKU  Items Vendidos\n",
              "0     2023-07-04  [[GU364MA69CWSMOB-1076165]]               0\n",
              "1     2023-07-04   [[MO173CH44RCDMOB-998807]]               0\n",
              "2     2023-07-04   [[LE761CH61UOWMOB-983937]]               0\n",
              "3     2023-07-04   [[MA566UP68MFJMOB-943243]]               0\n",
              "4     2023-07-04   [[ES745UP18PUZMOB-790516]]               0\n",
              "...          ...                          ...             ...\n",
              "1665  2023-07-05   [[MO173UP15VAUMOB-742584]]              14\n",
              "1666  2023-07-05   [[RU994CL95WDWMOB-555452]]              34\n",
              "1667  2023-07-05   [[LI582UP22JZHMOB-204089]]              16\n",
              "1668  2023-07-05   [[DE350UP94AFPMOB-592995]]              62\n",
              "1669  2023-07-05   [[RU994CL96WDVMOB-555451]]              55\n",
              "\n",
              "[1670 rows x 3 columns]"
            ]
          },
          "metadata": {},
          "output_type": "display_data"
        }
      ],
      "source": [
        "# Cria um DataFrame vazio\n",
        "data = []\n",
        "\n",
        "# Preenchendo o DataFrame com os dados das previsões\n",
        "for date, predictions in sorted(predictions_per_day.items()):\n",
        "    for original_sku, prediction in predictions:\n",
        "        data.append([date, original_sku, prediction])\n",
        "\n",
        "# Criando um DataFrame com os dados\n",
        "df_predictions = pd.DataFrame(data, columns=[\"Data\", \"SKU\", \"Items Vendidos\"])\n",
        "\n",
        "print(f'Número por dia de vendas de cada sku durante {input_data} dia(s), incluindo a data inicial {data_inicial}:')\n",
        "display(df_predictions)"
      ]
    }
  ],
  "metadata": {
    "colab": {
      "provenance": []
    },
    "kernelspec": {
      "display_name": "Python 3",
      "name": "python3"
    },
    "language_info": {
      "codemirror_mode": {
        "name": "ipython",
        "version": 3
      },
      "file_extension": ".py",
      "mimetype": "text/x-python",
      "name": "python",
      "nbconvert_exporter": "python",
      "pygments_lexer": "ipython3",
      "version": "3.11.4"
    }
  },
  "nbformat": 4,
  "nbformat_minor": 0
}
